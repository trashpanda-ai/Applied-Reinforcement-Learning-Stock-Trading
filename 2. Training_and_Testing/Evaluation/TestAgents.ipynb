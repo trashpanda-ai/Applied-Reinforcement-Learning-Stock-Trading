{
 "cells": [
  {
   "cell_type": "code",
   "execution_count": 1,
   "metadata": {
    "collapsed": true
   },
   "outputs": [],
   "source": [
    "import matplotlib.pyplot as plt\n",
    "import numpy as np\n",
    "import pandas as pd\n",
    "from stable_baselines3 import A2C, DDPG, PPO, SAC, TD3\n",
    "\n",
    "from finrl.agents.stablebaselines3.models import DRLAgent\n",
    "from finrl.config import INDICATORS, TRAINED_MODEL_DIR\n",
    "from Envs.env_stocktrading import StockTradingEnv\n",
    "\n",
    "\n",
    "%matplotlib inline"
   ]
  },
  {
   "cell_type": "code",
   "execution_count": 2,
   "outputs": [],
   "source": [
    "INDICATORS.append('vix')"
   ],
   "metadata": {
    "collapsed": false
   }
  },
  {
   "cell_type": "code",
   "execution_count": 3,
   "outputs": [],
   "source": [
    "hourly = True\n",
    "sentiment = True\n",
    "smoothed = False\n",
    "seed = 0\n",
    "\n",
    "path = ''\n",
    "model_path = ''\n",
    "model_name = f\"seed{seed}\"\n",
    "SENTIMENT = []"
   ],
   "metadata": {
    "collapsed": false
   }
  },
  {
   "cell_type": "code",
   "execution_count": 4,
   "outputs": [],
   "source": [
    "if_using_a2c = True\n",
    "if_using_ddpg = False\n",
    "if_using_ppo = False\n",
    "if_using_td3 = False\n",
    "if_using_sac = False"
   ],
   "metadata": {
    "collapsed": false
   }
  },
  {
   "cell_type": "markdown",
   "source": [
    "Load Datafile"
   ],
   "metadata": {
    "collapsed": false
   }
  },
  {
   "cell_type": "code",
   "execution_count": 5,
   "outputs": [],
   "source": [
    "def prep(train):\n",
    "    # Sort the DataFrame by the 'date' column\n",
    "    train = train.sort_values(by='date')\n",
    "\n",
    "    # Create a mapping of unique dates to their corresponding index\n",
    "    date_mapping = {date: idx for idx, date in enumerate(train['date'].unique())}\n",
    "\n",
    "    # Map the 'date' column to the date_mapping to get the new index\n",
    "    train['index'] = train['date'].map(date_mapping)\n",
    "\n",
    "    # Set the new index for the DataFrame\n",
    "    train.set_index('index', inplace=True, drop=True)\n",
    "    train = train.fillna(0)\n",
    "    return train"
   ],
   "metadata": {
    "collapsed": false
   }
  },
  {
   "cell_type": "code",
   "execution_count": 6,
   "outputs": [],
   "source": [
    "if hourly:\n",
    "    if smoothed:\n",
    "        path = 'data/hourly/smoothed_testing_data_complete.csv'\n",
    "        if sentiment:\n",
    "            model_path =  'model/hourly/geglättetSentiment'\n",
    "            SENTIMENT = ['stocktwitsPosts', 'stocktwitsLikes', 'stocktwitsImpressions', 'stocktwitsSentiment', 'random']\n",
    "        else:\n",
    "            model_path = 'model/hourly/geglättetNoSentiment'\n",
    "            SENTIMENT = ['random']\n",
    "    else:\n",
    "        path = 'data/hourly/testing_data_complete.csv'\n",
    "        if sentiment:\n",
    "            model_path = 'model/hourly/withSentiment'\n",
    "            SENTIMENT = ['stocktwitsPosts', 'stocktwitsLikes', 'stocktwitsImpressions', 'stocktwitsSentiment', 'random']\n",
    "        else:\n",
    "            model_path = 'model/hourly/noSentiment'\n",
    "            SENTIMENT = ['random']\n",
    "else:\n",
    "    if smoothed:\n",
    "        path = ''\n",
    "        if sentiment:\n",
    "            model_path = ''\n",
    "            SENTIMENT = ['stocktwitsPosts', 'stocktwitsLikes', 'stocktwitsImpressions', 'stocktwitsSentiment', 'random']\n",
    "        else:\n",
    "            model_path = ''\n",
    "            SENTIMENT = ['random']\n",
    "    else:\n",
    "        path = ''\n",
    "        if sentiment:\n",
    "            model_path = ''\n",
    "            SENTIMENT = ['stocktwitsPosts', 'stocktwitsLikes', 'stocktwitsImpressions', 'stocktwitsSentiment', 'random']\n",
    "        else:\n",
    "            model_path = ''\n",
    "            SENTIMENT = ['random']\n"
   ],
   "metadata": {
    "collapsed": false
   }
  },
  {
   "cell_type": "code",
   "execution_count": 7,
   "outputs": [
    {
     "name": "stdout",
     "output_type": "stream",
     "text": [
      "['stocktwitsPosts', 'stocktwitsLikes', 'stocktwitsImpressions', 'stocktwitsSentiment', 'random']\n"
     ]
    }
   ],
   "source": [
    "#trade = pd.read_csv(path)\n",
    "trade = pd.read_csv('training_data_complete.csv')\n",
    "trade = prep(trade)\n",
    "print(SENTIMENT)"
   ],
   "metadata": {
    "collapsed": false
   }
  },
  {
   "cell_type": "markdown",
   "source": [
    "Load the agents"
   ],
   "metadata": {
    "collapsed": false
   }
  },
  {
   "cell_type": "code",
   "execution_count": 8,
   "outputs": [],
   "source": [
    "trained_a2c = A2C.load(model_path + f\"/a2c/{model_name}\") if if_using_a2c else None\n",
    "trained_ddpg = DDPG.load(model_path + f\"/ddpg/{model_name}\") if if_using_ddpg else None\n",
    "trained_ppo = PPO.load(model_path + f\"/ppo/{model_name}\") if if_using_ppo else None\n",
    "trained_td3 = TD3.load(model_path + f\"/td3/{model_name}\") if if_using_td3 else None\n",
    "trained_sac = SAC.load(model_path + f\"/sac/{model_name}\") if if_using_sac else None"
   ],
   "metadata": {
    "collapsed": false
   }
  },
  {
   "cell_type": "code",
   "execution_count": 9,
   "outputs": [
    {
     "name": "stdout",
     "output_type": "stream",
     "text": [
      "Stock Dimension: 30, State Space: 541\n"
     ]
    }
   ],
   "source": [
    "stock_dimension = len(trade.tic.unique())\n",
    "state_space = 1 + 4 * stock_dimension + len(INDICATORS) * stock_dimension + len(SENTIMENT) * stock_dimension\n",
    "print(f\"Stock Dimension: {stock_dimension}, State Space: {state_space}\")"
   ],
   "metadata": {
    "collapsed": false
   }
  },
  {
   "cell_type": "code",
   "execution_count": 10,
   "outputs": [],
   "source": [
    "buy_cost_list = sell_cost_list = [0.001] * stock_dimension\n",
    "num_stock_shares = [0] * stock_dimension\n",
    "\n",
    "env_kwargs = {\n",
    "    \"hmax\": 100,\n",
    "    \"initial_amount\": 1000000,\n",
    "    \"num_stock_shares\": num_stock_shares,\n",
    "    \"buy_cost_pct\": buy_cost_list,\n",
    "    \"sell_cost_pct\": sell_cost_list,\n",
    "    \"state_space\": state_space,\n",
    "    \"stock_dim\": stock_dimension,\n",
    "    \"tech_indicator_list\": INDICATORS,\n",
    "    \"sentiment_list\": SENTIMENT,\n",
    "    \"action_space\": stock_dimension,\n",
    "    \"reward_scaling\": 1e-4,\n",
    "    \"seed\": seed,\n",
    "}\n",
    "e_trade_gym = StockTradingEnv(df=trade, risk_indicator_col='vix', **env_kwargs)"
   ],
   "metadata": {
    "collapsed": false
   }
  },
  {
   "cell_type": "code",
   "execution_count": 11,
   "outputs": [
    {
     "ename": "ValueError",
     "evalue": "Error: Unexpected observation shape (1, 541) for Box environment, please use (391,) or (n_env, 391) for the observation shape.",
     "output_type": "error",
     "traceback": [
      "\u001B[0;31m---------------------------------------------------------------------------\u001B[0m",
      "\u001B[0;31mValueError\u001B[0m                                Traceback (most recent call last)",
      "Cell \u001B[0;32mIn[11], line 1\u001B[0m\n\u001B[0;32m----> 1\u001B[0m df_account_value_a2c, df_actions_a2c \u001B[38;5;241m=\u001B[39m \u001B[43mDRLAgent\u001B[49m\u001B[38;5;241;43m.\u001B[39;49m\u001B[43mDRL_prediction\u001B[49m\u001B[43m(\u001B[49m\n\u001B[1;32m      2\u001B[0m \u001B[43m    \u001B[49m\u001B[43mmodel\u001B[49m\u001B[38;5;241;43m=\u001B[39;49m\u001B[43mtrained_a2c\u001B[49m\u001B[43m,\u001B[49m\n\u001B[1;32m      3\u001B[0m \u001B[43m    \u001B[49m\u001B[43menvironment\u001B[49m\u001B[43m \u001B[49m\u001B[38;5;241;43m=\u001B[39;49m\u001B[43m \u001B[49m\u001B[43me_trade_gym\u001B[49m\u001B[43m)\u001B[49m \u001B[38;5;28;01mif\u001B[39;00m if_using_a2c \u001B[38;5;28;01melse\u001B[39;00m (\u001B[38;5;28;01mNone\u001B[39;00m, \u001B[38;5;28;01mNone\u001B[39;00m)\n",
      "File \u001B[0;32m~/Desktop/stock/lib/python3.10/site-packages/finrl/agents/stablebaselines3/models.py:119\u001B[0m, in \u001B[0;36mDRLAgent.DRL_prediction\u001B[0;34m(model, environment, deterministic)\u001B[0m\n\u001B[1;32m    117\u001B[0m test_env\u001B[38;5;241m.\u001B[39mreset()\n\u001B[1;32m    118\u001B[0m \u001B[38;5;28;01mfor\u001B[39;00m i \u001B[38;5;129;01min\u001B[39;00m \u001B[38;5;28mrange\u001B[39m(\u001B[38;5;28mlen\u001B[39m(environment\u001B[38;5;241m.\u001B[39mdf\u001B[38;5;241m.\u001B[39mindex\u001B[38;5;241m.\u001B[39munique())):\n\u001B[0;32m--> 119\u001B[0m     action, _states \u001B[38;5;241m=\u001B[39m \u001B[43mmodel\u001B[49m\u001B[38;5;241;43m.\u001B[39;49m\u001B[43mpredict\u001B[49m\u001B[43m(\u001B[49m\u001B[43mtest_obs\u001B[49m\u001B[43m,\u001B[49m\u001B[43m \u001B[49m\u001B[43mdeterministic\u001B[49m\u001B[38;5;241;43m=\u001B[39;49m\u001B[43mdeterministic\u001B[49m\u001B[43m)\u001B[49m\n\u001B[1;32m    120\u001B[0m     \u001B[38;5;66;03m# account_memory = test_env.env_method(method_name=\"save_asset_memory\")\u001B[39;00m\n\u001B[1;32m    121\u001B[0m     \u001B[38;5;66;03m# actions_memory = test_env.env_method(method_name=\"save_action_memory\")\u001B[39;00m\n\u001B[1;32m    122\u001B[0m     test_obs, rewards, dones, info \u001B[38;5;241m=\u001B[39m test_env\u001B[38;5;241m.\u001B[39mstep(action)\n",
      "File \u001B[0;32m~/Desktop/stock/lib/python3.10/site-packages/stable_baselines3/common/base_class.py:555\u001B[0m, in \u001B[0;36mBaseAlgorithm.predict\u001B[0;34m(self, observation, state, episode_start, deterministic)\u001B[0m\n\u001B[1;32m    535\u001B[0m \u001B[38;5;28;01mdef\u001B[39;00m \u001B[38;5;21mpredict\u001B[39m(\n\u001B[1;32m    536\u001B[0m     \u001B[38;5;28mself\u001B[39m,\n\u001B[1;32m    537\u001B[0m     observation: Union[np\u001B[38;5;241m.\u001B[39mndarray, Dict[\u001B[38;5;28mstr\u001B[39m, np\u001B[38;5;241m.\u001B[39mndarray]],\n\u001B[0;32m   (...)\u001B[0m\n\u001B[1;32m    540\u001B[0m     deterministic: \u001B[38;5;28mbool\u001B[39m \u001B[38;5;241m=\u001B[39m \u001B[38;5;28;01mFalse\u001B[39;00m,\n\u001B[1;32m    541\u001B[0m ) \u001B[38;5;241m-\u001B[39m\u001B[38;5;241m>\u001B[39m Tuple[np\u001B[38;5;241m.\u001B[39mndarray, Optional[Tuple[np\u001B[38;5;241m.\u001B[39mndarray, \u001B[38;5;241m.\u001B[39m\u001B[38;5;241m.\u001B[39m\u001B[38;5;241m.\u001B[39m]]]:\n\u001B[1;32m    542\u001B[0m \u001B[38;5;250m    \u001B[39m\u001B[38;5;124;03m\"\"\"\u001B[39;00m\n\u001B[1;32m    543\u001B[0m \u001B[38;5;124;03m    Get the policy action from an observation (and optional hidden state).\u001B[39;00m\n\u001B[1;32m    544\u001B[0m \u001B[38;5;124;03m    Includes sugar-coating to handle different observations (e.g. normalizing images).\u001B[39;00m\n\u001B[0;32m   (...)\u001B[0m\n\u001B[1;32m    553\u001B[0m \u001B[38;5;124;03m        (used in recurrent policies)\u001B[39;00m\n\u001B[1;32m    554\u001B[0m \u001B[38;5;124;03m    \"\"\"\u001B[39;00m\n\u001B[0;32m--> 555\u001B[0m     \u001B[38;5;28;01mreturn\u001B[39;00m \u001B[38;5;28;43mself\u001B[39;49m\u001B[38;5;241;43m.\u001B[39;49m\u001B[43mpolicy\u001B[49m\u001B[38;5;241;43m.\u001B[39;49m\u001B[43mpredict\u001B[49m\u001B[43m(\u001B[49m\u001B[43mobservation\u001B[49m\u001B[43m,\u001B[49m\u001B[43m \u001B[49m\u001B[43mstate\u001B[49m\u001B[43m,\u001B[49m\u001B[43m \u001B[49m\u001B[43mepisode_start\u001B[49m\u001B[43m,\u001B[49m\u001B[43m \u001B[49m\u001B[43mdeterministic\u001B[49m\u001B[43m)\u001B[49m\n",
      "File \u001B[0;32m~/Desktop/stock/lib/python3.10/site-packages/stable_baselines3/common/policies.py:346\u001B[0m, in \u001B[0;36mBasePolicy.predict\u001B[0;34m(self, observation, state, episode_start, deterministic)\u001B[0m\n\u001B[1;32m    343\u001B[0m \u001B[38;5;66;03m# Switch to eval mode (this affects batch norm / dropout)\u001B[39;00m\n\u001B[1;32m    344\u001B[0m \u001B[38;5;28mself\u001B[39m\u001B[38;5;241m.\u001B[39mset_training_mode(\u001B[38;5;28;01mFalse\u001B[39;00m)\n\u001B[0;32m--> 346\u001B[0m observation, vectorized_env \u001B[38;5;241m=\u001B[39m \u001B[38;5;28;43mself\u001B[39;49m\u001B[38;5;241;43m.\u001B[39;49m\u001B[43mobs_to_tensor\u001B[49m\u001B[43m(\u001B[49m\u001B[43mobservation\u001B[49m\u001B[43m)\u001B[49m\n\u001B[1;32m    348\u001B[0m \u001B[38;5;28;01mwith\u001B[39;00m th\u001B[38;5;241m.\u001B[39mno_grad():\n\u001B[1;32m    349\u001B[0m     actions \u001B[38;5;241m=\u001B[39m \u001B[38;5;28mself\u001B[39m\u001B[38;5;241m.\u001B[39m_predict(observation, deterministic\u001B[38;5;241m=\u001B[39mdeterministic)\n",
      "File \u001B[0;32m~/Desktop/stock/lib/python3.10/site-packages/stable_baselines3/common/policies.py:264\u001B[0m, in \u001B[0;36mBaseModel.obs_to_tensor\u001B[0;34m(self, observation)\u001B[0m\n\u001B[1;32m    260\u001B[0m     observation \u001B[38;5;241m=\u001B[39m np\u001B[38;5;241m.\u001B[39marray(observation)\n\u001B[1;32m    262\u001B[0m \u001B[38;5;28;01mif\u001B[39;00m \u001B[38;5;129;01mnot\u001B[39;00m \u001B[38;5;28misinstance\u001B[39m(observation, \u001B[38;5;28mdict\u001B[39m):\n\u001B[1;32m    263\u001B[0m     \u001B[38;5;66;03m# Dict obs need to be handled separately\u001B[39;00m\n\u001B[0;32m--> 264\u001B[0m     vectorized_env \u001B[38;5;241m=\u001B[39m \u001B[43mis_vectorized_observation\u001B[49m\u001B[43m(\u001B[49m\u001B[43mobservation\u001B[49m\u001B[43m,\u001B[49m\u001B[43m \u001B[49m\u001B[38;5;28;43mself\u001B[39;49m\u001B[38;5;241;43m.\u001B[39;49m\u001B[43mobservation_space\u001B[49m\u001B[43m)\u001B[49m\n\u001B[1;32m    265\u001B[0m     \u001B[38;5;66;03m# Add batch dimension if needed\u001B[39;00m\n\u001B[1;32m    266\u001B[0m     observation \u001B[38;5;241m=\u001B[39m observation\u001B[38;5;241m.\u001B[39mreshape((\u001B[38;5;241m-\u001B[39m\u001B[38;5;241m1\u001B[39m, \u001B[38;5;241m*\u001B[39m\u001B[38;5;28mself\u001B[39m\u001B[38;5;241m.\u001B[39mobservation_space\u001B[38;5;241m.\u001B[39mshape))\n",
      "File \u001B[0;32m~/Desktop/stock/lib/python3.10/site-packages/stable_baselines3/common/utils.py:399\u001B[0m, in \u001B[0;36mis_vectorized_observation\u001B[0;34m(observation, observation_space)\u001B[0m\n\u001B[1;32m    397\u001B[0m \u001B[38;5;28;01mfor\u001B[39;00m space_type, is_vec_obs_func \u001B[38;5;129;01min\u001B[39;00m is_vec_obs_func_dict\u001B[38;5;241m.\u001B[39mitems():\n\u001B[1;32m    398\u001B[0m     \u001B[38;5;28;01mif\u001B[39;00m \u001B[38;5;28misinstance\u001B[39m(observation_space, space_type):\n\u001B[0;32m--> 399\u001B[0m         \u001B[38;5;28;01mreturn\u001B[39;00m \u001B[43mis_vec_obs_func\u001B[49m\u001B[43m(\u001B[49m\u001B[43mobservation\u001B[49m\u001B[43m,\u001B[49m\u001B[43m \u001B[49m\u001B[43mobservation_space\u001B[49m\u001B[43m)\u001B[49m\n\u001B[1;32m    400\u001B[0m \u001B[38;5;28;01melse\u001B[39;00m:\n\u001B[1;32m    401\u001B[0m     \u001B[38;5;66;03m# for-else happens if no break is called\u001B[39;00m\n\u001B[1;32m    402\u001B[0m     \u001B[38;5;28;01mraise\u001B[39;00m \u001B[38;5;167;01mValueError\u001B[39;00m(\u001B[38;5;124mf\u001B[39m\u001B[38;5;124m\"\u001B[39m\u001B[38;5;124mError: Cannot determine if the observation is vectorized with the space type \u001B[39m\u001B[38;5;132;01m{\u001B[39;00mobservation_space\u001B[38;5;132;01m}\u001B[39;00m\u001B[38;5;124m.\u001B[39m\u001B[38;5;124m\"\u001B[39m)\n",
      "File \u001B[0;32m~/Desktop/stock/lib/python3.10/site-packages/stable_baselines3/common/utils.py:266\u001B[0m, in \u001B[0;36mis_vectorized_box_observation\u001B[0;34m(observation, observation_space)\u001B[0m\n\u001B[1;32m    264\u001B[0m     \u001B[38;5;28;01mreturn\u001B[39;00m \u001B[38;5;28;01mTrue\u001B[39;00m\n\u001B[1;32m    265\u001B[0m \u001B[38;5;28;01melse\u001B[39;00m:\n\u001B[0;32m--> 266\u001B[0m     \u001B[38;5;28;01mraise\u001B[39;00m \u001B[38;5;167;01mValueError\u001B[39;00m(\n\u001B[1;32m    267\u001B[0m         \u001B[38;5;124mf\u001B[39m\u001B[38;5;124m\"\u001B[39m\u001B[38;5;124mError: Unexpected observation shape \u001B[39m\u001B[38;5;132;01m{\u001B[39;00mobservation\u001B[38;5;241m.\u001B[39mshape\u001B[38;5;132;01m}\u001B[39;00m\u001B[38;5;124m for \u001B[39m\u001B[38;5;124m\"\u001B[39m\n\u001B[1;32m    268\u001B[0m         \u001B[38;5;241m+\u001B[39m \u001B[38;5;124mf\u001B[39m\u001B[38;5;124m\"\u001B[39m\u001B[38;5;124mBox environment, please use \u001B[39m\u001B[38;5;132;01m{\u001B[39;00mobservation_space\u001B[38;5;241m.\u001B[39mshape\u001B[38;5;132;01m}\u001B[39;00m\u001B[38;5;124m \u001B[39m\u001B[38;5;124m\"\u001B[39m\n\u001B[1;32m    269\u001B[0m         \u001B[38;5;241m+\u001B[39m \u001B[38;5;124m\"\u001B[39m\u001B[38;5;124mor (n_env, \u001B[39m\u001B[38;5;132;01m{}\u001B[39;00m\u001B[38;5;124m) for the observation shape.\u001B[39m\u001B[38;5;124m\"\u001B[39m\u001B[38;5;241m.\u001B[39mformat(\u001B[38;5;124m\"\u001B[39m\u001B[38;5;124m, \u001B[39m\u001B[38;5;124m\"\u001B[39m\u001B[38;5;241m.\u001B[39mjoin(\u001B[38;5;28mmap\u001B[39m(\u001B[38;5;28mstr\u001B[39m, observation_space\u001B[38;5;241m.\u001B[39mshape)))\n\u001B[1;32m    270\u001B[0m     )\n",
      "\u001B[0;31mValueError\u001B[0m: Error: Unexpected observation shape (1, 541) for Box environment, please use (391,) or (n_env, 391) for the observation shape."
     ]
    }
   ],
   "source": [
    "df_account_value_a2c, df_actions_a2c = DRLAgent.DRL_prediction(\n",
    "    model=trained_a2c,\n",
    "    environment = e_trade_gym) if if_using_a2c else (None, None)"
   ],
   "metadata": {
    "collapsed": false
   }
  },
  {
   "cell_type": "code",
   "execution_count": null,
   "outputs": [],
   "source": [
    "df_account_value_ddpg, df_actions_ddpg = DRLAgent.DRL_prediction(\n",
    "    model=trained_ddpg,\n",
    "    environment = e_trade_gym) if if_using_ddpg else (None, None)"
   ],
   "metadata": {
    "collapsed": false
   }
  },
  {
   "cell_type": "code",
   "execution_count": null,
   "outputs": [],
   "source": [
    "df_account_value_ppo, df_actions_ppo = DRLAgent.DRL_prediction(\n",
    "    model=trained_ppo,\n",
    "    environment = e_trade_gym) if if_using_ppo else (None, None)"
   ],
   "metadata": {
    "collapsed": false
   }
  },
  {
   "cell_type": "code",
   "execution_count": null,
   "outputs": [],
   "source": [
    "df_account_value_td3, df_actions_td3 = DRLAgent.DRL_prediction(\n",
    "    model=trained_td3,\n",
    "    environment = e_trade_gym) if if_using_td3 else (None, None)"
   ],
   "metadata": {
    "collapsed": false
   }
  },
  {
   "cell_type": "code",
   "execution_count": null,
   "outputs": [],
   "source": [
    "df_account_value_sac, df_actions_sac = DRLAgent.DRL_prediction(\n",
    "    model=trained_sac,\n",
    "    environment = e_trade_gym) if if_using_sac else (None, None)"
   ],
   "metadata": {
    "collapsed": false
   }
  },
  {
   "cell_type": "code",
   "execution_count": null,
   "outputs": [],
   "source": [
    "df_result_a2c = (\n",
    "    df_account_value_a2c.set_index(df_account_value_a2c.columns[0])\n",
    "    if if_using_a2c\n",
    "    else None\n",
    ")\n",
    "df_result_ddpg = (\n",
    "    df_account_value_ddpg.set_index(df_account_value_ddpg.columns[0])\n",
    "    if if_using_ddpg\n",
    "    else None\n",
    ")\n",
    "df_result_ppo = (\n",
    "    df_account_value_ppo.set_index(df_account_value_ppo.columns[0])\n",
    "    if if_using_ppo\n",
    "    else None\n",
    ")\n",
    "df_result_td3 = (\n",
    "    df_account_value_td3.set_index(df_account_value_td3.columns[0])\n",
    "    if if_using_td3\n",
    "    else None\n",
    ")\n",
    "df_result_sac = (\n",
    "    df_account_value_sac.set_index(df_account_value_sac.columns[0])\n",
    "    if if_using_sac\n",
    "    else None\n",
    ")\n",
    "\n",
    "result = pd.DataFrame(\n",
    "    {\n",
    "        \"a2c\": df_result_a2c[\"account_value\"] if if_using_a2c else None,\n",
    "        \"ddpg\": df_result_ddpg[\"account_value\"] if if_using_ddpg else None,\n",
    "        \"ppo\": df_result_ppo[\"account_value\"] if if_using_ppo else None,\n",
    "        \"td3\": df_result_td3[\"account_value\"] if if_using_td3 else None,\n",
    "        \"sac\": df_result_sac[\"account_value\"] if if_using_sac else None,\n",
    "    }\n",
    ")"
   ],
   "metadata": {
    "collapsed": false
   }
  },
  {
   "cell_type": "code",
   "execution_count": null,
   "outputs": [],
   "source": [
    "result"
   ],
   "metadata": {
    "collapsed": false
   }
  },
  {
   "cell_type": "code",
   "execution_count": null,
   "outputs": [],
   "source": [
    "plt.rcParams[\"figure.figsize\"] = (15,5)\n",
    "plt.figure()\n",
    "result.plot()"
   ],
   "metadata": {
    "collapsed": false
   }
  }
 ],
 "metadata": {
  "kernelspec": {
   "display_name": "Python 3",
   "language": "python",
   "name": "python3"
  },
  "language_info": {
   "codemirror_mode": {
    "name": "ipython",
    "version": 2
   },
   "file_extension": ".py",
   "mimetype": "text/x-python",
   "name": "python",
   "nbconvert_exporter": "python",
   "pygments_lexer": "ipython2",
   "version": "2.7.6"
  }
 },
 "nbformat": 4,
 "nbformat_minor": 0
}
