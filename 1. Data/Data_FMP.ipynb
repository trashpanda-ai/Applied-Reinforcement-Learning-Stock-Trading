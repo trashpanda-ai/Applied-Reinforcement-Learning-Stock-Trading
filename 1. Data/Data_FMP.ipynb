{
 "cells": [
  {
   "cell_type": "markdown",
   "id": "d7919430",
   "metadata": {},
   "source": [
    "### FMP Downloader"
   ]
  },
  {
   "cell_type": "code",
   "execution_count": 2,
   "id": "db5960cc",
   "metadata": {
    "ExecuteTime": {
     "end_time": "2023-09-03T10:49:23.985933400Z",
     "start_time": "2023-09-03T10:49:23.954564100Z"
    }
   },
   "outputs": [],
   "source": [
    "import time\n",
    "import pandas as pd"
   ]
  },
  {
   "cell_type": "code",
   "execution_count": 3,
   "outputs": [],
   "source": [
    "best_stocks = ['NVDA', 'DIS', 'KO',  'MO', 'BABA', 'MA', 'V', 'JPM', 'PG',  'TSM', 'FB', 'TSLA', 'GOOGL', 'AMZN', 'MSFT', 'AAPL']\n",
    "# 'IBM',\n",
    "# 'ORCL',\n",
    "# 'LVMUY'\n",
    "#, 'UNH'\n",
    "#, 'RHHBY'\n",
    "#, 'HD'\n",
    "# QCOM\n",
    "# NSRGY\n",
    "# 'BRK.B',\n",
    "#'KRX:005930',\n",
    "# 'WMT',\n",
    "# 'TCEHY',"
   ],
   "metadata": {
    "collapsed": false,
    "ExecuteTime": {
     "end_time": "2023-09-03T10:49:26.775390500Z",
     "start_time": "2023-09-03T10:49:26.740043400Z"
    }
   },
   "id": "3ef841e1436712ca"
  },
  {
   "cell_type": "code",
   "execution_count": 4,
   "outputs": [
    {
     "data": {
      "text/plain": "['NVDA',\n 'DIS',\n 'KO',\n 'INTC',\n 'MO',\n 'BABA',\n 'MA',\n 'V',\n 'JPM',\n 'XOM',\n 'PG',\n 'TSM',\n 'JNJ',\n 'FB',\n 'TSLA',\n 'GOOGL',\n 'AMZN',\n 'MSFT',\n 'AAPL']"
     },
     "execution_count": 4,
     "metadata": {},
     "output_type": "execute_result"
    }
   ],
   "source": [
    "best_stocks"
   ],
   "metadata": {
    "collapsed": false,
    "ExecuteTime": {
     "end_time": "2023-09-03T10:49:27.900130100Z",
     "start_time": "2023-09-03T10:49:27.820598800Z"
    }
   },
   "id": "d5f506cdc9a27dc6"
  },
  {
   "cell_type": "code",
   "execution_count": 5,
   "id": "cc9cc501",
   "metadata": {
    "ExecuteTime": {
     "end_time": "2023-09-03T10:49:29.467259200Z",
     "start_time": "2023-09-03T10:49:29.418084100Z"
    }
   },
   "outputs": [],
   "source": [
    "try:\n",
    "    # For Python 3.0 and later\n",
    "    from urllib.request import urlopen\n",
    "except ImportError:\n",
    "    # Fall back to Python 2's urllib2\n",
    "    from urllib2 import urlopen\n",
    "\n",
    "import certifi\n",
    "import json\n",
    "\n",
    "def get_jsonparsed_data(url):\n",
    "    \"\"\"\n",
    "    Receive the content of ``url``, parse it as JSON and return the object.\n",
    "\n",
    "    Parameters\n",
    "    ----------\n",
    "    url : str\n",
    "\n",
    "    Returns\n",
    "    -------\n",
    "    dict\n",
    "    \"\"\"\n",
    "    response = urlopen(url, cafile=certifi.where())\n",
    "    data = response.read().decode(\"utf-8\")\n",
    "    return json.loads(data)"
   ]
  },
  {
   "cell_type": "code",
   "execution_count": 252,
   "outputs": [],
   "source": [
    "df = pd.DataFrame()"
   ],
   "metadata": {
    "collapsed": false,
    "ExecuteTime": {
     "end_time": "2023-09-01T11:43:11.425517Z",
     "start_time": "2023-09-01T11:43:11.412650400Z"
    }
   },
   "id": "15c2ca2446228236"
  },
  {
   "cell_type": "code",
   "execution_count": 253,
   "outputs": [
    {
     "name": "stdout",
     "output_type": "stream",
     "text": [
      "AAPL\n"
     ]
    }
   ],
   "source": [
    "index = 18\n",
    "tick = best_stocks[index]\n",
    "print(tick)"
   ],
   "metadata": {
    "collapsed": false,
    "ExecuteTime": {
     "end_time": "2023-09-01T11:43:17.339724100Z",
     "start_time": "2023-09-01T11:43:17.307222900Z"
    }
   },
   "id": "9b8dc1433f3acb51"
  },
  {
   "cell_type": "code",
   "execution_count": 247,
   "outputs": [
    {
     "name": "stdout",
     "output_type": "stream",
     "text": [
      "0\n"
     ]
    },
    {
     "name": "stderr",
     "output_type": "stream",
     "text": [
      "C:\\Users\\potap\\AppData\\Local\\Temp\\ipykernel_12888\\4006040750.py:23: DeprecationWarning: cafile, capath and cadefault are deprecated, use a custom context instead.\n",
      "  response = urlopen(url, cafile=certifi.where())\n"
     ]
    },
    {
     "name": "stdout",
     "output_type": "stream",
     "text": [
      "1\n"
     ]
    },
    {
     "name": "stderr",
     "output_type": "stream",
     "text": [
      "C:\\Users\\potap\\AppData\\Local\\Temp\\ipykernel_12888\\4006040750.py:23: DeprecationWarning: cafile, capath and cadefault are deprecated, use a custom context instead.\n",
      "  response = urlopen(url, cafile=certifi.where())\n"
     ]
    },
    {
     "name": "stdout",
     "output_type": "stream",
     "text": [
      "2\n"
     ]
    },
    {
     "name": "stderr",
     "output_type": "stream",
     "text": [
      "C:\\Users\\potap\\AppData\\Local\\Temp\\ipykernel_12888\\4006040750.py:23: DeprecationWarning: cafile, capath and cadefault are deprecated, use a custom context instead.\n",
      "  response = urlopen(url, cafile=certifi.where())\n"
     ]
    },
    {
     "name": "stdout",
     "output_type": "stream",
     "text": [
      "3\n"
     ]
    },
    {
     "name": "stderr",
     "output_type": "stream",
     "text": [
      "C:\\Users\\potap\\AppData\\Local\\Temp\\ipykernel_12888\\4006040750.py:23: DeprecationWarning: cafile, capath and cadefault are deprecated, use a custom context instead.\n",
      "  response = urlopen(url, cafile=certifi.where())\n"
     ]
    },
    {
     "name": "stdout",
     "output_type": "stream",
     "text": [
      "4\n"
     ]
    },
    {
     "name": "stderr",
     "output_type": "stream",
     "text": [
      "C:\\Users\\potap\\AppData\\Local\\Temp\\ipykernel_12888\\4006040750.py:23: DeprecationWarning: cafile, capath and cadefault are deprecated, use a custom context instead.\n",
      "  response = urlopen(url, cafile=certifi.where())\n"
     ]
    },
    {
     "name": "stdout",
     "output_type": "stream",
     "text": [
      "5\n"
     ]
    },
    {
     "name": "stderr",
     "output_type": "stream",
     "text": [
      "C:\\Users\\potap\\AppData\\Local\\Temp\\ipykernel_12888\\4006040750.py:23: DeprecationWarning: cafile, capath and cadefault are deprecated, use a custom context instead.\n",
      "  response = urlopen(url, cafile=certifi.where())\n"
     ]
    },
    {
     "ename": "KeyboardInterrupt",
     "evalue": "",
     "output_type": "error",
     "traceback": [
      "\u001B[1;31m---------------------------------------------------------------------------\u001B[0m",
      "\u001B[1;31mKeyboardInterrupt\u001B[0m                         Traceback (most recent call last)",
      "Cell \u001B[1;32mIn[247], line 5\u001B[0m\n\u001B[0;32m      3\u001B[0m url \u001B[38;5;241m=\u001B[39m \u001B[38;5;124mf\u001B[39m\u001B[38;5;124m'\u001B[39m\u001B[38;5;124mhttps://financialmodelingprep.com/api/v4/historical/social-sentiment?symbol=\u001B[39m\u001B[38;5;132;01m{\u001B[39;00mtick\u001B[38;5;132;01m}\u001B[39;00m\u001B[38;5;124m&page=\u001B[39m\u001B[38;5;132;01m{\u001B[39;00mpage\u001B[38;5;132;01m}\u001B[39;00m\u001B[38;5;124m&apikey=e708ff02e4e41eb0af3b96ca26e2bca2\u001B[39m\u001B[38;5;124m'\u001B[39m \n\u001B[0;32m      4\u001B[0m url \u001B[38;5;241m=\u001B[39m (url)\n\u001B[1;32m----> 5\u001B[0m data \u001B[38;5;241m=\u001B[39m \u001B[43mget_jsonparsed_data\u001B[49m\u001B[43m(\u001B[49m\u001B[43murl\u001B[49m\u001B[43m)\u001B[49m\n\u001B[0;32m      6\u001B[0m data \u001B[38;5;241m=\u001B[39m pd\u001B[38;5;241m.\u001B[39mDataFrame(data)\n\u001B[0;32m      7\u001B[0m df \u001B[38;5;241m=\u001B[39m df\u001B[38;5;241m.\u001B[39m_append(data)\n",
      "Cell \u001B[1;32mIn[244], line 23\u001B[0m, in \u001B[0;36mget_jsonparsed_data\u001B[1;34m(url)\u001B[0m\n\u001B[0;32m     11\u001B[0m \u001B[38;5;28;01mdef\u001B[39;00m \u001B[38;5;21mget_jsonparsed_data\u001B[39m(url):\n\u001B[0;32m     12\u001B[0m \u001B[38;5;250m    \u001B[39m\u001B[38;5;124;03m\"\"\"\u001B[39;00m\n\u001B[0;32m     13\u001B[0m \u001B[38;5;124;03m    Receive the content of ``url``, parse it as JSON and return the object.\u001B[39;00m\n\u001B[0;32m     14\u001B[0m \n\u001B[1;32m   (...)\u001B[0m\n\u001B[0;32m     21\u001B[0m \u001B[38;5;124;03m    dict\u001B[39;00m\n\u001B[0;32m     22\u001B[0m \u001B[38;5;124;03m    \"\"\"\u001B[39;00m\n\u001B[1;32m---> 23\u001B[0m     response \u001B[38;5;241m=\u001B[39m \u001B[43murlopen\u001B[49m\u001B[43m(\u001B[49m\u001B[43murl\u001B[49m\u001B[43m,\u001B[49m\u001B[43m \u001B[49m\u001B[43mcafile\u001B[49m\u001B[38;5;241;43m=\u001B[39;49m\u001B[43mcertifi\u001B[49m\u001B[38;5;241;43m.\u001B[39;49m\u001B[43mwhere\u001B[49m\u001B[43m(\u001B[49m\u001B[43m)\u001B[49m\u001B[43m)\u001B[49m\n\u001B[0;32m     24\u001B[0m     data \u001B[38;5;241m=\u001B[39m response\u001B[38;5;241m.\u001B[39mread()\u001B[38;5;241m.\u001B[39mdecode(\u001B[38;5;124m\"\u001B[39m\u001B[38;5;124mutf-8\u001B[39m\u001B[38;5;124m\"\u001B[39m)\n\u001B[0;32m     25\u001B[0m     \u001B[38;5;28;01mreturn\u001B[39;00m json\u001B[38;5;241m.\u001B[39mloads(data)\n",
      "File \u001B[1;32m~\\AppData\\Local\\Programs\\Python\\Python310\\lib\\urllib\\request.py:216\u001B[0m, in \u001B[0;36murlopen\u001B[1;34m(url, data, timeout, cafile, capath, cadefault, context)\u001B[0m\n\u001B[0;32m    214\u001B[0m \u001B[38;5;28;01melse\u001B[39;00m:\n\u001B[0;32m    215\u001B[0m     opener \u001B[38;5;241m=\u001B[39m _opener\n\u001B[1;32m--> 216\u001B[0m \u001B[38;5;28;01mreturn\u001B[39;00m \u001B[43mopener\u001B[49m\u001B[38;5;241;43m.\u001B[39;49m\u001B[43mopen\u001B[49m\u001B[43m(\u001B[49m\u001B[43murl\u001B[49m\u001B[43m,\u001B[49m\u001B[43m \u001B[49m\u001B[43mdata\u001B[49m\u001B[43m,\u001B[49m\u001B[43m \u001B[49m\u001B[43mtimeout\u001B[49m\u001B[43m)\u001B[49m\n",
      "File \u001B[1;32m~\\AppData\\Local\\Programs\\Python\\Python310\\lib\\urllib\\request.py:519\u001B[0m, in \u001B[0;36mOpenerDirector.open\u001B[1;34m(self, fullurl, data, timeout)\u001B[0m\n\u001B[0;32m    516\u001B[0m     req \u001B[38;5;241m=\u001B[39m meth(req)\n\u001B[0;32m    518\u001B[0m sys\u001B[38;5;241m.\u001B[39maudit(\u001B[38;5;124m'\u001B[39m\u001B[38;5;124murllib.Request\u001B[39m\u001B[38;5;124m'\u001B[39m, req\u001B[38;5;241m.\u001B[39mfull_url, req\u001B[38;5;241m.\u001B[39mdata, req\u001B[38;5;241m.\u001B[39mheaders, req\u001B[38;5;241m.\u001B[39mget_method())\n\u001B[1;32m--> 519\u001B[0m response \u001B[38;5;241m=\u001B[39m \u001B[38;5;28;43mself\u001B[39;49m\u001B[38;5;241;43m.\u001B[39;49m\u001B[43m_open\u001B[49m\u001B[43m(\u001B[49m\u001B[43mreq\u001B[49m\u001B[43m,\u001B[49m\u001B[43m \u001B[49m\u001B[43mdata\u001B[49m\u001B[43m)\u001B[49m\n\u001B[0;32m    521\u001B[0m \u001B[38;5;66;03m# post-process response\u001B[39;00m\n\u001B[0;32m    522\u001B[0m meth_name \u001B[38;5;241m=\u001B[39m protocol\u001B[38;5;241m+\u001B[39m\u001B[38;5;124m\"\u001B[39m\u001B[38;5;124m_response\u001B[39m\u001B[38;5;124m\"\u001B[39m\n",
      "File \u001B[1;32m~\\AppData\\Local\\Programs\\Python\\Python310\\lib\\urllib\\request.py:536\u001B[0m, in \u001B[0;36mOpenerDirector._open\u001B[1;34m(self, req, data)\u001B[0m\n\u001B[0;32m    533\u001B[0m     \u001B[38;5;28;01mreturn\u001B[39;00m result\n\u001B[0;32m    535\u001B[0m protocol \u001B[38;5;241m=\u001B[39m req\u001B[38;5;241m.\u001B[39mtype\n\u001B[1;32m--> 536\u001B[0m result \u001B[38;5;241m=\u001B[39m \u001B[38;5;28;43mself\u001B[39;49m\u001B[38;5;241;43m.\u001B[39;49m\u001B[43m_call_chain\u001B[49m\u001B[43m(\u001B[49m\u001B[38;5;28;43mself\u001B[39;49m\u001B[38;5;241;43m.\u001B[39;49m\u001B[43mhandle_open\u001B[49m\u001B[43m,\u001B[49m\u001B[43m \u001B[49m\u001B[43mprotocol\u001B[49m\u001B[43m,\u001B[49m\u001B[43m \u001B[49m\u001B[43mprotocol\u001B[49m\u001B[43m \u001B[49m\u001B[38;5;241;43m+\u001B[39;49m\n\u001B[0;32m    537\u001B[0m \u001B[43m                          \u001B[49m\u001B[38;5;124;43m'\u001B[39;49m\u001B[38;5;124;43m_open\u001B[39;49m\u001B[38;5;124;43m'\u001B[39;49m\u001B[43m,\u001B[49m\u001B[43m \u001B[49m\u001B[43mreq\u001B[49m\u001B[43m)\u001B[49m\n\u001B[0;32m    538\u001B[0m \u001B[38;5;28;01mif\u001B[39;00m result:\n\u001B[0;32m    539\u001B[0m     \u001B[38;5;28;01mreturn\u001B[39;00m result\n",
      "File \u001B[1;32m~\\AppData\\Local\\Programs\\Python\\Python310\\lib\\urllib\\request.py:496\u001B[0m, in \u001B[0;36mOpenerDirector._call_chain\u001B[1;34m(self, chain, kind, meth_name, *args)\u001B[0m\n\u001B[0;32m    494\u001B[0m \u001B[38;5;28;01mfor\u001B[39;00m handler \u001B[38;5;129;01min\u001B[39;00m handlers:\n\u001B[0;32m    495\u001B[0m     func \u001B[38;5;241m=\u001B[39m \u001B[38;5;28mgetattr\u001B[39m(handler, meth_name)\n\u001B[1;32m--> 496\u001B[0m     result \u001B[38;5;241m=\u001B[39m \u001B[43mfunc\u001B[49m\u001B[43m(\u001B[49m\u001B[38;5;241;43m*\u001B[39;49m\u001B[43margs\u001B[49m\u001B[43m)\u001B[49m\n\u001B[0;32m    497\u001B[0m     \u001B[38;5;28;01mif\u001B[39;00m result \u001B[38;5;129;01mis\u001B[39;00m \u001B[38;5;129;01mnot\u001B[39;00m \u001B[38;5;28;01mNone\u001B[39;00m:\n\u001B[0;32m    498\u001B[0m         \u001B[38;5;28;01mreturn\u001B[39;00m result\n",
      "File \u001B[1;32m~\\AppData\\Local\\Programs\\Python\\Python310\\lib\\urllib\\request.py:1391\u001B[0m, in \u001B[0;36mHTTPSHandler.https_open\u001B[1;34m(self, req)\u001B[0m\n\u001B[0;32m   1390\u001B[0m \u001B[38;5;28;01mdef\u001B[39;00m \u001B[38;5;21mhttps_open\u001B[39m(\u001B[38;5;28mself\u001B[39m, req):\n\u001B[1;32m-> 1391\u001B[0m     \u001B[38;5;28;01mreturn\u001B[39;00m \u001B[38;5;28;43mself\u001B[39;49m\u001B[38;5;241;43m.\u001B[39;49m\u001B[43mdo_open\u001B[49m\u001B[43m(\u001B[49m\u001B[43mhttp\u001B[49m\u001B[38;5;241;43m.\u001B[39;49m\u001B[43mclient\u001B[49m\u001B[38;5;241;43m.\u001B[39;49m\u001B[43mHTTPSConnection\u001B[49m\u001B[43m,\u001B[49m\u001B[43m \u001B[49m\u001B[43mreq\u001B[49m\u001B[43m,\u001B[49m\n\u001B[0;32m   1392\u001B[0m \u001B[43m        \u001B[49m\u001B[43mcontext\u001B[49m\u001B[38;5;241;43m=\u001B[39;49m\u001B[38;5;28;43mself\u001B[39;49m\u001B[38;5;241;43m.\u001B[39;49m\u001B[43m_context\u001B[49m\u001B[43m,\u001B[49m\u001B[43m \u001B[49m\u001B[43mcheck_hostname\u001B[49m\u001B[38;5;241;43m=\u001B[39;49m\u001B[38;5;28;43mself\u001B[39;49m\u001B[38;5;241;43m.\u001B[39;49m\u001B[43m_check_hostname\u001B[49m\u001B[43m)\u001B[49m\n",
      "File \u001B[1;32m~\\AppData\\Local\\Programs\\Python\\Python310\\lib\\urllib\\request.py:1348\u001B[0m, in \u001B[0;36mAbstractHTTPHandler.do_open\u001B[1;34m(self, http_class, req, **http_conn_args)\u001B[0m\n\u001B[0;32m   1346\u001B[0m \u001B[38;5;28;01mtry\u001B[39;00m:\n\u001B[0;32m   1347\u001B[0m     \u001B[38;5;28;01mtry\u001B[39;00m:\n\u001B[1;32m-> 1348\u001B[0m         \u001B[43mh\u001B[49m\u001B[38;5;241;43m.\u001B[39;49m\u001B[43mrequest\u001B[49m\u001B[43m(\u001B[49m\u001B[43mreq\u001B[49m\u001B[38;5;241;43m.\u001B[39;49m\u001B[43mget_method\u001B[49m\u001B[43m(\u001B[49m\u001B[43m)\u001B[49m\u001B[43m,\u001B[49m\u001B[43m \u001B[49m\u001B[43mreq\u001B[49m\u001B[38;5;241;43m.\u001B[39;49m\u001B[43mselector\u001B[49m\u001B[43m,\u001B[49m\u001B[43m \u001B[49m\u001B[43mreq\u001B[49m\u001B[38;5;241;43m.\u001B[39;49m\u001B[43mdata\u001B[49m\u001B[43m,\u001B[49m\u001B[43m \u001B[49m\u001B[43mheaders\u001B[49m\u001B[43m,\u001B[49m\n\u001B[0;32m   1349\u001B[0m \u001B[43m                  \u001B[49m\u001B[43mencode_chunked\u001B[49m\u001B[38;5;241;43m=\u001B[39;49m\u001B[43mreq\u001B[49m\u001B[38;5;241;43m.\u001B[39;49m\u001B[43mhas_header\u001B[49m\u001B[43m(\u001B[49m\u001B[38;5;124;43m'\u001B[39;49m\u001B[38;5;124;43mTransfer-encoding\u001B[39;49m\u001B[38;5;124;43m'\u001B[39;49m\u001B[43m)\u001B[49m\u001B[43m)\u001B[49m\n\u001B[0;32m   1350\u001B[0m     \u001B[38;5;28;01mexcept\u001B[39;00m \u001B[38;5;167;01mOSError\u001B[39;00m \u001B[38;5;28;01mas\u001B[39;00m err: \u001B[38;5;66;03m# timeout error\u001B[39;00m\n\u001B[0;32m   1351\u001B[0m         \u001B[38;5;28;01mraise\u001B[39;00m URLError(err)\n",
      "File \u001B[1;32m~\\AppData\\Local\\Programs\\Python\\Python310\\lib\\http\\client.py:1282\u001B[0m, in \u001B[0;36mHTTPConnection.request\u001B[1;34m(self, method, url, body, headers, encode_chunked)\u001B[0m\n\u001B[0;32m   1279\u001B[0m \u001B[38;5;28;01mdef\u001B[39;00m \u001B[38;5;21mrequest\u001B[39m(\u001B[38;5;28mself\u001B[39m, method, url, body\u001B[38;5;241m=\u001B[39m\u001B[38;5;28;01mNone\u001B[39;00m, headers\u001B[38;5;241m=\u001B[39m{}, \u001B[38;5;241m*\u001B[39m,\n\u001B[0;32m   1280\u001B[0m             encode_chunked\u001B[38;5;241m=\u001B[39m\u001B[38;5;28;01mFalse\u001B[39;00m):\n\u001B[0;32m   1281\u001B[0m \u001B[38;5;250m    \u001B[39m\u001B[38;5;124;03m\"\"\"Send a complete request to the server.\"\"\"\u001B[39;00m\n\u001B[1;32m-> 1282\u001B[0m     \u001B[38;5;28;43mself\u001B[39;49m\u001B[38;5;241;43m.\u001B[39;49m\u001B[43m_send_request\u001B[49m\u001B[43m(\u001B[49m\u001B[43mmethod\u001B[49m\u001B[43m,\u001B[49m\u001B[43m \u001B[49m\u001B[43murl\u001B[49m\u001B[43m,\u001B[49m\u001B[43m \u001B[49m\u001B[43mbody\u001B[49m\u001B[43m,\u001B[49m\u001B[43m \u001B[49m\u001B[43mheaders\u001B[49m\u001B[43m,\u001B[49m\u001B[43m \u001B[49m\u001B[43mencode_chunked\u001B[49m\u001B[43m)\u001B[49m\n",
      "File \u001B[1;32m~\\AppData\\Local\\Programs\\Python\\Python310\\lib\\http\\client.py:1328\u001B[0m, in \u001B[0;36mHTTPConnection._send_request\u001B[1;34m(self, method, url, body, headers, encode_chunked)\u001B[0m\n\u001B[0;32m   1324\u001B[0m \u001B[38;5;28;01mif\u001B[39;00m \u001B[38;5;28misinstance\u001B[39m(body, \u001B[38;5;28mstr\u001B[39m):\n\u001B[0;32m   1325\u001B[0m     \u001B[38;5;66;03m# RFC 2616 Section 3.7.1 says that text default has a\u001B[39;00m\n\u001B[0;32m   1326\u001B[0m     \u001B[38;5;66;03m# default charset of iso-8859-1.\u001B[39;00m\n\u001B[0;32m   1327\u001B[0m     body \u001B[38;5;241m=\u001B[39m _encode(body, \u001B[38;5;124m'\u001B[39m\u001B[38;5;124mbody\u001B[39m\u001B[38;5;124m'\u001B[39m)\n\u001B[1;32m-> 1328\u001B[0m \u001B[38;5;28;43mself\u001B[39;49m\u001B[38;5;241;43m.\u001B[39;49m\u001B[43mendheaders\u001B[49m\u001B[43m(\u001B[49m\u001B[43mbody\u001B[49m\u001B[43m,\u001B[49m\u001B[43m \u001B[49m\u001B[43mencode_chunked\u001B[49m\u001B[38;5;241;43m=\u001B[39;49m\u001B[43mencode_chunked\u001B[49m\u001B[43m)\u001B[49m\n",
      "File \u001B[1;32m~\\AppData\\Local\\Programs\\Python\\Python310\\lib\\http\\client.py:1277\u001B[0m, in \u001B[0;36mHTTPConnection.endheaders\u001B[1;34m(self, message_body, encode_chunked)\u001B[0m\n\u001B[0;32m   1275\u001B[0m \u001B[38;5;28;01melse\u001B[39;00m:\n\u001B[0;32m   1276\u001B[0m     \u001B[38;5;28;01mraise\u001B[39;00m CannotSendHeader()\n\u001B[1;32m-> 1277\u001B[0m \u001B[38;5;28;43mself\u001B[39;49m\u001B[38;5;241;43m.\u001B[39;49m\u001B[43m_send_output\u001B[49m\u001B[43m(\u001B[49m\u001B[43mmessage_body\u001B[49m\u001B[43m,\u001B[49m\u001B[43m \u001B[49m\u001B[43mencode_chunked\u001B[49m\u001B[38;5;241;43m=\u001B[39;49m\u001B[43mencode_chunked\u001B[49m\u001B[43m)\u001B[49m\n",
      "File \u001B[1;32m~\\AppData\\Local\\Programs\\Python\\Python310\\lib\\http\\client.py:1037\u001B[0m, in \u001B[0;36mHTTPConnection._send_output\u001B[1;34m(self, message_body, encode_chunked)\u001B[0m\n\u001B[0;32m   1035\u001B[0m msg \u001B[38;5;241m=\u001B[39m \u001B[38;5;124mb\u001B[39m\u001B[38;5;124m\"\u001B[39m\u001B[38;5;130;01m\\r\u001B[39;00m\u001B[38;5;130;01m\\n\u001B[39;00m\u001B[38;5;124m\"\u001B[39m\u001B[38;5;241m.\u001B[39mjoin(\u001B[38;5;28mself\u001B[39m\u001B[38;5;241m.\u001B[39m_buffer)\n\u001B[0;32m   1036\u001B[0m \u001B[38;5;28;01mdel\u001B[39;00m \u001B[38;5;28mself\u001B[39m\u001B[38;5;241m.\u001B[39m_buffer[:]\n\u001B[1;32m-> 1037\u001B[0m \u001B[38;5;28;43mself\u001B[39;49m\u001B[38;5;241;43m.\u001B[39;49m\u001B[43msend\u001B[49m\u001B[43m(\u001B[49m\u001B[43mmsg\u001B[49m\u001B[43m)\u001B[49m\n\u001B[0;32m   1039\u001B[0m \u001B[38;5;28;01mif\u001B[39;00m message_body \u001B[38;5;129;01mis\u001B[39;00m \u001B[38;5;129;01mnot\u001B[39;00m \u001B[38;5;28;01mNone\u001B[39;00m:\n\u001B[0;32m   1040\u001B[0m \n\u001B[0;32m   1041\u001B[0m     \u001B[38;5;66;03m# create a consistent interface to message_body\u001B[39;00m\n\u001B[0;32m   1042\u001B[0m     \u001B[38;5;28;01mif\u001B[39;00m \u001B[38;5;28mhasattr\u001B[39m(message_body, \u001B[38;5;124m'\u001B[39m\u001B[38;5;124mread\u001B[39m\u001B[38;5;124m'\u001B[39m):\n\u001B[0;32m   1043\u001B[0m         \u001B[38;5;66;03m# Let file-like take precedence over byte-like.  This\u001B[39;00m\n\u001B[0;32m   1044\u001B[0m         \u001B[38;5;66;03m# is needed to allow the current position of mmap'ed\u001B[39;00m\n\u001B[0;32m   1045\u001B[0m         \u001B[38;5;66;03m# files to be taken into account.\u001B[39;00m\n",
      "File \u001B[1;32m~\\AppData\\Local\\Programs\\Python\\Python310\\lib\\http\\client.py:975\u001B[0m, in \u001B[0;36mHTTPConnection.send\u001B[1;34m(self, data)\u001B[0m\n\u001B[0;32m    973\u001B[0m \u001B[38;5;28;01mif\u001B[39;00m \u001B[38;5;28mself\u001B[39m\u001B[38;5;241m.\u001B[39msock \u001B[38;5;129;01mis\u001B[39;00m \u001B[38;5;28;01mNone\u001B[39;00m:\n\u001B[0;32m    974\u001B[0m     \u001B[38;5;28;01mif\u001B[39;00m \u001B[38;5;28mself\u001B[39m\u001B[38;5;241m.\u001B[39mauto_open:\n\u001B[1;32m--> 975\u001B[0m         \u001B[38;5;28;43mself\u001B[39;49m\u001B[38;5;241;43m.\u001B[39;49m\u001B[43mconnect\u001B[49m\u001B[43m(\u001B[49m\u001B[43m)\u001B[49m\n\u001B[0;32m    976\u001B[0m     \u001B[38;5;28;01melse\u001B[39;00m:\n\u001B[0;32m    977\u001B[0m         \u001B[38;5;28;01mraise\u001B[39;00m NotConnected()\n",
      "File \u001B[1;32m~\\AppData\\Local\\Programs\\Python\\Python310\\lib\\http\\client.py:1454\u001B[0m, in \u001B[0;36mHTTPSConnection.connect\u001B[1;34m(self)\u001B[0m\n\u001B[0;32m   1451\u001B[0m \u001B[38;5;28;01melse\u001B[39;00m:\n\u001B[0;32m   1452\u001B[0m     server_hostname \u001B[38;5;241m=\u001B[39m \u001B[38;5;28mself\u001B[39m\u001B[38;5;241m.\u001B[39mhost\n\u001B[1;32m-> 1454\u001B[0m \u001B[38;5;28mself\u001B[39m\u001B[38;5;241m.\u001B[39msock \u001B[38;5;241m=\u001B[39m \u001B[38;5;28;43mself\u001B[39;49m\u001B[38;5;241;43m.\u001B[39;49m\u001B[43m_context\u001B[49m\u001B[38;5;241;43m.\u001B[39;49m\u001B[43mwrap_socket\u001B[49m\u001B[43m(\u001B[49m\u001B[38;5;28;43mself\u001B[39;49m\u001B[38;5;241;43m.\u001B[39;49m\u001B[43msock\u001B[49m\u001B[43m,\u001B[49m\n\u001B[0;32m   1455\u001B[0m \u001B[43m                                      \u001B[49m\u001B[43mserver_hostname\u001B[49m\u001B[38;5;241;43m=\u001B[39;49m\u001B[43mserver_hostname\u001B[49m\u001B[43m)\u001B[49m\n",
      "File \u001B[1;32m~\\AppData\\Local\\Programs\\Python\\Python310\\lib\\ssl.py:513\u001B[0m, in \u001B[0;36mSSLContext.wrap_socket\u001B[1;34m(self, sock, server_side, do_handshake_on_connect, suppress_ragged_eofs, server_hostname, session)\u001B[0m\n\u001B[0;32m    507\u001B[0m \u001B[38;5;28;01mdef\u001B[39;00m \u001B[38;5;21mwrap_socket\u001B[39m(\u001B[38;5;28mself\u001B[39m, sock, server_side\u001B[38;5;241m=\u001B[39m\u001B[38;5;28;01mFalse\u001B[39;00m,\n\u001B[0;32m    508\u001B[0m                 do_handshake_on_connect\u001B[38;5;241m=\u001B[39m\u001B[38;5;28;01mTrue\u001B[39;00m,\n\u001B[0;32m    509\u001B[0m                 suppress_ragged_eofs\u001B[38;5;241m=\u001B[39m\u001B[38;5;28;01mTrue\u001B[39;00m,\n\u001B[0;32m    510\u001B[0m                 server_hostname\u001B[38;5;241m=\u001B[39m\u001B[38;5;28;01mNone\u001B[39;00m, session\u001B[38;5;241m=\u001B[39m\u001B[38;5;28;01mNone\u001B[39;00m):\n\u001B[0;32m    511\u001B[0m     \u001B[38;5;66;03m# SSLSocket class handles server_hostname encoding before it calls\u001B[39;00m\n\u001B[0;32m    512\u001B[0m     \u001B[38;5;66;03m# ctx._wrap_socket()\u001B[39;00m\n\u001B[1;32m--> 513\u001B[0m     \u001B[38;5;28;01mreturn\u001B[39;00m \u001B[38;5;28;43mself\u001B[39;49m\u001B[38;5;241;43m.\u001B[39;49m\u001B[43msslsocket_class\u001B[49m\u001B[38;5;241;43m.\u001B[39;49m\u001B[43m_create\u001B[49m\u001B[43m(\u001B[49m\n\u001B[0;32m    514\u001B[0m \u001B[43m        \u001B[49m\u001B[43msock\u001B[49m\u001B[38;5;241;43m=\u001B[39;49m\u001B[43msock\u001B[49m\u001B[43m,\u001B[49m\n\u001B[0;32m    515\u001B[0m \u001B[43m        \u001B[49m\u001B[43mserver_side\u001B[49m\u001B[38;5;241;43m=\u001B[39;49m\u001B[43mserver_side\u001B[49m\u001B[43m,\u001B[49m\n\u001B[0;32m    516\u001B[0m \u001B[43m        \u001B[49m\u001B[43mdo_handshake_on_connect\u001B[49m\u001B[38;5;241;43m=\u001B[39;49m\u001B[43mdo_handshake_on_connect\u001B[49m\u001B[43m,\u001B[49m\n\u001B[0;32m    517\u001B[0m \u001B[43m        \u001B[49m\u001B[43msuppress_ragged_eofs\u001B[49m\u001B[38;5;241;43m=\u001B[39;49m\u001B[43msuppress_ragged_eofs\u001B[49m\u001B[43m,\u001B[49m\n\u001B[0;32m    518\u001B[0m \u001B[43m        \u001B[49m\u001B[43mserver_hostname\u001B[49m\u001B[38;5;241;43m=\u001B[39;49m\u001B[43mserver_hostname\u001B[49m\u001B[43m,\u001B[49m\n\u001B[0;32m    519\u001B[0m \u001B[43m        \u001B[49m\u001B[43mcontext\u001B[49m\u001B[38;5;241;43m=\u001B[39;49m\u001B[38;5;28;43mself\u001B[39;49m\u001B[43m,\u001B[49m\n\u001B[0;32m    520\u001B[0m \u001B[43m        \u001B[49m\u001B[43msession\u001B[49m\u001B[38;5;241;43m=\u001B[39;49m\u001B[43msession\u001B[49m\n\u001B[0;32m    521\u001B[0m \u001B[43m    \u001B[49m\u001B[43m)\u001B[49m\n",
      "File \u001B[1;32m~\\AppData\\Local\\Programs\\Python\\Python310\\lib\\ssl.py:1071\u001B[0m, in \u001B[0;36mSSLSocket._create\u001B[1;34m(cls, sock, server_side, do_handshake_on_connect, suppress_ragged_eofs, server_hostname, context, session)\u001B[0m\n\u001B[0;32m   1068\u001B[0m         \u001B[38;5;28;01mif\u001B[39;00m timeout \u001B[38;5;241m==\u001B[39m \u001B[38;5;241m0.0\u001B[39m:\n\u001B[0;32m   1069\u001B[0m             \u001B[38;5;66;03m# non-blocking\u001B[39;00m\n\u001B[0;32m   1070\u001B[0m             \u001B[38;5;28;01mraise\u001B[39;00m \u001B[38;5;167;01mValueError\u001B[39;00m(\u001B[38;5;124m\"\u001B[39m\u001B[38;5;124mdo_handshake_on_connect should not be specified for non-blocking sockets\u001B[39m\u001B[38;5;124m\"\u001B[39m)\n\u001B[1;32m-> 1071\u001B[0m         \u001B[38;5;28;43mself\u001B[39;49m\u001B[38;5;241;43m.\u001B[39;49m\u001B[43mdo_handshake\u001B[49m\u001B[43m(\u001B[49m\u001B[43m)\u001B[49m\n\u001B[0;32m   1072\u001B[0m \u001B[38;5;28;01mexcept\u001B[39;00m (\u001B[38;5;167;01mOSError\u001B[39;00m, \u001B[38;5;167;01mValueError\u001B[39;00m):\n\u001B[0;32m   1073\u001B[0m     \u001B[38;5;28mself\u001B[39m\u001B[38;5;241m.\u001B[39mclose()\n",
      "File \u001B[1;32m~\\AppData\\Local\\Programs\\Python\\Python310\\lib\\ssl.py:1342\u001B[0m, in \u001B[0;36mSSLSocket.do_handshake\u001B[1;34m(self, block)\u001B[0m\n\u001B[0;32m   1340\u001B[0m     \u001B[38;5;28;01mif\u001B[39;00m timeout \u001B[38;5;241m==\u001B[39m \u001B[38;5;241m0.0\u001B[39m \u001B[38;5;129;01mand\u001B[39;00m block:\n\u001B[0;32m   1341\u001B[0m         \u001B[38;5;28mself\u001B[39m\u001B[38;5;241m.\u001B[39msettimeout(\u001B[38;5;28;01mNone\u001B[39;00m)\n\u001B[1;32m-> 1342\u001B[0m     \u001B[38;5;28;43mself\u001B[39;49m\u001B[38;5;241;43m.\u001B[39;49m\u001B[43m_sslobj\u001B[49m\u001B[38;5;241;43m.\u001B[39;49m\u001B[43mdo_handshake\u001B[49m\u001B[43m(\u001B[49m\u001B[43m)\u001B[49m\n\u001B[0;32m   1343\u001B[0m \u001B[38;5;28;01mfinally\u001B[39;00m:\n\u001B[0;32m   1344\u001B[0m     \u001B[38;5;28mself\u001B[39m\u001B[38;5;241m.\u001B[39msettimeout(timeout)\n",
      "\u001B[1;31mKeyboardInterrupt\u001B[0m: "
     ]
    }
   ],
   "source": [
    "for page in range(155): # there are up to 155 pages for the most researched stocks \n",
    "    print(page)\n",
    "    url = f'https://financialmodelingprep.com/api/v4/historical/social-sentiment?symbol={tick}&page={page}&apikey=e708ff02e4e41eb0af3b96ca26e2bca2' \n",
    "    url = (url)\n",
    "    data = get_jsonparsed_data(url)\n",
    "    data = pd.DataFrame(data)\n",
    "    df = df._append(data)"
   ],
   "metadata": {
    "collapsed": false,
    "ExecuteTime": {
     "end_time": "2023-09-01T11:39:07.309510400Z",
     "start_time": "2023-09-01T11:38:40.731729400Z"
    }
   },
   "id": "81c1c028637ec4f2"
  },
  {
   "cell_type": "code",
   "execution_count": 237,
   "outputs": [
    {
     "data": {
      "text/plain": "                   date symbol  stocktwitsPosts  twitterPosts  \\\n0   2023-09-01 10:00:00   AAPL               10             0   \n1   2023-09-01 09:00:00   AAPL                7             0   \n2   2023-09-01 08:00:00   AAPL                6             0   \n3   2023-09-01 07:00:00   AAPL                5             0   \n4   2023-09-01 06:00:00   AAPL                4             0   \n..                  ...    ...              ...           ...   \n93  2021-11-20 14:00:00   AAPL               17            38   \n94  2021-11-20 13:00:00   AAPL                9            20   \n95  2021-11-20 12:00:00   AAPL                7            19   \n96  2021-11-20 11:00:00   AAPL                5            12   \n97  2021-11-20 10:00:00   AAPL                2            15   \n\n    stocktwitsComments  twitterComments  stocktwitsLikes  twitterLikes  \\\n0                    1                0                4             0   \n1                    1                0                6             0   \n2                    0                0                0             0   \n3                    1                0                4             0   \n4                    2                0                3             0   \n..                 ...              ...              ...           ...   \n93                   6               62                7           719   \n94                   2              112               33          1336   \n95                   1              124                0          1666   \n96                   0               33                0           281   \n97                   0              366                0          5051   \n\n    stocktwitsImpressions  twitterImpressions stocktwitsSentiment  \\\n0                   50248                   0                 0.0   \n1                   20362                   0              0.6585   \n2                   25956                   0              0.4955   \n3                   26884                   0                 0.5   \n4                    3451                   0              0.5977   \n..                    ...                 ...                 ...   \n93                 131070              376680                None   \n94                    972              308705                None   \n95                   8621               30174                None   \n96                     78               41925                None   \n97                   2230               36239                None   \n\n   twitterSentiment  \n0               0.0  \n1               0.0  \n2               0.0  \n3               0.0  \n4               0.0  \n..              ...  \n93             None  \n94             None  \n95             None  \n96             None  \n97             None  \n\n[15441 rows x 12 columns]",
      "text/html": "<div>\n<style scoped>\n    .dataframe tbody tr th:only-of-type {\n        vertical-align: middle;\n    }\n\n    .dataframe tbody tr th {\n        vertical-align: top;\n    }\n\n    .dataframe thead th {\n        text-align: right;\n    }\n</style>\n<table border=\"1\" class=\"dataframe\">\n  <thead>\n    <tr style=\"text-align: right;\">\n      <th></th>\n      <th>date</th>\n      <th>symbol</th>\n      <th>stocktwitsPosts</th>\n      <th>twitterPosts</th>\n      <th>stocktwitsComments</th>\n      <th>twitterComments</th>\n      <th>stocktwitsLikes</th>\n      <th>twitterLikes</th>\n      <th>stocktwitsImpressions</th>\n      <th>twitterImpressions</th>\n      <th>stocktwitsSentiment</th>\n      <th>twitterSentiment</th>\n    </tr>\n  </thead>\n  <tbody>\n    <tr>\n      <th>0</th>\n      <td>2023-09-01 10:00:00</td>\n      <td>AAPL</td>\n      <td>10</td>\n      <td>0</td>\n      <td>1</td>\n      <td>0</td>\n      <td>4</td>\n      <td>0</td>\n      <td>50248</td>\n      <td>0</td>\n      <td>0.0</td>\n      <td>0.0</td>\n    </tr>\n    <tr>\n      <th>1</th>\n      <td>2023-09-01 09:00:00</td>\n      <td>AAPL</td>\n      <td>7</td>\n      <td>0</td>\n      <td>1</td>\n      <td>0</td>\n      <td>6</td>\n      <td>0</td>\n      <td>20362</td>\n      <td>0</td>\n      <td>0.6585</td>\n      <td>0.0</td>\n    </tr>\n    <tr>\n      <th>2</th>\n      <td>2023-09-01 08:00:00</td>\n      <td>AAPL</td>\n      <td>6</td>\n      <td>0</td>\n      <td>0</td>\n      <td>0</td>\n      <td>0</td>\n      <td>0</td>\n      <td>25956</td>\n      <td>0</td>\n      <td>0.4955</td>\n      <td>0.0</td>\n    </tr>\n    <tr>\n      <th>3</th>\n      <td>2023-09-01 07:00:00</td>\n      <td>AAPL</td>\n      <td>5</td>\n      <td>0</td>\n      <td>1</td>\n      <td>0</td>\n      <td>4</td>\n      <td>0</td>\n      <td>26884</td>\n      <td>0</td>\n      <td>0.5</td>\n      <td>0.0</td>\n    </tr>\n    <tr>\n      <th>4</th>\n      <td>2023-09-01 06:00:00</td>\n      <td>AAPL</td>\n      <td>4</td>\n      <td>0</td>\n      <td>2</td>\n      <td>0</td>\n      <td>3</td>\n      <td>0</td>\n      <td>3451</td>\n      <td>0</td>\n      <td>0.5977</td>\n      <td>0.0</td>\n    </tr>\n    <tr>\n      <th>...</th>\n      <td>...</td>\n      <td>...</td>\n      <td>...</td>\n      <td>...</td>\n      <td>...</td>\n      <td>...</td>\n      <td>...</td>\n      <td>...</td>\n      <td>...</td>\n      <td>...</td>\n      <td>...</td>\n      <td>...</td>\n    </tr>\n    <tr>\n      <th>93</th>\n      <td>2021-11-20 14:00:00</td>\n      <td>AAPL</td>\n      <td>17</td>\n      <td>38</td>\n      <td>6</td>\n      <td>62</td>\n      <td>7</td>\n      <td>719</td>\n      <td>131070</td>\n      <td>376680</td>\n      <td>None</td>\n      <td>None</td>\n    </tr>\n    <tr>\n      <th>94</th>\n      <td>2021-11-20 13:00:00</td>\n      <td>AAPL</td>\n      <td>9</td>\n      <td>20</td>\n      <td>2</td>\n      <td>112</td>\n      <td>33</td>\n      <td>1336</td>\n      <td>972</td>\n      <td>308705</td>\n      <td>None</td>\n      <td>None</td>\n    </tr>\n    <tr>\n      <th>95</th>\n      <td>2021-11-20 12:00:00</td>\n      <td>AAPL</td>\n      <td>7</td>\n      <td>19</td>\n      <td>1</td>\n      <td>124</td>\n      <td>0</td>\n      <td>1666</td>\n      <td>8621</td>\n      <td>30174</td>\n      <td>None</td>\n      <td>None</td>\n    </tr>\n    <tr>\n      <th>96</th>\n      <td>2021-11-20 11:00:00</td>\n      <td>AAPL</td>\n      <td>5</td>\n      <td>12</td>\n      <td>0</td>\n      <td>33</td>\n      <td>0</td>\n      <td>281</td>\n      <td>78</td>\n      <td>41925</td>\n      <td>None</td>\n      <td>None</td>\n    </tr>\n    <tr>\n      <th>97</th>\n      <td>2021-11-20 10:00:00</td>\n      <td>AAPL</td>\n      <td>2</td>\n      <td>15</td>\n      <td>0</td>\n      <td>366</td>\n      <td>0</td>\n      <td>5051</td>\n      <td>2230</td>\n      <td>36239</td>\n      <td>None</td>\n      <td>None</td>\n    </tr>\n  </tbody>\n</table>\n<p>15441 rows × 12 columns</p>\n</div>"
     },
     "execution_count": 237,
     "metadata": {},
     "output_type": "execute_result"
    }
   ],
   "source": [
    "df"
   ],
   "metadata": {
    "collapsed": false,
    "ExecuteTime": {
     "end_time": "2023-09-01T11:27:30.972564100Z",
     "start_time": "2023-09-01T11:27:30.928032900Z"
    }
   },
   "id": "8857d002f9d46aa8"
  },
  {
   "cell_type": "code",
   "execution_count": 1,
   "outputs": [
    {
     "ename": "NameError",
     "evalue": "name 'tick' is not defined",
     "output_type": "error",
     "traceback": [
      "\u001B[1;31m---------------------------------------------------------------------------\u001B[0m",
      "\u001B[1;31mNameError\u001B[0m                                 Traceback (most recent call last)",
      "Cell \u001B[1;32mIn[1], line 2\u001B[0m\n\u001B[0;32m      1\u001B[0m \u001B[38;5;66;03m# Specify the path to the folder and the filename\u001B[39;00m\n\u001B[1;32m----> 2\u001B[0m path \u001B[38;5;241m=\u001B[39m \u001B[38;5;124mr\u001B[39m\u001B[38;5;124m'\u001B[39m\u001B[38;5;124mC:\u001B[39m\u001B[38;5;124m\\\u001B[39m\u001B[38;5;124mUsers\u001B[39m\u001B[38;5;124m\\\u001B[39m\u001B[38;5;124mpotap\u001B[39m\u001B[38;5;124m\\\u001B[39m\u001B[38;5;124mFinARL\u001B[39m\u001B[38;5;124m\\\u001B[39m\u001B[38;5;124mautomatic-stock-trading-applied-reinforcement-learning-sommer-term-2023\u001B[39m\u001B[38;5;124m\\\u001B[39m\u001B[38;5;124msentiment_data_FMP\u001B[39m\u001B[38;5;124m\\\u001B[39m\u001B[38;5;124msentiment_\u001B[39m\u001B[38;5;124m'\u001B[39m \u001B[38;5;241m+\u001B[39m \u001B[38;5;28mstr\u001B[39m(\u001B[43mtick\u001B[49m) \u001B[38;5;241m+\u001B[39m\u001B[38;5;124m'\u001B[39m\u001B[38;5;124m.csv\u001B[39m\u001B[38;5;124m'\u001B[39m\n\u001B[0;32m      3\u001B[0m df\u001B[38;5;241m.\u001B[39mto_csv(path, index\u001B[38;5;241m=\u001B[39m\u001B[38;5;28;01mFalse\u001B[39;00m)\n",
      "\u001B[1;31mNameError\u001B[0m: name 'tick' is not defined"
     ]
    }
   ],
   "source": [
    "# Specify the path to the folder and the filename\n",
    "path = r'C:\\Users\\potap\\FinARL\\automatic-stock-trading-applied-reinforcement-learning-sommer-term-2023\\sentiment_data_FMP\\sentiment_' + str(tick) +'.csv'\n",
    "df.to_csv(path, index=False)"
   ],
   "metadata": {
    "collapsed": false,
    "ExecuteTime": {
     "end_time": "2023-09-01T14:30:58.553089500Z",
     "start_time": "2023-09-01T14:30:58.307871100Z"
    }
   },
   "id": "46552e8edb7b87b2"
  },
  {
   "cell_type": "code",
   "execution_count": 48,
   "outputs": [
    {
     "name": "stdout",
     "output_type": "stream",
     "text": [
      "Processed sentiment_AAPL.csv\n",
      "Processed sentiment_AMZN.csv\n",
      "Processed sentiment_BABA.csv\n",
      "Processed sentiment_DIS.csv\n",
      "Processed sentiment_FB.csv\n",
      "Processed sentiment_GOOGL.csv\n",
      "Processed sentiment_JPM.csv\n",
      "Processed sentiment_KO.csv\n",
      "Processed sentiment_MA.csv\n",
      "Processed sentiment_MO.csv\n",
      "Processed sentiment_MSFT.csv\n",
      "Processed sentiment_NVDA.csv\n",
      "Processed sentiment_PG.csv\n",
      "Processed sentiment_TSLA.csv\n",
      "Processed sentiment_TSM.csv\n",
      "Processed sentiment_V.csv\n",
      "All files processed.\n"
     ]
    }
   ],
   "source": [
    "import pandas as pd\n",
    "import os\n",
    "# --------------------- KEEP ONLY IMPORTANT ROWS -----------------------\n",
    "\n",
    "\n",
    "# Define the directory path\n",
    "folder_path = r\"C:\\Users\\potap\\FinARL\\automatic-stock-trading-applied-reinforcement-learning-sommer-term-2023\\sentiment_data_FMP\"\n",
    "\n",
    "# List all CSV files in the directory\n",
    "csv_files = [f for f in os.listdir(folder_path) if f.startswith('sentiment_') and f.endswith('.csv')]\n",
    "\n",
    "# Define the columns to keep\n",
    "columns_to_keep = ['date', 'stocktwitsPosts', 'stocktwitsLikes', 'stocktwitsImpressions', 'stocktwitsSentiment']\n",
    "\n",
    "# Loop through each CSV file\n",
    "for csv_file in csv_files:\n",
    "    file_path = os.path.join(folder_path, csv_file)\n",
    "    df = pd.read_csv(file_path)\n",
    "    \n",
    "    # Drop columns not in columns_to_keep\n",
    "    df = df[columns_to_keep]\n",
    "    \n",
    "    # Save the modified dataframe back to the CSV\n",
    "    df.to_csv(file_path, index=False)\n",
    "    print(f\"Processed {csv_file}\")\n",
    "\n",
    "print(\"All files processed.\")\n"
   ],
   "metadata": {
    "collapsed": false,
    "ExecuteTime": {
     "end_time": "2023-09-03T11:40:11.302584600Z",
     "start_time": "2023-09-03T11:40:10.929592200Z"
    }
   },
   "id": "164b05bef5af84d1"
  },
  {
   "cell_type": "code",
   "execution_count": 49,
   "outputs": [
    {
     "name": "stdout",
     "output_type": "stream",
     "text": [
      "For sentiment_AAPL.csv:\n",
      "  Current min date: 2021-11-24 14:00:00\n",
      "  Current max date: 2023-08-31 15:00:00\n",
      "  Updated overall min date from 1900-01-01 00:00:00 to 2021-11-24 14:00:00\n",
      "  Updated overall max date from 3000-01-01 00:00:00 to 2023-08-31 15:00:00\n",
      "------\n",
      "For sentiment_AMZN.csv:\n",
      "  Current min date: 2021-11-24 14:00:00\n",
      "  Current max date: 2023-08-31 15:00:00\n",
      "  Updated overall min date from 2021-11-24 14:00:00 to 2021-11-24 14:00:00\n",
      "  Updated overall max date from 2023-08-31 15:00:00 to 2023-08-31 15:00:00\n",
      "------\n",
      "For sentiment_BABA.csv:\n",
      "  Current min date: 2021-11-24 14:00:00\n",
      "  Current max date: 2023-08-31 15:00:00\n",
      "  Updated overall min date from 2021-11-24 14:00:00 to 2021-11-24 14:00:00\n",
      "  Updated overall max date from 2023-08-31 15:00:00 to 2023-08-31 15:00:00\n",
      "------\n",
      "For sentiment_DIS.csv:\n",
      "  Current min date: 2021-11-24 14:00:00\n",
      "  Current max date: 2023-08-31 15:00:00\n",
      "  Updated overall min date from 2021-11-24 14:00:00 to 2021-11-24 14:00:00\n",
      "  Updated overall max date from 2023-08-31 15:00:00 to 2023-08-31 15:00:00\n",
      "------\n",
      "For sentiment_FB.csv:\n",
      "  Current min date: 2021-11-24 14:00:00\n",
      "  Current max date: 2023-08-31 15:00:00\n",
      "  Updated overall min date from 2021-11-24 14:00:00 to 2021-11-24 14:00:00\n",
      "  Updated overall max date from 2023-08-31 15:00:00 to 2023-08-31 15:00:00\n",
      "------\n",
      "For sentiment_GOOGL.csv:\n",
      "  Current min date: 2021-11-24 14:00:00\n",
      "  Current max date: 2023-08-31 15:00:00\n",
      "  Updated overall min date from 2021-11-24 14:00:00 to 2021-11-24 14:00:00\n",
      "  Updated overall max date from 2023-08-31 15:00:00 to 2023-08-31 15:00:00\n",
      "------\n",
      "For sentiment_JPM.csv:\n",
      "  Current min date: 2021-11-24 14:00:00\n",
      "  Current max date: 2023-08-31 15:00:00\n",
      "  Updated overall min date from 2021-11-24 14:00:00 to 2021-11-24 14:00:00\n",
      "  Updated overall max date from 2023-08-31 15:00:00 to 2023-08-31 15:00:00\n",
      "------\n",
      "For sentiment_KO.csv:\n",
      "  Current min date: 2021-11-24 14:00:00\n",
      "  Current max date: 2023-08-31 15:00:00\n",
      "  Updated overall min date from 2021-11-24 14:00:00 to 2021-11-24 14:00:00\n",
      "  Updated overall max date from 2023-08-31 15:00:00 to 2023-08-31 15:00:00\n",
      "------\n",
      "For sentiment_MA.csv:\n",
      "  Current min date: 2021-11-24 14:00:00\n",
      "  Current max date: 2023-08-31 15:00:00\n",
      "  Updated overall min date from 2021-11-24 14:00:00 to 2021-11-24 14:00:00\n",
      "  Updated overall max date from 2023-08-31 15:00:00 to 2023-08-31 15:00:00\n",
      "------\n",
      "For sentiment_MO.csv:\n",
      "  Current min date: 2021-11-24 14:00:00\n",
      "  Current max date: 2023-08-31 15:00:00\n",
      "  Updated overall min date from 2021-11-24 14:00:00 to 2021-11-24 14:00:00\n",
      "  Updated overall max date from 2023-08-31 15:00:00 to 2023-08-31 15:00:00\n",
      "------\n",
      "For sentiment_MSFT.csv:\n",
      "  Current min date: 2021-11-24 14:00:00\n",
      "  Current max date: 2023-08-31 15:00:00\n",
      "  Updated overall min date from 2021-11-24 14:00:00 to 2021-11-24 14:00:00\n",
      "  Updated overall max date from 2023-08-31 15:00:00 to 2023-08-31 15:00:00\n",
      "------\n",
      "For sentiment_NVDA.csv:\n",
      "  Current min date: 2021-11-24 14:00:00\n",
      "  Current max date: 2023-08-31 15:00:00\n",
      "  Updated overall min date from 2021-11-24 14:00:00 to 2021-11-24 14:00:00\n",
      "  Updated overall max date from 2023-08-31 15:00:00 to 2023-08-31 15:00:00\n",
      "------\n",
      "For sentiment_PG.csv:\n",
      "  Current min date: 2021-11-24 14:00:00\n",
      "  Current max date: 2023-08-31 15:00:00\n",
      "  Updated overall min date from 2021-11-24 14:00:00 to 2021-11-24 14:00:00\n",
      "  Updated overall max date from 2023-08-31 15:00:00 to 2023-08-31 15:00:00\n",
      "------\n",
      "For sentiment_TSLA.csv:\n",
      "  Current min date: 2021-11-24 14:00:00\n",
      "  Current max date: 2023-08-31 15:00:00\n",
      "  Updated overall min date from 2021-11-24 14:00:00 to 2021-11-24 14:00:00\n",
      "  Updated overall max date from 2023-08-31 15:00:00 to 2023-08-31 15:00:00\n",
      "------\n",
      "For sentiment_TSM.csv:\n",
      "  Current min date: 2021-11-24 14:00:00\n",
      "  Current max date: 2023-08-31 15:00:00\n",
      "  Updated overall min date from 2021-11-24 14:00:00 to 2021-11-24 14:00:00\n",
      "  Updated overall max date from 2023-08-31 15:00:00 to 2023-08-31 15:00:00\n",
      "------\n",
      "For sentiment_V.csv:\n",
      "  Current min date: 2021-11-24 14:00:00\n",
      "  Current max date: 2023-08-31 15:00:00\n",
      "  Updated overall min date from 2021-11-24 14:00:00 to 2021-11-24 14:00:00\n",
      "  Updated overall max date from 2023-08-31 15:00:00 to 2023-08-31 15:00:00\n",
      "------\n",
      "The common date range for all stocks is from 2021-11-24 14:00:00 to 2023-08-31 15:00:00.\n"
     ]
    }
   ],
   "source": [
    "import pandas as pd\n",
    "import os\n",
    "\n",
    "# Define the directory path\n",
    "folder_path = r\"C:\\Users\\potap\\FinARL\\automatic-stock-trading-applied-reinforcement-learning-sommer-term-2023\\sentiment_data_FMP\"\n",
    "\n",
    "# List all CSV files in the directory\n",
    "csv_files = [f for f in os.listdir(folder_path) if f.startswith('sentiment_') and f.endswith('.csv')]\n",
    "\n",
    "# Initialize the overall min and max dates\n",
    "overall_max_date = pd.Timestamp('3000-01-01 00:00:00')  # set to a far future date\n",
    "overall_min_date = pd.Timestamp('1900-01-01 00:00:00')  # set to a far past date\n",
    "\n",
    "\n",
    "# Loop through each CSV file\n",
    "for csv_file in csv_files:\n",
    "    file_path = os.path.join(folder_path, csv_file)\n",
    "    df = pd.read_csv(file_path, parse_dates=['date'])\n",
    "    \n",
    "    # Find the min and max dates for the current CSV\n",
    "    min_date =  pd.Timestamp(df['date'].min())\n",
    "    max_date =  pd.Timestamp(df['date'].max())\n",
    "    \n",
    "    # Print the current CSV's min and max dates\n",
    "    print(f\"For {csv_file}:\")\n",
    "    print(f\"  Current min date: {min_date}\")\n",
    "    print(f\"  Current max date: {max_date}\")\n",
    "    \n",
    "    # Update the overall min and max dates\n",
    "    old_overall_min_date = overall_min_date\n",
    "    old_overall_max_date = overall_max_date\n",
    "    overall_min_date = max(overall_min_date, min_date)\n",
    "    overall_max_date = min(overall_max_date, max_date)\n",
    "    \n",
    "    # Print how the overall dates are updated\n",
    "    print(f\"  Updated overall min date from {old_overall_min_date} to {overall_min_date}\")\n",
    "    print(f\"  Updated overall max date from {old_overall_max_date} to {overall_max_date}\")\n",
    "    print(\"------\")\n",
    "    \n",
    "    \n",
    "# Check if there's a valid date range\n",
    "if overall_min_date <= overall_max_date:\n",
    "    print(f\"The common date range for all stocks is from {overall_min_date} to {overall_max_date}.\")\n",
    "else:\n",
    "    print(\"There's no common date range for all stocks.\")\n",
    "\n"
   ],
   "metadata": {
    "collapsed": false,
    "ExecuteTime": {
     "end_time": "2023-09-03T11:40:23.346025700Z",
     "start_time": "2023-09-03T11:40:23.103648200Z"
    }
   },
   "id": "fc8a9add698187f3"
  },
  {
   "cell_type": "code",
   "execution_count": 33,
   "outputs": [
    {
     "data": {
      "text/plain": "Timestamp('2021-11-24 14:00:00')"
     },
     "execution_count": 33,
     "metadata": {},
     "output_type": "execute_result"
    }
   ],
   "source": [
    "overall_min_date"
   ],
   "metadata": {
    "collapsed": false,
    "ExecuteTime": {
     "end_time": "2023-09-03T11:26:03.892428400Z",
     "start_time": "2023-09-03T11:26:03.874953700Z"
    }
   },
   "id": "e38bf16606fce062"
  },
  {
   "cell_type": "code",
   "execution_count": 34,
   "outputs": [
    {
     "data": {
      "text/plain": "Timestamp('2023-08-31 15:00:00')"
     },
     "execution_count": 34,
     "metadata": {},
     "output_type": "execute_result"
    }
   ],
   "source": [
    "overall_max_date"
   ],
   "metadata": {
    "collapsed": false,
    "ExecuteTime": {
     "end_time": "2023-09-03T11:26:04.967642200Z",
     "start_time": "2023-09-03T11:26:04.913757Z"
    }
   },
   "id": "758a1f3f68104245"
  },
  {
   "cell_type": "code",
   "execution_count": 35,
   "outputs": [
    {
     "name": "stdout",
     "output_type": "stream",
     "text": [
      "Processed sentiment_AAPL.csv\n",
      "Processed sentiment_AMZN.csv\n",
      "Processed sentiment_BABA.csv\n",
      "Processed sentiment_DIS.csv\n",
      "Processed sentiment_FB.csv\n",
      "Processed sentiment_GOOGL.csv\n",
      "Processed sentiment_JPM.csv\n",
      "Processed sentiment_KO.csv\n",
      "Processed sentiment_MA.csv\n",
      "Processed sentiment_MO.csv\n",
      "Processed sentiment_MSFT.csv\n",
      "Processed sentiment_NVDA.csv\n",
      "Processed sentiment_PG.csv\n",
      "Processed sentiment_TSLA.csv\n",
      "Processed sentiment_TSM.csv\n",
      "Processed sentiment_V.csv\n"
     ]
    }
   ],
   "source": [
    "# Now, filter out rows based on the date interval and save the modified CSVs\n",
    "for csv_file in csv_files:\n",
    "    file_path = os.path.join(folder_path, csv_file)\n",
    "    df = pd.read_csv(file_path, parse_dates=['date'])\n",
    "    \n",
    "    # Filter rows based on the date interval\n",
    "    df = df[(df['date'] >= overall_min_date) & (df['date'] <= overall_max_date)]\n",
    "    \n",
    "    # Save the modified dataframe back to the CSV\n",
    "    df.to_csv(file_path, index=False)\n",
    "    print(f\"Processed {csv_file}\")"
   ],
   "metadata": {
    "collapsed": false,
    "ExecuteTime": {
     "end_time": "2023-09-03T11:26:06.823064100Z",
     "start_time": "2023-09-03T11:26:05.621644500Z"
    }
   },
   "id": "75a2d49d98c0507e"
  },
  {
   "cell_type": "code",
   "execution_count": 36,
   "outputs": [
    {
     "name": "stdout",
     "output_type": "stream",
     "text": [
      "sentiment_AAPL.csv has 4468 rows.\n",
      "sentiment_AMZN.csv has 4448 rows.\n",
      "sentiment_BABA.csv has 4430 rows.\n",
      "sentiment_DIS.csv has 4337 rows.\n",
      "sentiment_FB.csv has 4437 rows.\n",
      "sentiment_GOOGL.csv has 4313 rows.\n",
      "sentiment_JPM.csv has 4264 rows.\n",
      "sentiment_KO.csv has 3824 rows.\n",
      "sentiment_MA.csv has 3769 rows.\n",
      "sentiment_MO.csv has 3627 rows.\n",
      "sentiment_MSFT.csv has 4447 rows.\n",
      "sentiment_NVDA.csv has 4460 rows.\n",
      "sentiment_PG.csv has 3611 rows.\n",
      "sentiment_TSLA.csv has 4468 rows.\n",
      "sentiment_TSM.csv has 13240 rows.\n",
      "sentiment_V.csv has 3962 rows.\n",
      "All files processed.\n"
     ]
    }
   ],
   "source": [
    "import pandas as pd\n",
    "import os\n",
    "\n",
    "# Define the directory path\n",
    "folder_path = r\"C:\\Users\\potap\\FinARL\\automatic-stock-trading-applied-reinforcement-learning-sommer-term-2023\\sentiment_data_FMP\"\n",
    "\n",
    "# List all CSV files in the directory\n",
    "csv_files = [f for f in os.listdir(folder_path) if f.startswith('sentiment_') and f.endswith('.csv')]\n",
    "\n",
    "# Loop through each CSV file\n",
    "for csv_file in csv_files:\n",
    "    file_path = os.path.join(folder_path, csv_file)\n",
    "    df = pd.read_csv(file_path)\n",
    "    \n",
    "    # Count the number of rows (excluding the header)\n",
    "    row_count = len(df)\n",
    "    \n",
    "    # Print the row count\n",
    "    print(f\"{csv_file} has {row_count} rows.\")\n",
    "\n",
    "print(\"All files processed.\")\n"
   ],
   "metadata": {
    "collapsed": false,
    "ExecuteTime": {
     "end_time": "2023-09-03T11:26:10.505568600Z",
     "start_time": "2023-09-03T11:26:10.111017800Z"
    }
   },
   "id": "5878871d1db46619"
  },
  {
   "cell_type": "code",
   "execution_count": 37,
   "outputs": [
    {
     "name": "stdout",
     "output_type": "stream",
     "text": [
      "Processed sentiment_AAPL.csv\n",
      "Processed sentiment_AMZN.csv\n",
      "Processed sentiment_BABA.csv\n",
      "Processed sentiment_DIS.csv\n",
      "Processed sentiment_FB.csv\n",
      "Processed sentiment_GOOGL.csv\n",
      "Processed sentiment_JPM.csv\n",
      "Processed sentiment_KO.csv\n",
      "Processed sentiment_MA.csv\n",
      "Processed sentiment_MO.csv\n",
      "Processed sentiment_MSFT.csv\n",
      "Processed sentiment_NVDA.csv\n",
      "Processed sentiment_PG.csv\n",
      "Processed sentiment_TSLA.csv\n",
      "Processed sentiment_TSM.csv\n",
      "Processed sentiment_V.csv\n",
      "All files processed.\n"
     ]
    }
   ],
   "source": [
    "import pandas as pd\n",
    "import os\n",
    "\n",
    "# Define the directory path\n",
    "folder_path = r\"C:\\Users\\potap\\FinARL\\automatic-stock-trading-applied-reinforcement-learning-sommer-term-2023\\sentiment_data_FMP\"\n",
    "\n",
    "# List all CSV files in the directory\n",
    "csv_files = [f for f in os.listdir(folder_path) if f.startswith('sentiment_') and f.endswith('.csv')]\n",
    "\n",
    "# Loop through each CSV file\n",
    "for csv_file in csv_files:\n",
    "    file_path = os.path.join(folder_path, csv_file)\n",
    "    df = pd.read_csv(file_path, parse_dates=['date'])\n",
    "    \n",
    "    # Filter rows based on the time interval\n",
    "    df = df[df['date'].dt.time.between(pd.Timestamp('09:00:00').time(), pd.Timestamp('15:00:00').time())]\n",
    "    \n",
    "    # Save the modified dataframe back to the CSV\n",
    "    df.to_csv(file_path, index=False)\n",
    "    print(f\"Processed {csv_file}\")\n",
    "\n",
    "print(\"All files processed.\")\n"
   ],
   "metadata": {
    "collapsed": false,
    "ExecuteTime": {
     "end_time": "2023-09-03T11:26:30.374436300Z",
     "start_time": "2023-09-03T11:26:29.616807600Z"
    }
   },
   "id": "82f4771b1d285c31"
  },
  {
   "cell_type": "code",
   "execution_count": 51,
   "outputs": [],
   "source": [
    "import pandas as pd\n",
    "import os\n",
    "import matplotlib.pyplot as plt\n",
    "import numpy as np\n",
    "\n",
    "# Create a DataFrame for the heatmap\n",
    "# Generate all hourly timestamps between overall_min_date and overall_max_date\n",
    "all_dates = pd.date_range(overall_min_date, overall_max_date, freq='H')\n",
    "\n",
    "# Filter the timestamps to only include hours between 9:00 and 15:00\n",
    "date_range = [date for date in all_dates if date.time() >= pd.Timestamp('09:00:00').time() and date.time() <= pd.Timestamp('15:00:00').time()]\n",
    "\n",
    "heatmap_df = pd.DataFrame(index=csv_files, columns=date_range)\n",
    "\n",
    "# Populate the heatmap DataFrame\n",
    "for csv_file in csv_files:\n",
    "    file_path = os.path.join(folder_path, csv_file)\n",
    "    df = pd.read_csv(file_path, parse_dates=['date'])\n",
    "    \n",
    "    for date in date_range:\n",
    "        heatmap_df.at[csv_file, date] = 1 if date in df['date'].values else 0\n"
   ],
   "metadata": {
    "collapsed": false,
    "ExecuteTime": {
     "end_time": "2023-09-03T11:43:41.052739100Z",
     "start_time": "2023-09-03T11:43:34.828739700Z"
    }
   },
   "id": "4a18bf27b9bb5e22"
  },
  {
   "cell_type": "code",
   "execution_count": 53,
   "outputs": [
    {
     "data": {
      "text/plain": "<Figure size 1500x500 with 1 Axes>",
      "image/png": "[encoded data removed]"
     },
     "metadata": {},
     "output_type": "display_data"
    }
   ],
   "source": [
    "x = heatmap_df.astype(float).values\n",
    "# Plotting\n",
    "plt.figure(figsize=(15, 5))\n",
    "plt.plot(x[1])\n",
    "plt.ylim(-0.1, 1.1)  # to ensure the y-axis is strictly between 0 and 1\n",
    "plt.title('Visualization of Binary Array')\n",
    "plt.xlabel('Index')\n",
    "plt.ylabel('Value')\n",
    "plt.show()"
   ],
   "metadata": {
    "collapsed": false,
    "ExecuteTime": {
     "end_time": "2023-09-03T11:43:50.826882500Z",
     "start_time": "2023-09-03T11:43:50.512261900Z"
    }
   },
   "id": "eca3a8e1e8f057d1"
  },
  {
   "cell_type": "code",
   "execution_count": 52,
   "outputs": [],
   "source": [],
   "metadata": {
    "collapsed": false,
    "ExecuteTime": {
     "end_time": "2023-09-01T15:07:15.834279900Z",
     "start_time": "2023-09-01T15:07:15.803552Z"
    }
   },
   "id": "bb0b92fe3ec2927f"
  },
  {
   "cell_type": "code",
   "execution_count": 50,
   "outputs": [
    {
     "name": "stdout",
     "output_type": "stream",
     "text": [
      "Processed sentiment_AAPL.csv\n",
      "Processed sentiment_AMZN.csv\n",
      "Processed sentiment_BABA.csv\n",
      "Processed sentiment_DIS.csv\n",
      "Processed sentiment_FB.csv\n",
      "Processed sentiment_GOOGL.csv\n",
      "Processed sentiment_JPM.csv\n",
      "Processed sentiment_KO.csv\n",
      "Processed sentiment_MA.csv\n",
      "Processed sentiment_MO.csv\n",
      "Processed sentiment_MSFT.csv\n",
      "Processed sentiment_NVDA.csv\n",
      "Processed sentiment_PG.csv\n",
      "Processed sentiment_TSLA.csv\n",
      "Processed sentiment_TSM.csv\n",
      "Processed sentiment_V.csv\n",
      "All files processed.\n"
     ]
    }
   ],
   "source": [
    "import pandas as pd\n",
    "\n",
    "# Assuming df is your DataFrame and overall_min_date and overall_max_date are defined\n",
    "# Loop through each CSV file\n",
    "for csv_file in csv_files:\n",
    "    file_path = os.path.join(folder_path, csv_file)\n",
    "    df = pd.read_csv(file_path)\n",
    "    # Convert the 'date' column to datetime format if it's not already\n",
    "    df['date'] = pd.to_datetime(df['date'])\n",
    "    \n",
    "    # Create a full date range from overall_min_date to overall_max_date with hourly frequency\n",
    "    all_dates = pd.date_range(overall_min_date, overall_max_date, freq='H')\n",
    "    \n",
    "    # Filter the timestamps to only include hours between 9:00 and 15:00\n",
    "    full_date_range = [date for date in all_dates if date.time() >= pd.Timestamp('09:00:00').time() and date.time() <= pd.Timestamp('15:00:00').time()]\n",
    "    \n",
    "    # Merge the full date range with the actual data\n",
    "    df_full = pd.DataFrame({'date': full_date_range})\n",
    "    df = pd.merge(df_full, df, on='date', how='left')\n",
    "    \n",
    "    # Interpolate missing values\n",
    "    columns_to_interpolate = ['stocktwitsPosts', 'stocktwitsLikes', 'stocktwitsImpressions', 'stocktwitsSentiment']\n",
    "    df[columns_to_interpolate] = df[columns_to_interpolate].interpolate(method='linear')\n",
    "    \n",
    "    # If you want to reset the index\n",
    "    df.reset_index(drop=True, inplace=True)\n",
    "    \n",
    "    # Save the modified dataframe back to the CSV\n",
    "    df.to_csv(file_path, index=False)\n",
    "    print(f\"Processed {csv_file}\")\n",
    "\n",
    "print(\"All files processed.\")\n"
   ],
   "metadata": {
    "collapsed": false,
    "ExecuteTime": {
     "end_time": "2023-09-03T11:41:13.099773400Z",
     "start_time": "2023-09-03T11:40:46.798622200Z"
    }
   },
   "id": "2c24b5066ab35109"
  },
  {
   "cell_type": "code",
   "execution_count": 56,
   "outputs": [
    {
     "name": "stderr",
     "output_type": "stream",
     "text": [
      "C:\\Users\\potap\\AppData\\Local\\Temp\\ipykernel_22320\\3477598352.py:14: UserWarning: Parsing dates in %d/%m/%Y %H:%M format when dayfirst=False (the default) was specified. Pass `dayfirst=True` or specify a format to silence this warning.\n",
      "  df = pd.read_csv(file_path, parse_dates=['date'])\n"
     ]
    },
    {
     "name": "stdout",
     "output_type": "stream",
     "text": [
      "Processed sentiment_AAPL.csv\n",
      "Processed sentiment_AMZN.csv\n",
      "Processed sentiment_BABA.csv\n",
      "Processed sentiment_DIS.csv\n",
      "Processed sentiment_FB.csv\n",
      "Processed sentiment_GOOGL.csv\n",
      "Processed sentiment_JPM.csv\n",
      "Processed sentiment_KO.csv\n",
      "Processed sentiment_MA.csv\n",
      "Processed sentiment_MO.csv\n",
      "Processed sentiment_MSFT.csv\n",
      "Processed sentiment_NVDA.csv\n",
      "Processed sentiment_PG.csv\n",
      "Processed sentiment_TSLA.csv\n",
      "Processed sentiment_TSM.csv\n",
      "Processed sentiment_V.csv\n",
      "All files processed.\n"
     ]
    }
   ],
   "source": [
    "# To fill the missing stocktwitsSentiment values in each CSV file with the mean value of the existing stocktwitsSentiment values, you can follow these steps:\n",
    "import pandas as pd\n",
    "import os\n",
    "\n",
    "# Define the directory path\n",
    "folder_path = r\"C:\\Users\\potap\\FinARL\\automatic-stock-trading-applied-reinforcement-learning-sommer-term-2023\\sentiment_data_FMP\"\n",
    "\n",
    "# List all CSV files in the directory\n",
    "csv_files = [f for f in os.listdir(folder_path) if f.startswith('sentiment_') and f.endswith('.csv')]\n",
    "\n",
    "# Loop through each CSV file\n",
    "for csv_file in csv_files:\n",
    "    file_path = os.path.join(folder_path, csv_file)\n",
    "    df = pd.read_csv(file_path, parse_dates=['date'])\n",
    "    \n",
    "    # Calculate the mean value of the existing stocktwitsSentiment values\n",
    "    mean_sentiment = df['stocktwitsSentiment'].mean()\n",
    "    \n",
    "    # Fill missing values with the calculated mean\n",
    "    df['stocktwitsSentiment'].fillna(mean_sentiment, inplace=True)\n",
    "    \n",
    "    # Save the modified dataframe back to the CSV\n",
    "    df.to_csv(file_path, index=False)\n",
    "    print(f\"Processed {csv_file}\")\n",
    "\n",
    "print(\"All files processed.\")\n"
   ],
   "metadata": {
    "collapsed": false,
    "ExecuteTime": {
     "end_time": "2023-09-03T11:49:55.783888700Z",
     "start_time": "2023-09-03T11:49:54.900473400Z"
    }
   },
   "id": "4e422b36bbd62921"
  },
  {
   "cell_type": "code",
   "execution_count": null,
   "outputs": [],
   "source": [],
   "metadata": {
    "collapsed": false
   },
   "id": "8623a4d5843659ff"
  }
 ],
 "metadata": {
  "kernelspec": {
   "name": "python3",
   "language": "python",
   "display_name": "Python 3 (ipykernel)"
  },
  "language_info": {
   "codemirror_mode": {
    "name": "ipython",
    "version": 3
   },
   "file_extension": ".py",
   "mimetype": "text/x-python",
   "name": "python",
   "nbconvert_exporter": "python",
   "pygments_lexer": "ipython3",
   "version": "3.10.11"
  }
 },
 "nbformat": 4,
 "nbformat_minor": 5
}
