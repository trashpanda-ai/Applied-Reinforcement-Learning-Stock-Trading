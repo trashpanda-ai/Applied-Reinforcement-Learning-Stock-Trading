{
 "cells": [
  {
   "cell_type": "markdown",
   "id": "d7919430",
   "metadata": {},
   "source": [
    "### Yahoo Downloader\n",
    "\n",
    "Get all symbols via pytickersymbols"
   ]
  },
  {
   "cell_type": "code",
   "execution_count": 1,
   "id": "db5960cc",
   "metadata": {},
   "outputs": [],
   "source": [
    "from pytickersymbols import PyTickerSymbols\n",
    "import yfinance as yf\n",
    "import time"
   ]
  },
  {
   "cell_type": "code",
   "execution_count": 2,
   "id": "7944576c",
   "metadata": {},
   "outputs": [],
   "source": [
    "stock_data = PyTickerSymbols()\n",
    "countries = stock_data.get_all_countries()\n",
    "indices = stock_data.get_all_indices()\n",
    "industries = stock_data.get_all_industries()"
   ]
  },
  {
   "cell_type": "code",
   "execution_count": 3,
   "id": "50f8e555",
   "metadata": {},
   "outputs": [],
   "source": [
    "german_stocks = stock_data.get_stocks_by_index('DAX')\n",
    "uk_stocks = stock_data.get_stocks_by_index('FTSE 100')"
   ]
  },
  {
   "cell_type": "code",
   "execution_count": 4,
   "id": "33733120",
   "metadata": {},
   "outputs": [],
   "source": [
    "stock_data = PyTickerSymbols()\n",
    "# the naming conversation is get_{index_name}_{exchange_city}_{yahoo or google}_tickers\n",
    "dax = stock_data.get_dax_frankfurt_yahoo_tickers()\n",
    "sp500 = stock_data.get_sp_500_nyc_yahoo_tickers()\n",
    "dow = stock_data.get_dow_jones_nyc_yahoo_tickers()\n",
    "cac = stock_data.get_cac_40_nyc_yahoo_tickers()\n",
    "ftse = stock_data.get_ftse_100_london_yahoo_tickers()\n",
    "nasdaq = stock_data.get_nasdaq_100_nyc_yahoo_tickers()\n",
    "moex = stock_data.get_moex_moscow_yahoo_tickers()\n",
    "indices = [dax, sp500, dow, cac, ftse, nasdaq, moex]\n",
    "index_names = [\"DAX\", \"SP500\", \"DOWJOnes\", \"CAC\", \"FTSE\", \"NASDAQ\", \"MOEX\"]"
   ]
  },
  {
   "cell_type": "code",
   "execution_count": 6,
   "id": "cc9cc501",
   "metadata": {},
   "outputs": [],
   "source": [
    "#all_ticker_getter_names = list(filter(\n",
    "#   lambda x: (\n",
    "#        x.endswith('_yahoo_tickers')\n",
    "#   ),\n",
    "#   dir(stock_data),\n",
    "#))\n",
    "#print(all_ticker_getter_names)"
   ]
  },
  {
   "cell_type": "markdown",
   "id": "8f23336c",
   "metadata": {},
   "source": [
    "Download minute and 5 minute data and save as csv"
   ]
  },
  {
   "cell_type": "code",
   "execution_count": 6,
   "id": "092fb708",
   "metadata": {},
   "outputs": [
    {
     "name": "stdout",
     "output_type": "stream",
     "text": [
      "[*********************100%***********************]  282 of 282 completed"
     ]
    },
    {
     "name": "stderr",
     "output_type": "stream",
     "text": [
      "\n",
      "55 Failed downloads:\n",
      "['RDSB.L', 'RDS-A', 'RB.L', 'MLSYY', 'RDS-B', 'INPTF', 'LSE.L', 'UN', 'SHNWD', 'HMSVF', 'RTOKY', 'AVEVF', 'HSV.L', 'AVV.L', 'BDEV', 'BT', 'AVVYY', 'RBS', 'WP', 'AUTO', 'SDRC.L']: Exception('%ticker%: No data found, symbol may be delisted')\n",
      "['PSMMF', 'HALMY', 'BKGFF', 'ICGUF', 'ATDRF', 'DCHPF', 'SMGKF', 'BKG', 'IFPJF', 'RKLIF', 'DPHAY', 'CRHCF', 'AMIGF', 'COIHF', 'EENEF', 'PSORF', 'SVTRF', 'DCCPF', 'BRLAF', 'BZLFF', 'ASBFF', 'STJPF', 'MONDF', 'JDDSF', 'NXGPY', 'NXGPF', 'HRGLY', 'MLSPF', 'PUKPF', 'BTDPF', 'CCHBF', 'PNXGF', 'WTBCF']: Exception('%ticker%: No price data found, symbol may be delisted (period=5d)')\n",
      "['ABF']: Exception(\"%ticker%: Period '5d' is invalid, must be one of ['1mo', '3mo', '6mo', 'ytd', '1y', '2y', '5y', '10y', 'max']\")\n"
     ]
    },
    {
     "name": "stdout",
     "output_type": "stream",
     "text": [
      "\n",
      "[*********************100%***********************]  110 of 110 completed"
     ]
    },
    {
     "name": "stderr",
     "output_type": "stream",
     "text": [
      "\n",
      "1 Failed download:\n",
      "['FISV']: Exception('%ticker%: No price data found, symbol may be delisted (period=5d)')\n"
     ]
    },
    {
     "name": "stdout",
     "output_type": "stream",
     "text": [
      "\n",
      "[*********************100%***********************]  30 of 30 completed"
     ]
    },
    {
     "name": "stderr",
     "output_type": "stream",
     "text": [
      "\n",
      "30 Failed downloads:\n",
      "['DSKY.ME', 'NVTK.ME', 'PHOR.ME', 'IRAO.ME', 'MGNT.ME', 'TRNFP.ME', 'RTKM.ME', 'SNGS.ME', 'GAZP.ME', 'NLMK.ME', 'RUAL.ME', 'CHMF.ME', 'ALRS.ME', 'FIXP.ME', 'TATNP.ME', 'POLY.ME', 'FEES.ME', 'SBER.ME', 'LKOH.ME', 'HYDR.ME', 'SNGSP.ME', 'AFLT.ME', 'PIKK.ME', 'FIVE.ME', 'AFKS.ME', 'HHRU.ME', 'MTSS.ME', 'YNDX.ME', 'TATN.ME']: Exception('%ticker%: No price data found, symbol may be delisted (period=5d)')\n",
      "['POGR.ME']: Exception('%ticker%: No data found, symbol may be delisted')\n"
     ]
    },
    {
     "name": "stdout",
     "output_type": "stream",
     "text": [
      "\n",
      "[*********************100%***********************]  282 of 282 completed"
     ]
    },
    {
     "name": "stderr",
     "output_type": "stream",
     "text": [
      "\n",
      "33 Failed downloads:\n",
      "['RDSB.L', 'RDS-A', 'RB.L', 'MLSYY', 'RDS-B', 'INPTF', 'LSE.L', 'UN', 'SHNWD', 'HMSVF', 'RTOKY', 'AVEVF', 'AVV.L', 'HSV.L', 'BDEV', 'BT', 'AVVYY', 'RBS', 'WP', 'AUTO', 'SDRC.L']: Exception('%ticker%: No data found, symbol may be delisted')\n",
      "['BKGFF', 'ICGUF', 'ATDRF', 'DCHPF', 'SMGKF', 'BKG', 'ABF', 'EENEF', 'PSORF', 'SVTRF', 'STJPF', 'NXGPF']: Exception('%ticker%: No price data found, symbol may be delisted (period=1mo)')\n"
     ]
    },
    {
     "name": "stdout",
     "output_type": "stream",
     "text": [
      "\n",
      "[*********************100%***********************]  110 of 110 completed"
     ]
    },
    {
     "name": "stderr",
     "output_type": "stream",
     "text": [
      "\n",
      "1 Failed download:\n",
      "['FISV']: Exception('%ticker%: No price data found, symbol may be delisted (period=1mo)')\n"
     ]
    },
    {
     "name": "stdout",
     "output_type": "stream",
     "text": [
      "\n",
      "[*********************100%***********************]  30 of 30 completed"
     ]
    },
    {
     "name": "stderr",
     "output_type": "stream",
     "text": [
      "\n",
      "30 Failed downloads:\n",
      "['IRAO.ME', 'NVTK.ME', 'PHOR.ME', 'DSKY.ME', 'RTKM.ME', 'MGNT.ME', 'SNGS.ME', 'TRNFP.ME', 'NLMK.ME', 'CHMF.ME', 'GAZP.ME', 'RUAL.ME', 'ALRS.ME', 'TATNP.ME', 'POLY.ME', 'SBER.ME', 'LKOH.ME', 'FEES.ME', 'HYDR.ME', 'SNGSP.ME', 'AFLT.ME', 'AFKS.ME', 'PIKK.ME', 'FIVE.ME', 'TATN.ME', 'YNDX.ME', 'MTSS.ME']: Exception('%ticker%: No price data found, symbol may be delisted (period=1mo)')\n",
      "['FIXP.ME', 'HHRU.ME']: Exception(\"%ticker%: Period '1mo' is invalid, must be one of ['1d', '5d']\")\n",
      "['POGR.ME']: Exception('%ticker%: No data found, symbol may be delisted')\n"
     ]
    },
    {
     "name": "stdout",
     "output_type": "stream",
     "text": [
      "\n"
     ]
    }
   ],
   "source": [
    "for index in range(len(indices)):\n",
    "    data = yf.download(indices[index], group_by=\"Ticker\", period='5d', interval='1m',prepost = True)\n",
    "    data.to_csv(f'RAW_DATA/1M/1M_{index_names[index]}.csv')\n",
    "    time.sleep(5)\n",
    "\n",
    "\n",
    "for index in range(len(indices)):\n",
    "    data = yf.download(indices[index], group_by=\"Ticker\", period='1mo', interval='5m',prepost = True)\n",
    "    data.to_csv(f'RAW_DATA/5M/1M_{index_names[index]}.csv')\n",
    "    time.sleep(5)"
   ]
  },
  {
   "cell_type": "markdown",
   "id": "b2c14313",
   "metadata": {},
   "source": [
    "### Financial Modelling Prep API:"
   ]
  },
  {
   "cell_type": "code",
   "execution_count": null,
   "id": "5267f070",
   "metadata": {},
   "outputs": [],
   "source": [
    "\n",
    "\n",
    "#!/usr/bin/env python\n",
    "\n",
    "try:\n",
    "    # For Python 3.0 and later\n",
    "    from urllib.request import urlopen\n",
    "except ImportError:\n",
    "    # Fall back to Python 2's urllib2\n",
    "    from urllib2 import urlopen\n",
    "\n",
    "import certifi\n",
    "import json\n",
    "\n",
    "def get_jsonparsed_data(url):\n",
    "    \"\"\"\n",
    "    Receive the content of ``url``, parse it as JSON and return the object.\n",
    "\n",
    "    Parameters\n",
    "    ----------\n",
    "    url : str\n",
    "\n",
    "    Returns\n",
    "    -------\n",
    "    dict\n",
    "    \"\"\"\n",
    "    response = urlopen(url, cafile=certifi.where())\n",
    "    data = response.read().decode(\"utf-8\")\n",
    "    return json.loads(data)\n",
    "\n",
    "url = (\"https://financialmodelingprep.com/api/v3/financial-statement-symbol-lists?apikey=75c6bcd86eca141cb32cf5fa2ae0d31b\")\n",
    "print(get_jsonparsed_data(url))"
   ]
  }
 ],
 "metadata": {
  "kernelspec": {
   "display_name": "ARLenv",
   "language": "python",
   "name": "arlenv"
  },
  "language_info": {
   "codemirror_mode": {
    "name": "ipython",
    "version": 3
   },
   "file_extension": ".py",
   "mimetype": "text/x-python",
   "name": "python",
   "nbconvert_exporter": "python",
   "pygments_lexer": "ipython3",
   "version": "3.10.11"
  }
 },
 "nbformat": 4,
 "nbformat_minor": 5
}
