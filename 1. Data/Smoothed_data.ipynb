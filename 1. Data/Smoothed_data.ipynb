{
 "cells": [
  {
   "cell_type": "code",
   "execution_count": 1,
   "metadata": {
    "collapsed": true,
    "ExecuteTime": {
     "end_time": "2023-09-05T16:18:37.550315400Z",
     "start_time": "2023-09-05T16:18:37.159649700Z"
    }
   },
   "outputs": [],
   "source": [
    "import pandas as pd\n",
    "import numpy as np"
   ]
  },
  {
   "cell_type": "code",
   "execution_count": 2,
   "outputs": [
    {
     "name": "stdout",
     "output_type": "stream",
     "text": [
      "30\n"
     ]
    }
   ],
   "source": [
    "import os\n",
    "\n",
    "stock_data_path = r'C:\\Users\\potap\\FinARL\\automatic-stock-trading-applied-reinforcement-learning-sommer-term-2023\\SLURM\\smoothed_csv'\n",
    "\n",
    "# List all files in the directory\n",
    "all_files = os.listdir(stock_data_path)\n",
    "\n",
    "# Filter the list to only include files that match the naming pattern\n",
    "matching_files = [f for f in all_files if f.endswith('smoothed.csv')]\n",
    "\n",
    "# Print the count of matching files\n",
    "print(len(matching_files))\n"
   ],
   "metadata": {
    "collapsed": false,
    "ExecuteTime": {
     "end_time": "2023-09-05T16:18:38.884739900Z",
     "start_time": "2023-09-05T16:18:38.856476200Z"
    }
   }
  },
  {
   "cell_type": "markdown",
   "source": [
    "#### Loop through each file in the directory.\n",
    "#### For each file, read the CSV into a pandas DataFrame.\n",
    "#### Filter the rows based on the date range.\n",
    "#### Rename the columns.\n",
    "#### Save the modified DataFrame back to the same CSV file."
   ],
   "metadata": {
    "collapsed": false
   }
  },
  {
   "cell_type": "code",
   "execution_count": 11,
   "outputs": [
    {
     "name": "stdout",
     "output_type": "stream",
     "text": [
      "Files have been saved to the new directory!\n"
     ]
    }
   ],
   "source": [
    "import os\n",
    "import pandas as pd\n",
    "\n",
    "stock_data_path = r'C:\\Users\\potap\\FinARL\\automatic-stock-trading-applied-reinforcement-learning-sommer-term-2023\\SLURM\\smoothed_csv'\n",
    "output_path = r'C:\\Users\\potap\\FinARL\\automatic-stock-trading-applied-reinforcement-learning-sommer-term-2023\\SLURM\\smoothed_csv\\smoothed_preprocessed'\n",
    "\n",
    "# Ensure the output directory exists, if not, create it\n",
    "if not os.path.exists(output_path):\n",
    "    os.makedirs(output_path)\n",
    "\n",
    "# Define the date range\n",
    "start_date = '2021-11-24 14:00:00'\n",
    "end_date = '2023-08-31 15:00:00'\n",
    "\n",
    "# Loop through each file in the directory\n",
    "for filename in os.listdir(stock_data_path):\n",
    "    if filename.endswith('smoothed.csv'):\n",
    "        filepath = os.path.join(stock_data_path, filename)\n",
    "        \n",
    "        # Read the CSV into a pandas DataFrame\n",
    "        df = pd.read_csv(filepath, parse_dates=['Time'])\n",
    "        \n",
    "        # Filter rows based on the date range\n",
    "        df = df[(df['Time'] >= start_date) & (df['Time'] <= end_date)]\n",
    "        \n",
    "        # Rename the columns\n",
    "        df.columns = ['date', 'open', 'high', 'low', 'close', 'volume', 'tic']\n",
    "        \n",
    "        # Save the modified DataFrame to the new directory\n",
    "        output_filepath = os.path.join(output_path, filename)\n",
    "        df.to_csv(output_filepath, index=False)\n",
    "\n",
    "print(\"Files have been saved to the new directory!\")"
   ],
   "metadata": {
    "collapsed": false,
    "ExecuteTime": {
     "end_time": "2023-09-05T16:21:32.596937100Z",
     "start_time": "2023-09-05T16:21:31.847186500Z"
    }
   }
  },
  {
   "cell_type": "code",
   "execution_count": 12,
   "outputs": [
    {
     "data": {
      "text/plain": "                    date     open     high      low       close   volume tic\n124  2021-11-24 14:00:00  200.275  200.447  199.045  199.784352   633438   V\n125  2021-11-24 15:00:00  200.492  201.049  200.298  199.191190   421083   V\n126  2021-11-26 09:00:00  190.763  194.061  189.959  195.591475  2564867   V\n127  2021-11-26 10:00:00  193.906  194.457  192.781  194.229475   900348   V\n128  2021-11-26 11:00:00  194.961  194.990  193.807  194.384595   669186   V\n...                  ...      ...      ...      ...         ...      ...  ..\n3220 2023-08-31 11:00:00  247.660  247.660  246.900  247.137444   202882   V\n3221 2023-08-31 12:00:00  246.756  246.917  246.580  246.868076   141368   V\n3222 2023-08-31 13:00:00  246.270  246.635  246.186  246.694182   148073   V\n3223 2023-08-31 14:00:00  246.655  247.100  246.530  246.619650   150414   V\n3224 2023-08-31 15:00:00  246.070  246.155  245.590  245.920134   233902   V\n\n[3101 rows x 7 columns]",
      "text/html": "<div>\n<style scoped>\n    .dataframe tbody tr th:only-of-type {\n        vertical-align: middle;\n    }\n\n    .dataframe tbody tr th {\n        vertical-align: top;\n    }\n\n    .dataframe thead th {\n        text-align: right;\n    }\n</style>\n<table border=\"1\" class=\"dataframe\">\n  <thead>\n    <tr style=\"text-align: right;\">\n      <th></th>\n      <th>date</th>\n      <th>open</th>\n      <th>high</th>\n      <th>low</th>\n      <th>close</th>\n      <th>volume</th>\n      <th>tic</th>\n    </tr>\n  </thead>\n  <tbody>\n    <tr>\n      <th>124</th>\n      <td>2021-11-24 14:00:00</td>\n      <td>200.275</td>\n      <td>200.447</td>\n      <td>199.045</td>\n      <td>199.784352</td>\n      <td>633438</td>\n      <td>V</td>\n    </tr>\n    <tr>\n      <th>125</th>\n      <td>2021-11-24 15:00:00</td>\n      <td>200.492</td>\n      <td>201.049</td>\n      <td>200.298</td>\n      <td>199.191190</td>\n      <td>421083</td>\n      <td>V</td>\n    </tr>\n    <tr>\n      <th>126</th>\n      <td>2021-11-26 09:00:00</td>\n      <td>190.763</td>\n      <td>194.061</td>\n      <td>189.959</td>\n      <td>195.591475</td>\n      <td>2564867</td>\n      <td>V</td>\n    </tr>\n    <tr>\n      <th>127</th>\n      <td>2021-11-26 10:00:00</td>\n      <td>193.906</td>\n      <td>194.457</td>\n      <td>192.781</td>\n      <td>194.229475</td>\n      <td>900348</td>\n      <td>V</td>\n    </tr>\n    <tr>\n      <th>128</th>\n      <td>2021-11-26 11:00:00</td>\n      <td>194.961</td>\n      <td>194.990</td>\n      <td>193.807</td>\n      <td>194.384595</td>\n      <td>669186</td>\n      <td>V</td>\n    </tr>\n    <tr>\n      <th>...</th>\n      <td>...</td>\n      <td>...</td>\n      <td>...</td>\n      <td>...</td>\n      <td>...</td>\n      <td>...</td>\n      <td>...</td>\n    </tr>\n    <tr>\n      <th>3220</th>\n      <td>2023-08-31 11:00:00</td>\n      <td>247.660</td>\n      <td>247.660</td>\n      <td>246.900</td>\n      <td>247.137444</td>\n      <td>202882</td>\n      <td>V</td>\n    </tr>\n    <tr>\n      <th>3221</th>\n      <td>2023-08-31 12:00:00</td>\n      <td>246.756</td>\n      <td>246.917</td>\n      <td>246.580</td>\n      <td>246.868076</td>\n      <td>141368</td>\n      <td>V</td>\n    </tr>\n    <tr>\n      <th>3222</th>\n      <td>2023-08-31 13:00:00</td>\n      <td>246.270</td>\n      <td>246.635</td>\n      <td>246.186</td>\n      <td>246.694182</td>\n      <td>148073</td>\n      <td>V</td>\n    </tr>\n    <tr>\n      <th>3223</th>\n      <td>2023-08-31 14:00:00</td>\n      <td>246.655</td>\n      <td>247.100</td>\n      <td>246.530</td>\n      <td>246.619650</td>\n      <td>150414</td>\n      <td>V</td>\n    </tr>\n    <tr>\n      <th>3224</th>\n      <td>2023-08-31 15:00:00</td>\n      <td>246.070</td>\n      <td>246.155</td>\n      <td>245.590</td>\n      <td>245.920134</td>\n      <td>233902</td>\n      <td>V</td>\n    </tr>\n  </tbody>\n</table>\n<p>3101 rows × 7 columns</p>\n</div>"
     },
     "execution_count": 12,
     "metadata": {},
     "output_type": "execute_result"
    }
   ],
   "source": [
    "df"
   ],
   "metadata": {
    "collapsed": false,
    "ExecuteTime": {
     "end_time": "2023-09-05T16:21:32.950567100Z",
     "start_time": "2023-09-05T16:21:32.908179500Z"
    }
   }
  },
  {
   "cell_type": "code",
   "execution_count": 13,
   "outputs": [
    {
     "data": {
      "text/plain": "DatetimeIndex(['2021-11-24 14:00:00', '2021-11-25 14:00:00',\n               '2021-11-26 14:00:00', '2021-11-29 14:00:00',\n               '2021-11-30 14:00:00', '2021-12-01 14:00:00',\n               '2021-12-02 14:00:00', '2021-12-03 14:00:00',\n               '2021-12-06 14:00:00', '2021-12-07 14:00:00',\n               ...\n               '2023-08-18 14:00:00', '2023-08-21 14:00:00',\n               '2023-08-22 14:00:00', '2023-08-23 14:00:00',\n               '2023-08-24 14:00:00', '2023-08-25 14:00:00',\n               '2023-08-28 14:00:00', '2023-08-29 14:00:00',\n               '2023-08-30 14:00:00', '2023-08-31 14:00:00'],\n              dtype='datetime64[ns]', length=462, freq='B')"
     },
     "execution_count": 13,
     "metadata": {},
     "output_type": "execute_result"
    }
   ],
   "source": [
    "# Define the date range and business hours\n",
    "start_date = '2021-11-24 14:00:00'\n",
    "end_date = '2023-08-31 15:00:00'\n",
    "business_hours = range(9, 16)  # 9 to 15 inclusive\n",
    "\n",
    "# Generate a complete date range for the given period\n",
    "full_date_range = pd.date_range(start=start_date, end=end_date, freq='B')\n",
    "full_date_range"
   ],
   "metadata": {
    "collapsed": false,
    "ExecuteTime": {
     "end_time": "2023-09-05T16:21:34.374723500Z",
     "start_time": "2023-09-05T16:21:34.351155700Z"
    }
   }
  },
  {
   "cell_type": "markdown",
   "source": [
    "#### Loop through each file in the new directory.\n",
    "#### For each file, read the CSV into a pandas DataFrame.\n",
    "#### Set the DataFrame's index to the 'date' column.\n",
    "#### Generate a complete date range for the given period, considering only working days and the hours between 9 and 15.\n",
    "#### Reindex the DataFrame using this complete date range.\n",
    "#### Interpolate the missing data.\n",
    "#### Save the modified DataFrame back to the same CSV file."
   ],
   "metadata": {
    "collapsed": false
   }
  },
  {
   "cell_type": "code",
   "execution_count": 16,
   "outputs": [
    {
     "name": "stdout",
     "output_type": "stream",
     "text": [
      "Files have been updated with interpolated data!\n"
     ]
    }
   ],
   "source": [
    "import os\n",
    "import pandas as pd\n",
    "import numpy as np\n",
    "\n",
    "output_path = r'C:\\Users\\potap\\FinARL\\automatic-stock-trading-applied-reinforcement-learning-sommer-term-2023\\SLURM\\stock_data\\smoothed_preprocessed'\n",
    "\n",
    "# Define the date range and business hours\n",
    "start_date = '2021-11-24 14:00:00'\n",
    "end_date = '2023-08-31 15:00:00'\n",
    "business_hours = range(9, 16)  # 9 to 15 inclusive\n",
    "\n",
    "# Generate a complete date range for the given period\n",
    "full_date_range = pd.date_range(start=start_date, end=end_date, freq='B')\n",
    "hourly_date_range = []\n",
    "for i, date in enumerate(full_date_range):\n",
    "    if i == 0:\n",
    "        business_hours_first = range(14, 16)\n",
    "        for hour in business_hours_first:\n",
    "            hourly_date_range.append(pd.Timestamp(date.year, date.month, date.day, hour))        \n",
    "    else:\n",
    "        for hour in business_hours:\n",
    "            hourly_date_range.append(pd.Timestamp(date.year, date.month, date.day, hour))\n",
    "\n",
    "# Loop through each file in the directory\n",
    "for filename in os.listdir(output_path):\n",
    "    if filename.endswith('smoothed.csv'):\n",
    "        filepath = os.path.join(output_path, filename)\n",
    "        \n",
    "        # Read the CSV into a pandas DataFrame\n",
    "        df = pd.read_csv(filepath, parse_dates=['date'])\n",
    "        \n",
    "        # Set the DataFrame's index to the 'date' column\n",
    "        df.set_index('date', inplace=True)\n",
    "        \n",
    "        # Reindex the DataFrame using the complete date range\n",
    "        df = df.reindex(hourly_date_range)\n",
    "        \n",
    "        # Interpolate missing data\n",
    "        df.interpolate(method='time', inplace=True)\n",
    "        \n",
    "        # Reset the index before saving\n",
    "        df.reset_index(inplace=True)\n",
    "        \n",
    "        # Save the modified DataFrame back to the same CSV file\n",
    "        df.to_csv(filepath, index=False)\n",
    "\n",
    "print(\"Files have been updated with interpolated data!\")\n"
   ],
   "metadata": {
    "collapsed": false,
    "ExecuteTime": {
     "end_time": "2023-09-05T16:22:15.643896900Z",
     "start_time": "2023-09-05T16:22:13.718764900Z"
    }
   }
  },
  {
   "cell_type": "code",
   "execution_count": 18,
   "outputs": [
    {
     "data": {
      "text/plain": "                    date        open        high         low       close  \\\n0    2021-11-24 14:00:00  200.275000  200.447000  199.045000  199.784352   \n1    2021-11-24 15:00:00  200.492000  201.049000  200.298000  199.191190   \n2    2021-11-25 09:00:00  196.322429  198.054143  195.867000  197.648455   \n3    2021-11-25 10:00:00  196.090786  197.887762  195.620833  197.562748   \n4    2021-11-25 11:00:00  195.859143  197.721381  195.374667  197.477040   \n...                  ...         ...         ...         ...         ...   \n3224 2023-08-31 11:00:00  247.660000  247.660000  246.900000  247.137444   \n3225 2023-08-31 12:00:00  246.756000  246.917000  246.580000  246.868076   \n3226 2023-08-31 13:00:00  246.270000  246.635000  246.186000  246.694182   \n3227 2023-08-31 14:00:00  246.655000  247.100000  246.530000  246.619650   \n3228 2023-08-31 15:00:00  246.070000  246.155000  245.590000  245.920134   \n\n            volume  tic  \n0     6.334380e+05    V  \n1     4.210830e+05    V  \n2     1.339848e+06  NaN  \n3     1.390890e+06  NaN  \n4     1.441933e+06  NaN  \n...            ...  ...  \n3224  2.028820e+05    V  \n3225  1.413680e+05    V  \n3226  1.480730e+05    V  \n3227  1.504140e+05    V  \n3228  2.339020e+05    V  \n\n[3229 rows x 7 columns]",
      "text/html": "<div>\n<style scoped>\n    .dataframe tbody tr th:only-of-type {\n        vertical-align: middle;\n    }\n\n    .dataframe tbody tr th {\n        vertical-align: top;\n    }\n\n    .dataframe thead th {\n        text-align: right;\n    }\n</style>\n<table border=\"1\" class=\"dataframe\">\n  <thead>\n    <tr style=\"text-align: right;\">\n      <th></th>\n      <th>date</th>\n      <th>open</th>\n      <th>high</th>\n      <th>low</th>\n      <th>close</th>\n      <th>volume</th>\n      <th>tic</th>\n    </tr>\n  </thead>\n  <tbody>\n    <tr>\n      <th>0</th>\n      <td>2021-11-24 14:00:00</td>\n      <td>200.275000</td>\n      <td>200.447000</td>\n      <td>199.045000</td>\n      <td>199.784352</td>\n      <td>6.334380e+05</td>\n      <td>V</td>\n    </tr>\n    <tr>\n      <th>1</th>\n      <td>2021-11-24 15:00:00</td>\n      <td>200.492000</td>\n      <td>201.049000</td>\n      <td>200.298000</td>\n      <td>199.191190</td>\n      <td>4.210830e+05</td>\n      <td>V</td>\n    </tr>\n    <tr>\n      <th>2</th>\n      <td>2021-11-25 09:00:00</td>\n      <td>196.322429</td>\n      <td>198.054143</td>\n      <td>195.867000</td>\n      <td>197.648455</td>\n      <td>1.339848e+06</td>\n      <td>NaN</td>\n    </tr>\n    <tr>\n      <th>3</th>\n      <td>2021-11-25 10:00:00</td>\n      <td>196.090786</td>\n      <td>197.887762</td>\n      <td>195.620833</td>\n      <td>197.562748</td>\n      <td>1.390890e+06</td>\n      <td>NaN</td>\n    </tr>\n    <tr>\n      <th>4</th>\n      <td>2021-11-25 11:00:00</td>\n      <td>195.859143</td>\n      <td>197.721381</td>\n      <td>195.374667</td>\n      <td>197.477040</td>\n      <td>1.441933e+06</td>\n      <td>NaN</td>\n    </tr>\n    <tr>\n      <th>...</th>\n      <td>...</td>\n      <td>...</td>\n      <td>...</td>\n      <td>...</td>\n      <td>...</td>\n      <td>...</td>\n      <td>...</td>\n    </tr>\n    <tr>\n      <th>3224</th>\n      <td>2023-08-31 11:00:00</td>\n      <td>247.660000</td>\n      <td>247.660000</td>\n      <td>246.900000</td>\n      <td>247.137444</td>\n      <td>2.028820e+05</td>\n      <td>V</td>\n    </tr>\n    <tr>\n      <th>3225</th>\n      <td>2023-08-31 12:00:00</td>\n      <td>246.756000</td>\n      <td>246.917000</td>\n      <td>246.580000</td>\n      <td>246.868076</td>\n      <td>1.413680e+05</td>\n      <td>V</td>\n    </tr>\n    <tr>\n      <th>3226</th>\n      <td>2023-08-31 13:00:00</td>\n      <td>246.270000</td>\n      <td>246.635000</td>\n      <td>246.186000</td>\n      <td>246.694182</td>\n      <td>1.480730e+05</td>\n      <td>V</td>\n    </tr>\n    <tr>\n      <th>3227</th>\n      <td>2023-08-31 14:00:00</td>\n      <td>246.655000</td>\n      <td>247.100000</td>\n      <td>246.530000</td>\n      <td>246.619650</td>\n      <td>1.504140e+05</td>\n      <td>V</td>\n    </tr>\n    <tr>\n      <th>3228</th>\n      <td>2023-08-31 15:00:00</td>\n      <td>246.070000</td>\n      <td>246.155000</td>\n      <td>245.590000</td>\n      <td>245.920134</td>\n      <td>2.339020e+05</td>\n      <td>V</td>\n    </tr>\n  </tbody>\n</table>\n<p>3229 rows × 7 columns</p>\n</div>"
     },
     "execution_count": 18,
     "metadata": {},
     "output_type": "execute_result"
    }
   ],
   "source": [
    "df"
   ],
   "metadata": {
    "collapsed": false,
    "ExecuteTime": {
     "end_time": "2023-09-05T16:22:33.022342300Z",
     "start_time": "2023-09-05T16:22:32.985970600Z"
    }
   }
  },
  {
   "cell_type": "code",
   "execution_count": 19,
   "outputs": [
    {
     "name": "stdout",
     "output_type": "stream",
     "text": [
      "AAPL_smoothed.csv: 3229 rows\n",
      "ABBV_smoothed.csv: 3229 rows\n",
      "ABT_smoothed.csv: 3229 rows\n",
      "AMD_smoothed.csv: 3229 rows\n",
      "AMZN_smoothed.csv: 3229 rows\n",
      "BABA_smoothed.csv: 3229 rows\n",
      "BA_smoothed.csv: 3229 rows\n",
      "CRM_smoothed.csv: 3229 rows\n",
      "C_smoothed.csv: 3229 rows\n",
      "DIS_smoothed.csv: 3229 rows\n",
      "GOOGL_smoothed.csv: 3229 rows\n",
      "GS_smoothed.csv: 3229 rows\n",
      "JPM_smoothed.csv: 3229 rows\n",
      "KO_smoothed.csv: 3229 rows\n",
      "MA_smoothed.csv: 3229 rows\n",
      "META_smoothed.csv: 3229 rows\n",
      "MO_smoothed.csv: 3229 rows\n",
      "MSFT_smoothed.csv: 3229 rows\n",
      "MU_smoothed.csv: 3229 rows\n",
      "NFLX_smoothed.csv: 3229 rows\n",
      "NKE_smoothed.csv: 3229 rows\n",
      "NVDA_smoothed.csv: 3229 rows\n",
      "PEP_smoothed.csv: 3229 rows\n",
      "PFE_smoothed.csv: 3229 rows\n",
      "PG_smoothed.csv: 3229 rows\n",
      "PM_smoothed.csv: 3229 rows\n",
      "TSLA_smoothed.csv: 3229 rows\n",
      "TSM_smoothed.csv: 3229 rows\n",
      "T_smoothed.csv: 3229 rows\n",
      "V_smoothed.csv: 3229 rows\n"
     ]
    }
   ],
   "source": [
    "import os\n",
    "import pandas as pd\n",
    "\n",
    "output_path = r'C:\\Users\\potap\\FinARL\\automatic-stock-trading-applied-reinforcement-learning-sommer-term-2023\\SLURM\\stock_data\\smoothed_preprocessed'\n",
    "\n",
    "# Loop through each file in the directory\n",
    "for filename in os.listdir(output_path):\n",
    "    if filename.endswith('smoothed.csv'):\n",
    "        filepath = os.path.join(output_path, filename)\n",
    "        \n",
    "        # Read the CSV into a pandas DataFrame\n",
    "        df = pd.read_csv(filepath)\n",
    "        \n",
    "        # Get the number of rows\n",
    "        num_rows = df.shape[0]\n",
    "        \n",
    "        # Print the filename and the number of rows\n",
    "        print(f\"{filename}: {num_rows} rows\")\n",
    "\n"
   ],
   "metadata": {
    "collapsed": false,
    "ExecuteTime": {
     "end_time": "2023-09-05T16:22:34.917339100Z",
     "start_time": "2023-09-05T16:22:34.348468900Z"
    }
   }
  },
  {
   "cell_type": "markdown",
   "source": [
    "#### Detect and delete holydays"
   ],
   "metadata": {
    "collapsed": false
   }
  },
  {
   "cell_type": "code",
   "execution_count": 20,
   "outputs": [
    {
     "name": "stdout",
     "output_type": "stream",
     "text": [
      "Rows with missing dates have been removed from the CSV files!\n"
     ]
    }
   ],
   "source": [
    "import os\n",
    "import pandas as pd\n",
    "\n",
    "output_path = r'C:\\Users\\potap\\FinARL\\automatic-stock-trading-applied-reinforcement-learning-sommer-term-2023\\SLURM\\stock_data\\smoothed_preprocessed'\n",
    "ti_abt_path = r\"C:\\Users\\potap\\FinARL\\automatic-stock-trading-applied-reinforcement-learning-sommer-term-2023\\Generated Sentiment Data in FinRL\\stock_data\\C.csv\"\n",
    "\n",
    "# Read the ti_ABT.csv file\n",
    "df_ti_abt = pd.read_csv(ti_abt_path, parse_dates=['Time'])\n",
    "dates_ti_abt = set(df_ti_abt['Time'])\n",
    "\n",
    "# Assuming you want to check the first CSV file in the output_path directory\n",
    "first_csv_file = [f for f in os.listdir(output_path) if f.endswith('smoothed.csv')][0]\n",
    "df_output = pd.read_csv(os.path.join(output_path, first_csv_file), parse_dates=['date'])\n",
    "dates_output = set(df_output['date'])\n",
    "\n",
    "# Determine which dates are in the output CSV but not in the ti_ABT.csv\n",
    "missing_dates = dates_output - dates_ti_abt\n",
    "\n",
    "# Loop through each file in the directory\n",
    "for filename in os.listdir(output_path):\n",
    "    if filename.endswith('smoothed.csv'):\n",
    "        filepath = os.path.join(output_path, filename)\n",
    "        \n",
    "        # Read the CSV into a pandas DataFrame\n",
    "        df = pd.read_csv(filepath, parse_dates=['date'])\n",
    "        \n",
    "        # Filter out rows with the missing dates\n",
    "        df = df[~df['date'].isin(missing_dates)]\n",
    "        \n",
    "        # Save the modified DataFrame back to the same CSV file\n",
    "        df.to_csv(filepath, index=False)\n",
    "\n",
    "print(\"Rows with missing dates have been removed from the CSV files!\")\n"
   ],
   "metadata": {
    "collapsed": false,
    "ExecuteTime": {
     "end_time": "2023-09-05T16:22:51.557328400Z",
     "start_time": "2023-09-05T16:22:50.756894100Z"
    }
   }
  },
  {
   "cell_type": "code",
   "execution_count": 21,
   "outputs": [
    {
     "data": {
      "text/plain": "                    date     open     high      low       close     volume tic\n0    2021-11-24 14:00:00  200.275  200.447  199.045  199.784352   633438.0   V\n1    2021-11-24 15:00:00  200.492  201.049  200.298  199.191190   421083.0   V\n9    2021-11-26 09:00:00  190.763  194.061  189.959  195.591475  2564867.0   V\n10   2021-11-26 10:00:00  193.906  194.457  192.781  194.229475   900348.0   V\n11   2021-11-26 11:00:00  194.961  194.990  193.807  194.384595   669186.0   V\n...                  ...      ...      ...      ...         ...        ...  ..\n3224 2023-08-31 11:00:00  247.660  247.660  246.900  247.137444   202882.0   V\n3225 2023-08-31 12:00:00  246.756  246.917  246.580  246.868076   141368.0   V\n3226 2023-08-31 13:00:00  246.270  246.635  246.186  246.694182   148073.0   V\n3227 2023-08-31 14:00:00  246.655  247.100  246.530  246.619650   150414.0   V\n3228 2023-08-31 15:00:00  246.070  246.155  245.590  245.920134   233902.0   V\n\n[3103 rows x 7 columns]",
      "text/html": "<div>\n<style scoped>\n    .dataframe tbody tr th:only-of-type {\n        vertical-align: middle;\n    }\n\n    .dataframe tbody tr th {\n        vertical-align: top;\n    }\n\n    .dataframe thead th {\n        text-align: right;\n    }\n</style>\n<table border=\"1\" class=\"dataframe\">\n  <thead>\n    <tr style=\"text-align: right;\">\n      <th></th>\n      <th>date</th>\n      <th>open</th>\n      <th>high</th>\n      <th>low</th>\n      <th>close</th>\n      <th>volume</th>\n      <th>tic</th>\n    </tr>\n  </thead>\n  <tbody>\n    <tr>\n      <th>0</th>\n      <td>2021-11-24 14:00:00</td>\n      <td>200.275</td>\n      <td>200.447</td>\n      <td>199.045</td>\n      <td>199.784352</td>\n      <td>633438.0</td>\n      <td>V</td>\n    </tr>\n    <tr>\n      <th>1</th>\n      <td>2021-11-24 15:00:00</td>\n      <td>200.492</td>\n      <td>201.049</td>\n      <td>200.298</td>\n      <td>199.191190</td>\n      <td>421083.0</td>\n      <td>V</td>\n    </tr>\n    <tr>\n      <th>9</th>\n      <td>2021-11-26 09:00:00</td>\n      <td>190.763</td>\n      <td>194.061</td>\n      <td>189.959</td>\n      <td>195.591475</td>\n      <td>2564867.0</td>\n      <td>V</td>\n    </tr>\n    <tr>\n      <th>10</th>\n      <td>2021-11-26 10:00:00</td>\n      <td>193.906</td>\n      <td>194.457</td>\n      <td>192.781</td>\n      <td>194.229475</td>\n      <td>900348.0</td>\n      <td>V</td>\n    </tr>\n    <tr>\n      <th>11</th>\n      <td>2021-11-26 11:00:00</td>\n      <td>194.961</td>\n      <td>194.990</td>\n      <td>193.807</td>\n      <td>194.384595</td>\n      <td>669186.0</td>\n      <td>V</td>\n    </tr>\n    <tr>\n      <th>...</th>\n      <td>...</td>\n      <td>...</td>\n      <td>...</td>\n      <td>...</td>\n      <td>...</td>\n      <td>...</td>\n      <td>...</td>\n    </tr>\n    <tr>\n      <th>3224</th>\n      <td>2023-08-31 11:00:00</td>\n      <td>247.660</td>\n      <td>247.660</td>\n      <td>246.900</td>\n      <td>247.137444</td>\n      <td>202882.0</td>\n      <td>V</td>\n    </tr>\n    <tr>\n      <th>3225</th>\n      <td>2023-08-31 12:00:00</td>\n      <td>246.756</td>\n      <td>246.917</td>\n      <td>246.580</td>\n      <td>246.868076</td>\n      <td>141368.0</td>\n      <td>V</td>\n    </tr>\n    <tr>\n      <th>3226</th>\n      <td>2023-08-31 13:00:00</td>\n      <td>246.270</td>\n      <td>246.635</td>\n      <td>246.186</td>\n      <td>246.694182</td>\n      <td>148073.0</td>\n      <td>V</td>\n    </tr>\n    <tr>\n      <th>3227</th>\n      <td>2023-08-31 14:00:00</td>\n      <td>246.655</td>\n      <td>247.100</td>\n      <td>246.530</td>\n      <td>246.619650</td>\n      <td>150414.0</td>\n      <td>V</td>\n    </tr>\n    <tr>\n      <th>3228</th>\n      <td>2023-08-31 15:00:00</td>\n      <td>246.070</td>\n      <td>246.155</td>\n      <td>245.590</td>\n      <td>245.920134</td>\n      <td>233902.0</td>\n      <td>V</td>\n    </tr>\n  </tbody>\n</table>\n<p>3103 rows × 7 columns</p>\n</div>"
     },
     "execution_count": 21,
     "metadata": {},
     "output_type": "execute_result"
    }
   ],
   "source": [
    "df"
   ],
   "metadata": {
    "collapsed": false,
    "ExecuteTime": {
     "end_time": "2023-09-05T16:22:59.259911200Z",
     "start_time": "2023-09-05T16:22:59.228855Z"
    }
   }
  },
  {
   "cell_type": "markdown",
   "source": [
    "#### Loop through each file in the output_path directory.\n",
    "#### For each file, read the CSV into a pandas DataFrame.\n",
    "#### Extract the ticker name from the filename.\n",
    "#### Add a new column \"tic\" to the DataFrame and set its value to the extracted ticker name.\n",
    "#### Save the modified DataFrame back to the same CSV file."
   ],
   "metadata": {
    "collapsed": false
   }
  },
  {
   "cell_type": "code",
   "execution_count": 22,
   "outputs": [
    {
     "name": "stdout",
     "output_type": "stream",
     "text": [
      "Added 'tic' column to the CSV files!\n"
     ]
    }
   ],
   "source": [
    "import os\n",
    "import pandas as pd\n",
    "\n",
    "output_path = r'C:\\Users\\potap\\FinARL\\automatic-stock-trading-applied-reinforcement-learning-sommer-term-2023\\SLURM\\stock_data\\smoothed_preprocessed'\n",
    "\n",
    "# Loop through each file in the directory\n",
    "for filename in os.listdir(output_path):\n",
    "    if filename.endswith('smoothed.csv'):\n",
    "        filepath = os.path.join(output_path, filename)\n",
    "        \n",
    "        # Read the CSV into a pandas DataFrame\n",
    "        df = pd.read_csv(filepath)\n",
    "        \n",
    "        # Extract the ticker name from the filename (assuming it's the part before \"smoothed.csv\")\n",
    "        tic_name = filename.replace('_smoothed.csv', '').strip()\n",
    "        \n",
    "        # Add a new column \"tic\" and set its value to the extracted ticker name\n",
    "        df['tic'] = tic_name\n",
    "        \n",
    "        # Save the modified DataFrame back to the same CSV file\n",
    "        df.to_csv(filepath, index=False)\n",
    "\n",
    "print(\"Added 'tic' column to the CSV files!\")\n"
   ],
   "metadata": {
    "collapsed": false,
    "ExecuteTime": {
     "end_time": "2023-09-05T16:23:21.446134800Z",
     "start_time": "2023-09-05T16:23:20.269210100Z"
    }
   }
  },
  {
   "cell_type": "code",
   "execution_count": 23,
   "outputs": [
    {
     "data": {
      "text/plain": "                     date     open     high      low       close     volume  \\\n0     2021-11-24 14:00:00  200.275  200.447  199.045  199.784352   633438.0   \n1     2021-11-24 15:00:00  200.492  201.049  200.298  199.191190   421083.0   \n2     2021-11-26 09:00:00  190.763  194.061  189.959  195.591475  2564867.0   \n3     2021-11-26 10:00:00  193.906  194.457  192.781  194.229475   900348.0   \n4     2021-11-26 11:00:00  194.961  194.990  193.807  194.384595   669186.0   \n...                   ...      ...      ...      ...         ...        ...   \n3098  2023-08-31 11:00:00  247.660  247.660  246.900  247.137444   202882.0   \n3099  2023-08-31 12:00:00  246.756  246.917  246.580  246.868076   141368.0   \n3100  2023-08-31 13:00:00  246.270  246.635  246.186  246.694182   148073.0   \n3101  2023-08-31 14:00:00  246.655  247.100  246.530  246.619650   150414.0   \n3102  2023-08-31 15:00:00  246.070  246.155  245.590  245.920134   233902.0   \n\n     tic  \n0      V  \n1      V  \n2      V  \n3      V  \n4      V  \n...   ..  \n3098   V  \n3099   V  \n3100   V  \n3101   V  \n3102   V  \n\n[3103 rows x 7 columns]",
      "text/html": "<div>\n<style scoped>\n    .dataframe tbody tr th:only-of-type {\n        vertical-align: middle;\n    }\n\n    .dataframe tbody tr th {\n        vertical-align: top;\n    }\n\n    .dataframe thead th {\n        text-align: right;\n    }\n</style>\n<table border=\"1\" class=\"dataframe\">\n  <thead>\n    <tr style=\"text-align: right;\">\n      <th></th>\n      <th>date</th>\n      <th>open</th>\n      <th>high</th>\n      <th>low</th>\n      <th>close</th>\n      <th>volume</th>\n      <th>tic</th>\n    </tr>\n  </thead>\n  <tbody>\n    <tr>\n      <th>0</th>\n      <td>2021-11-24 14:00:00</td>\n      <td>200.275</td>\n      <td>200.447</td>\n      <td>199.045</td>\n      <td>199.784352</td>\n      <td>633438.0</td>\n      <td>V</td>\n    </tr>\n    <tr>\n      <th>1</th>\n      <td>2021-11-24 15:00:00</td>\n      <td>200.492</td>\n      <td>201.049</td>\n      <td>200.298</td>\n      <td>199.191190</td>\n      <td>421083.0</td>\n      <td>V</td>\n    </tr>\n    <tr>\n      <th>2</th>\n      <td>2021-11-26 09:00:00</td>\n      <td>190.763</td>\n      <td>194.061</td>\n      <td>189.959</td>\n      <td>195.591475</td>\n      <td>2564867.0</td>\n      <td>V</td>\n    </tr>\n    <tr>\n      <th>3</th>\n      <td>2021-11-26 10:00:00</td>\n      <td>193.906</td>\n      <td>194.457</td>\n      <td>192.781</td>\n      <td>194.229475</td>\n      <td>900348.0</td>\n      <td>V</td>\n    </tr>\n    <tr>\n      <th>4</th>\n      <td>2021-11-26 11:00:00</td>\n      <td>194.961</td>\n      <td>194.990</td>\n      <td>193.807</td>\n      <td>194.384595</td>\n      <td>669186.0</td>\n      <td>V</td>\n    </tr>\n    <tr>\n      <th>...</th>\n      <td>...</td>\n      <td>...</td>\n      <td>...</td>\n      <td>...</td>\n      <td>...</td>\n      <td>...</td>\n      <td>...</td>\n    </tr>\n    <tr>\n      <th>3098</th>\n      <td>2023-08-31 11:00:00</td>\n      <td>247.660</td>\n      <td>247.660</td>\n      <td>246.900</td>\n      <td>247.137444</td>\n      <td>202882.0</td>\n      <td>V</td>\n    </tr>\n    <tr>\n      <th>3099</th>\n      <td>2023-08-31 12:00:00</td>\n      <td>246.756</td>\n      <td>246.917</td>\n      <td>246.580</td>\n      <td>246.868076</td>\n      <td>141368.0</td>\n      <td>V</td>\n    </tr>\n    <tr>\n      <th>3100</th>\n      <td>2023-08-31 13:00:00</td>\n      <td>246.270</td>\n      <td>246.635</td>\n      <td>246.186</td>\n      <td>246.694182</td>\n      <td>148073.0</td>\n      <td>V</td>\n    </tr>\n    <tr>\n      <th>3101</th>\n      <td>2023-08-31 14:00:00</td>\n      <td>246.655</td>\n      <td>247.100</td>\n      <td>246.530</td>\n      <td>246.619650</td>\n      <td>150414.0</td>\n      <td>V</td>\n    </tr>\n    <tr>\n      <th>3102</th>\n      <td>2023-08-31 15:00:00</td>\n      <td>246.070</td>\n      <td>246.155</td>\n      <td>245.590</td>\n      <td>245.920134</td>\n      <td>233902.0</td>\n      <td>V</td>\n    </tr>\n  </tbody>\n</table>\n<p>3103 rows × 7 columns</p>\n</div>"
     },
     "execution_count": 23,
     "metadata": {},
     "output_type": "execute_result"
    }
   ],
   "source": [
    "df"
   ],
   "metadata": {
    "collapsed": false,
    "ExecuteTime": {
     "end_time": "2023-09-05T16:23:22.224759Z",
     "start_time": "2023-09-05T16:23:22.187410100Z"
    }
   }
  },
  {
   "cell_type": "markdown",
   "source": [
    "#### Loop through each file in the output_path directory.\n",
    "#### For each file, read the CSV into a pandas DataFrame and append it to a list.\n",
    "#### Concatenate all the DataFrames in the list.\n",
    "#### Sort the resulting DataFrame by the 'date' column.\n",
    "#### Reset the index of the DataFrame to create a new index based on the sorted order.\n",
    "#### Save the merged DataFrame to a new CSV file."
   ],
   "metadata": {
    "collapsed": false
   }
  },
  {
   "cell_type": "code",
   "execution_count": 24,
   "outputs": [
    {
     "name": "stdout",
     "output_type": "stream",
     "text": [
      "Merged data saved to C:\\Users\\potap\\FinARL\\automatic-stock-trading-applied-reinforcement-learning-sommer-term-2023\\SLURM\\stock_data\\merged_data.csv!\n"
     ]
    }
   ],
   "source": [
    "import os\n",
    "import pandas as pd\n",
    "\n",
    "output_path = r'C:\\Users\\potap\\FinARL\\automatic-stock-trading-applied-reinforcement-learning-sommer-term-2023\\SLURM\\stock_data\\smoothed_preprocessed'\n",
    "merged_file_path = r'C:\\Users\\potap\\FinARL\\automatic-stock-trading-applied-reinforcement-learning-sommer-term-2023\\SLURM\\stock_data\\merged_data.csv'\n",
    "\n",
    "dfs = []  # List to store individual DataFrames\n",
    "\n",
    "# Loop through each file in the directory\n",
    "for filename in os.listdir(output_path):\n",
    "    if filename.endswith('smoothed.csv'):\n",
    "        filepath = os.path.join(output_path, filename)\n",
    "        \n",
    "        # Read the CSV into a pandas DataFrame and append to the list\n",
    "        df = pd.read_csv(filepath, parse_dates=['date'])\n",
    "        dfs.append(df)\n",
    "\n",
    "# Concatenate all the DataFrames in the list\n",
    "merged_df = pd.concat(dfs, ignore_index=True)\n",
    "\n",
    "# Sort the DataFrame by the 'date' column\n",
    "merged_df = merged_df.sort_values(by='date')\n",
    "\n",
    "# Create a mapping of unique dates to their corresponding index\n",
    "date_mapping = {date: idx for idx, date in enumerate(merged_df['date'].unique())}\n",
    "\n",
    "# Map the 'date' column to the date_mapping to get the new index\n",
    "merged_df['index'] = merged_df['date'].map(date_mapping)\n",
    "\n",
    "# Set the new index for the DataFrame\n",
    "merged_df.set_index('index', inplace=True, drop=True)\n",
    "\n",
    "# Save the merged DataFrame to a new CSV file\n",
    "merged_df.to_csv(merged_file_path, index=True)\n",
    "\n",
    "print(f\"Merged data saved to {merged_file_path}!\")\n"
   ],
   "metadata": {
    "collapsed": false,
    "ExecuteTime": {
     "end_time": "2023-09-05T16:23:27.755560700Z",
     "start_time": "2023-09-05T16:23:26.667274100Z"
    }
   }
  },
  {
   "cell_type": "code",
   "execution_count": 25,
   "outputs": [
    {
     "data": {
      "text/plain": "                     date     open     high      low       close     volume  \\\nindex                                                                         \n0     2021-11-24 14:00:00  159.380  159.703  158.862  159.233753  3513469.0   \n0     2021-11-24 14:00:00   47.758   47.831   47.607   47.932297   686904.0   \n0     2021-11-24 14:00:00   38.575   38.598   38.350   38.388720   295661.0   \n0     2021-11-24 14:00:00  340.290  341.370  339.000  339.816517   695874.0   \n0     2021-11-24 14:00:00  141.959  142.221  141.802  142.102489   230089.0   \n...                   ...      ...      ...      ...         ...        ...   \n3102  2023-08-31 15:00:00  154.560  154.670  154.450  154.635033   220515.0   \n3102  2023-08-31 15:00:00   96.320   96.490   96.000   96.432804   145544.0   \n3102  2023-08-31 15:00:00  258.545  259.480  258.460  258.904521  4658465.0   \n3102  2023-08-31 15:00:00   59.955   60.000   59.940   60.017765   942197.0   \n3102  2023-08-31 15:00:00  246.070  246.155  245.590  245.920134   233902.0   \n\n        tic  \nindex        \n0      AAPL  \n0       PFE  \n0        MO  \n0      META  \n0        PG  \n...     ...  \n3102     PG  \n3102     PM  \n3102   TSLA  \n3102     KO  \n3102      V  \n\n[93090 rows x 7 columns]",
      "text/html": "<div>\n<style scoped>\n    .dataframe tbody tr th:only-of-type {\n        vertical-align: middle;\n    }\n\n    .dataframe tbody tr th {\n        vertical-align: top;\n    }\n\n    .dataframe thead th {\n        text-align: right;\n    }\n</style>\n<table border=\"1\" class=\"dataframe\">\n  <thead>\n    <tr style=\"text-align: right;\">\n      <th></th>\n      <th>date</th>\n      <th>open</th>\n      <th>high</th>\n      <th>low</th>\n      <th>close</th>\n      <th>volume</th>\n      <th>tic</th>\n    </tr>\n    <tr>\n      <th>index</th>\n      <th></th>\n      <th></th>\n      <th></th>\n      <th></th>\n      <th></th>\n      <th></th>\n      <th></th>\n    </tr>\n  </thead>\n  <tbody>\n    <tr>\n      <th>0</th>\n      <td>2021-11-24 14:00:00</td>\n      <td>159.380</td>\n      <td>159.703</td>\n      <td>158.862</td>\n      <td>159.233753</td>\n      <td>3513469.0</td>\n      <td>AAPL</td>\n    </tr>\n    <tr>\n      <th>0</th>\n      <td>2021-11-24 14:00:00</td>\n      <td>47.758</td>\n      <td>47.831</td>\n      <td>47.607</td>\n      <td>47.932297</td>\n      <td>686904.0</td>\n      <td>PFE</td>\n    </tr>\n    <tr>\n      <th>0</th>\n      <td>2021-11-24 14:00:00</td>\n      <td>38.575</td>\n      <td>38.598</td>\n      <td>38.350</td>\n      <td>38.388720</td>\n      <td>295661.0</td>\n      <td>MO</td>\n    </tr>\n    <tr>\n      <th>0</th>\n      <td>2021-11-24 14:00:00</td>\n      <td>340.290</td>\n      <td>341.370</td>\n      <td>339.000</td>\n      <td>339.816517</td>\n      <td>695874.0</td>\n      <td>META</td>\n    </tr>\n    <tr>\n      <th>0</th>\n      <td>2021-11-24 14:00:00</td>\n      <td>141.959</td>\n      <td>142.221</td>\n      <td>141.802</td>\n      <td>142.102489</td>\n      <td>230089.0</td>\n      <td>PG</td>\n    </tr>\n    <tr>\n      <th>...</th>\n      <td>...</td>\n      <td>...</td>\n      <td>...</td>\n      <td>...</td>\n      <td>...</td>\n      <td>...</td>\n      <td>...</td>\n    </tr>\n    <tr>\n      <th>3102</th>\n      <td>2023-08-31 15:00:00</td>\n      <td>154.560</td>\n      <td>154.670</td>\n      <td>154.450</td>\n      <td>154.635033</td>\n      <td>220515.0</td>\n      <td>PG</td>\n    </tr>\n    <tr>\n      <th>3102</th>\n      <td>2023-08-31 15:00:00</td>\n      <td>96.320</td>\n      <td>96.490</td>\n      <td>96.000</td>\n      <td>96.432804</td>\n      <td>145544.0</td>\n      <td>PM</td>\n    </tr>\n    <tr>\n      <th>3102</th>\n      <td>2023-08-31 15:00:00</td>\n      <td>258.545</td>\n      <td>259.480</td>\n      <td>258.460</td>\n      <td>258.904521</td>\n      <td>4658465.0</td>\n      <td>TSLA</td>\n    </tr>\n    <tr>\n      <th>3102</th>\n      <td>2023-08-31 15:00:00</td>\n      <td>59.955</td>\n      <td>60.000</td>\n      <td>59.940</td>\n      <td>60.017765</td>\n      <td>942197.0</td>\n      <td>KO</td>\n    </tr>\n    <tr>\n      <th>3102</th>\n      <td>2023-08-31 15:00:00</td>\n      <td>246.070</td>\n      <td>246.155</td>\n      <td>245.590</td>\n      <td>245.920134</td>\n      <td>233902.0</td>\n      <td>V</td>\n    </tr>\n  </tbody>\n</table>\n<p>93090 rows × 7 columns</p>\n</div>"
     },
     "execution_count": 25,
     "metadata": {},
     "output_type": "execute_result"
    }
   ],
   "source": [
    "merged_df"
   ],
   "metadata": {
    "collapsed": false,
    "ExecuteTime": {
     "end_time": "2023-09-05T16:23:28.578299300Z",
     "start_time": "2023-09-05T16:23:28.536731200Z"
    }
   }
  },
  {
   "cell_type": "markdown",
   "source": [
    "#### Read the merged CSV file into a pandas DataFrame.\n",
    "#### Extract the hour from the \"date\" column.\n",
    "#### Map the extracted hour to the corresponding value for the \"day\" column.\n",
    "#### Save the modified DataFrame back to the same CSV file."
   ],
   "metadata": {
    "collapsed": false
   }
  },
  {
   "cell_type": "code",
   "execution_count": 26,
   "outputs": [
    {
     "name": "stdout",
     "output_type": "stream",
     "text": [
      "Added 'day' column to C:\\Users\\potap\\FinARL\\automatic-stock-trading-applied-reinforcement-learning-sommer-term-2023\\SLURM\\stock_data\\merged_data.csv!\n"
     ]
    }
   ],
   "source": [
    "import pandas as pd\n",
    "\n",
    "merged_file_path = r'C:\\Users\\potap\\FinARL\\automatic-stock-trading-applied-reinforcement-learning-sommer-term-2023\\SLURM\\stock_data\\merged_data.csv'\n",
    "\n",
    "# Read the merged CSV file into a pandas DataFrame\n",
    "df = pd.read_csv(merged_file_path, parse_dates=['date'])\n",
    "# Set the index of the DataFrame to the \"index\" column\n",
    "df.set_index('index', inplace=True)\n",
    "\n",
    "# Extract the hour from the \"date\" column and map it to the corresponding value for the \"day\" column\n",
    "df['day'] = df['date'].dt.hour - 9\n",
    "\n",
    "# Save the modified DataFrame back to the same CSV file\n",
    "df.to_csv(merged_file_path, index=False)\n",
    "\n",
    "print(f\"Added 'day' column to {merged_file_path}!\")\n"
   ],
   "metadata": {
    "collapsed": false,
    "ExecuteTime": {
     "end_time": "2023-09-05T16:23:45.387383600Z",
     "start_time": "2023-09-05T16:23:44.800531300Z"
    }
   }
  },
  {
   "cell_type": "code",
   "execution_count": 27,
   "outputs": [
    {
     "data": {
      "text/plain": "                     date     open     high      low       close     volume  \\\nindex                                                                         \n0     2021-11-24 14:00:00  159.380  159.703  158.862  159.233753  3513469.0   \n0     2021-11-24 14:00:00   47.758   47.831   47.607   47.932297   686904.0   \n0     2021-11-24 14:00:00   38.575   38.598   38.350   38.388720   295661.0   \n0     2021-11-24 14:00:00  340.290  341.370  339.000  339.816517   695874.0   \n0     2021-11-24 14:00:00  141.959  142.221  141.802  142.102489   230089.0   \n...                   ...      ...      ...      ...         ...        ...   \n3102  2023-08-31 15:00:00  154.560  154.670  154.450  154.635033   220515.0   \n3102  2023-08-31 15:00:00   96.320   96.490   96.000   96.432804   145544.0   \n3102  2023-08-31 15:00:00  258.545  259.480  258.460  258.904521  4658465.0   \n3102  2023-08-31 15:00:00   59.955   60.000   59.940   60.017765   942197.0   \n3102  2023-08-31 15:00:00  246.070  246.155  245.590  245.920134   233902.0   \n\n        tic  day  \nindex             \n0      AAPL    5  \n0       PFE    5  \n0        MO    5  \n0      META    5  \n0        PG    5  \n...     ...  ...  \n3102     PG    6  \n3102     PM    6  \n3102   TSLA    6  \n3102     KO    6  \n3102      V    6  \n\n[93090 rows x 8 columns]",
      "text/html": "<div>\n<style scoped>\n    .dataframe tbody tr th:only-of-type {\n        vertical-align: middle;\n    }\n\n    .dataframe tbody tr th {\n        vertical-align: top;\n    }\n\n    .dataframe thead th {\n        text-align: right;\n    }\n</style>\n<table border=\"1\" class=\"dataframe\">\n  <thead>\n    <tr style=\"text-align: right;\">\n      <th></th>\n      <th>date</th>\n      <th>open</th>\n      <th>high</th>\n      <th>low</th>\n      <th>close</th>\n      <th>volume</th>\n      <th>tic</th>\n      <th>day</th>\n    </tr>\n    <tr>\n      <th>index</th>\n      <th></th>\n      <th></th>\n      <th></th>\n      <th></th>\n      <th></th>\n      <th></th>\n      <th></th>\n      <th></th>\n    </tr>\n  </thead>\n  <tbody>\n    <tr>\n      <th>0</th>\n      <td>2021-11-24 14:00:00</td>\n      <td>159.380</td>\n      <td>159.703</td>\n      <td>158.862</td>\n      <td>159.233753</td>\n      <td>3513469.0</td>\n      <td>AAPL</td>\n      <td>5</td>\n    </tr>\n    <tr>\n      <th>0</th>\n      <td>2021-11-24 14:00:00</td>\n      <td>47.758</td>\n      <td>47.831</td>\n      <td>47.607</td>\n      <td>47.932297</td>\n      <td>686904.0</td>\n      <td>PFE</td>\n      <td>5</td>\n    </tr>\n    <tr>\n      <th>0</th>\n      <td>2021-11-24 14:00:00</td>\n      <td>38.575</td>\n      <td>38.598</td>\n      <td>38.350</td>\n      <td>38.388720</td>\n      <td>295661.0</td>\n      <td>MO</td>\n      <td>5</td>\n    </tr>\n    <tr>\n      <th>0</th>\n      <td>2021-11-24 14:00:00</td>\n      <td>340.290</td>\n      <td>341.370</td>\n      <td>339.000</td>\n      <td>339.816517</td>\n      <td>695874.0</td>\n      <td>META</td>\n      <td>5</td>\n    </tr>\n    <tr>\n      <th>0</th>\n      <td>2021-11-24 14:00:00</td>\n      <td>141.959</td>\n      <td>142.221</td>\n      <td>141.802</td>\n      <td>142.102489</td>\n      <td>230089.0</td>\n      <td>PG</td>\n      <td>5</td>\n    </tr>\n    <tr>\n      <th>...</th>\n      <td>...</td>\n      <td>...</td>\n      <td>...</td>\n      <td>...</td>\n      <td>...</td>\n      <td>...</td>\n      <td>...</td>\n      <td>...</td>\n    </tr>\n    <tr>\n      <th>3102</th>\n      <td>2023-08-31 15:00:00</td>\n      <td>154.560</td>\n      <td>154.670</td>\n      <td>154.450</td>\n      <td>154.635033</td>\n      <td>220515.0</td>\n      <td>PG</td>\n      <td>6</td>\n    </tr>\n    <tr>\n      <th>3102</th>\n      <td>2023-08-31 15:00:00</td>\n      <td>96.320</td>\n      <td>96.490</td>\n      <td>96.000</td>\n      <td>96.432804</td>\n      <td>145544.0</td>\n      <td>PM</td>\n      <td>6</td>\n    </tr>\n    <tr>\n      <th>3102</th>\n      <td>2023-08-31 15:00:00</td>\n      <td>258.545</td>\n      <td>259.480</td>\n      <td>258.460</td>\n      <td>258.904521</td>\n      <td>4658465.0</td>\n      <td>TSLA</td>\n      <td>6</td>\n    </tr>\n    <tr>\n      <th>3102</th>\n      <td>2023-08-31 15:00:00</td>\n      <td>59.955</td>\n      <td>60.000</td>\n      <td>59.940</td>\n      <td>60.017765</td>\n      <td>942197.0</td>\n      <td>KO</td>\n      <td>6</td>\n    </tr>\n    <tr>\n      <th>3102</th>\n      <td>2023-08-31 15:00:00</td>\n      <td>246.070</td>\n      <td>246.155</td>\n      <td>245.590</td>\n      <td>245.920134</td>\n      <td>233902.0</td>\n      <td>V</td>\n      <td>6</td>\n    </tr>\n  </tbody>\n</table>\n<p>93090 rows × 8 columns</p>\n</div>"
     },
     "execution_count": 27,
     "metadata": {},
     "output_type": "execute_result"
    }
   ],
   "source": [
    "df"
   ],
   "metadata": {
    "collapsed": false,
    "ExecuteTime": {
     "end_time": "2023-09-05T16:23:46.438110300Z",
     "start_time": "2023-09-05T16:23:46.399578400Z"
    }
   }
  },
  {
   "cell_type": "markdown",
   "source": [
    "#### Add technical indicators"
   ],
   "metadata": {
    "collapsed": false
   }
  },
  {
   "cell_type": "code",
   "execution_count": 28,
   "outputs": [
    {
     "name": "stdout",
     "output_type": "stream",
     "text": [
      "Successfully added technical indicators\n"
     ]
    }
   ],
   "source": [
    "from finrl.meta.preprocessor.preprocessors import FeatureEngineer\n",
    "from finrl.config import INDICATORS\n",
    "\n",
    "fe = FeatureEngineer(use_technical_indicator=True,\n",
    "                     tech_indicator_list = INDICATORS,\n",
    "                     use_vix=False,\n",
    "                     use_turbulence=False,\n",
    "                     user_defined_feature = False)\n",
    "\n",
    "processed = fe.preprocess_data(df)\n",
    "\n",
    "with_TI_file_path = r'C:\\Users\\potap\\FinARL\\automatic-stock-trading-applied-reinforcement-learning-sommer-term-2023\\SLURM\\stock_data\\smoothed_with_TI_file_path.csv'\n",
    "# Sort the DataFrame by the 'date' column\n",
    "processed = processed.sort_values(by='date')\n",
    "\n",
    "# Create a mapping of unique dates to their corresponding index\n",
    "date_mapping = {date: idx for idx, date in enumerate(processed['date'].unique())}\n",
    "\n",
    "# Map the 'date' column to the date_mapping to get the new index\n",
    "processed['index'] = processed['date'].map(date_mapping)\n",
    "\n",
    "# Set the new index for the DataFrame\n",
    "processed.set_index('index', inplace=True, drop=True)\n",
    "# Save the modified DataFrame back to the same CSV file\n",
    "processed.to_csv(with_TI_file_path, index=True)"
   ],
   "metadata": {
    "collapsed": false,
    "ExecuteTime": {
     "end_time": "2023-09-05T16:24:40.840743300Z",
     "start_time": "2023-09-05T16:23:52.246457100Z"
    }
   }
  },
  {
   "cell_type": "code",
   "execution_count": 29,
   "outputs": [
    {
     "data": {
      "text/plain": "                     date     open     high      low       close     volume  \\\nindex                                                                         \n0     2021-11-24 14:00:00  159.380  159.703  158.862  159.233753  3513469.0   \n0     2021-11-24 14:00:00  200.275  200.447  199.045  199.784352   633438.0   \n0     2021-11-24 14:00:00  115.857  116.068  115.399  115.597929   212791.0   \n0     2021-11-24 14:00:00  375.023  376.450  370.563  373.488099  2501580.0   \n0     2021-11-24 14:00:00   16.599   16.628   16.523   16.555881  2472015.0   \n...                   ...      ...      ...      ...         ...        ...   \n3102  2023-08-31 15:00:00  147.220  147.350  147.020  147.108787   190191.0   \n3102  2023-08-31 15:00:00  188.500  189.060  188.495  188.865471  2997398.0   \n3102  2023-08-31 15:00:00   93.880   93.995   93.790   93.899219   282205.0   \n3102  2023-08-31 15:00:00   59.955   60.000   59.940   60.017765   942197.0   \n3102  2023-08-31 15:00:00  246.070  246.155  245.590  245.920134   233902.0   \n\n        tic  day      macd     boll_ub     boll_lb     rsi_30      cci_30  \\\nindex                                                                       \n0      AAPL    5  0.000000  159.354924  158.980039   0.000000   66.666667   \n0         V    5  0.000000  159.354924  158.980039   0.000000   66.666667   \n0       TSM    5  0.000000  159.354924  158.980039   0.000000   66.666667   \n0      TSLA    5  0.000000  159.354924  158.980039   0.000000   66.666667   \n0         T    5  0.000000  159.354924  158.980039   0.000000   66.666667   \n...     ...  ...       ...         ...         ...        ...         ...   \n3102   ABBV    6  0.086125  148.722541  146.743531  43.886203  -61.200572   \n3102   AAPL    6  2.132434  190.465503  182.390773  77.108725   94.728496   \n3102    TSM    6  0.013774   95.791165   93.501833  50.528099  -37.819240   \n3102     KO    6 -0.075528   60.606409   60.066700  39.547512 -234.859680   \n3102      V    6  0.832640  248.207617  244.174626  59.645252   26.510234   \n\n            dx_30  close_30_sma  close_60_sma  \nindex                                          \n0      100.000000    159.233753    159.233753  \n0      100.000000    199.784352    199.784352  \n0      100.000000    115.597929    115.597929  \n0      100.000000    373.488099    373.488099  \n0      100.000000     16.555881     16.555881  \n...           ...           ...           ...  \n3102     1.038597    147.564281    147.672017  \n3102    64.459904    184.096333    181.050974  \n3102     3.483295     94.301399     93.680137  \n3102    19.689448     60.388021     60.357206  \n3102     7.555786    245.404548    243.221232  \n\n[93090 rows x 16 columns]",
      "text/html": "<div>\n<style scoped>\n    .dataframe tbody tr th:only-of-type {\n        vertical-align: middle;\n    }\n\n    .dataframe tbody tr th {\n        vertical-align: top;\n    }\n\n    .dataframe thead th {\n        text-align: right;\n    }\n</style>\n<table border=\"1\" class=\"dataframe\">\n  <thead>\n    <tr style=\"text-align: right;\">\n      <th></th>\n      <th>date</th>\n      <th>open</th>\n      <th>high</th>\n      <th>low</th>\n      <th>close</th>\n      <th>volume</th>\n      <th>tic</th>\n      <th>day</th>\n      <th>macd</th>\n      <th>boll_ub</th>\n      <th>boll_lb</th>\n      <th>rsi_30</th>\n      <th>cci_30</th>\n      <th>dx_30</th>\n      <th>close_30_sma</th>\n      <th>close_60_sma</th>\n    </tr>\n    <tr>\n      <th>index</th>\n      <th></th>\n      <th></th>\n      <th></th>\n      <th></th>\n      <th></th>\n      <th></th>\n      <th></th>\n      <th></th>\n      <th></th>\n      <th></th>\n      <th></th>\n      <th></th>\n      <th></th>\n      <th></th>\n      <th></th>\n      <th></th>\n    </tr>\n  </thead>\n  <tbody>\n    <tr>\n      <th>0</th>\n      <td>2021-11-24 14:00:00</td>\n      <td>159.380</td>\n      <td>159.703</td>\n      <td>158.862</td>\n      <td>159.233753</td>\n      <td>3513469.0</td>\n      <td>AAPL</td>\n      <td>5</td>\n      <td>0.000000</td>\n      <td>159.354924</td>\n      <td>158.980039</td>\n      <td>0.000000</td>\n      <td>66.666667</td>\n      <td>100.000000</td>\n      <td>159.233753</td>\n      <td>159.233753</td>\n    </tr>\n    <tr>\n      <th>0</th>\n      <td>2021-11-24 14:00:00</td>\n      <td>200.275</td>\n      <td>200.447</td>\n      <td>199.045</td>\n      <td>199.784352</td>\n      <td>633438.0</td>\n      <td>V</td>\n      <td>5</td>\n      <td>0.000000</td>\n      <td>159.354924</td>\n      <td>158.980039</td>\n      <td>0.000000</td>\n      <td>66.666667</td>\n      <td>100.000000</td>\n      <td>199.784352</td>\n      <td>199.784352</td>\n    </tr>\n    <tr>\n      <th>0</th>\n      <td>2021-11-24 14:00:00</td>\n      <td>115.857</td>\n      <td>116.068</td>\n      <td>115.399</td>\n      <td>115.597929</td>\n      <td>212791.0</td>\n      <td>TSM</td>\n      <td>5</td>\n      <td>0.000000</td>\n      <td>159.354924</td>\n      <td>158.980039</td>\n      <td>0.000000</td>\n      <td>66.666667</td>\n      <td>100.000000</td>\n      <td>115.597929</td>\n      <td>115.597929</td>\n    </tr>\n    <tr>\n      <th>0</th>\n      <td>2021-11-24 14:00:00</td>\n      <td>375.023</td>\n      <td>376.450</td>\n      <td>370.563</td>\n      <td>373.488099</td>\n      <td>2501580.0</td>\n      <td>TSLA</td>\n      <td>5</td>\n      <td>0.000000</td>\n      <td>159.354924</td>\n      <td>158.980039</td>\n      <td>0.000000</td>\n      <td>66.666667</td>\n      <td>100.000000</td>\n      <td>373.488099</td>\n      <td>373.488099</td>\n    </tr>\n    <tr>\n      <th>0</th>\n      <td>2021-11-24 14:00:00</td>\n      <td>16.599</td>\n      <td>16.628</td>\n      <td>16.523</td>\n      <td>16.555881</td>\n      <td>2472015.0</td>\n      <td>T</td>\n      <td>5</td>\n      <td>0.000000</td>\n      <td>159.354924</td>\n      <td>158.980039</td>\n      <td>0.000000</td>\n      <td>66.666667</td>\n      <td>100.000000</td>\n      <td>16.555881</td>\n      <td>16.555881</td>\n    </tr>\n    <tr>\n      <th>...</th>\n      <td>...</td>\n      <td>...</td>\n      <td>...</td>\n      <td>...</td>\n      <td>...</td>\n      <td>...</td>\n      <td>...</td>\n      <td>...</td>\n      <td>...</td>\n      <td>...</td>\n      <td>...</td>\n      <td>...</td>\n      <td>...</td>\n      <td>...</td>\n      <td>...</td>\n      <td>...</td>\n    </tr>\n    <tr>\n      <th>3102</th>\n      <td>2023-08-31 15:00:00</td>\n      <td>147.220</td>\n      <td>147.350</td>\n      <td>147.020</td>\n      <td>147.108787</td>\n      <td>190191.0</td>\n      <td>ABBV</td>\n      <td>6</td>\n      <td>0.086125</td>\n      <td>148.722541</td>\n      <td>146.743531</td>\n      <td>43.886203</td>\n      <td>-61.200572</td>\n      <td>1.038597</td>\n      <td>147.564281</td>\n      <td>147.672017</td>\n    </tr>\n    <tr>\n      <th>3102</th>\n      <td>2023-08-31 15:00:00</td>\n      <td>188.500</td>\n      <td>189.060</td>\n      <td>188.495</td>\n      <td>188.865471</td>\n      <td>2997398.0</td>\n      <td>AAPL</td>\n      <td>6</td>\n      <td>2.132434</td>\n      <td>190.465503</td>\n      <td>182.390773</td>\n      <td>77.108725</td>\n      <td>94.728496</td>\n      <td>64.459904</td>\n      <td>184.096333</td>\n      <td>181.050974</td>\n    </tr>\n    <tr>\n      <th>3102</th>\n      <td>2023-08-31 15:00:00</td>\n      <td>93.880</td>\n      <td>93.995</td>\n      <td>93.790</td>\n      <td>93.899219</td>\n      <td>282205.0</td>\n      <td>TSM</td>\n      <td>6</td>\n      <td>0.013774</td>\n      <td>95.791165</td>\n      <td>93.501833</td>\n      <td>50.528099</td>\n      <td>-37.819240</td>\n      <td>3.483295</td>\n      <td>94.301399</td>\n      <td>93.680137</td>\n    </tr>\n    <tr>\n      <th>3102</th>\n      <td>2023-08-31 15:00:00</td>\n      <td>59.955</td>\n      <td>60.000</td>\n      <td>59.940</td>\n      <td>60.017765</td>\n      <td>942197.0</td>\n      <td>KO</td>\n      <td>6</td>\n      <td>-0.075528</td>\n      <td>60.606409</td>\n      <td>60.066700</td>\n      <td>39.547512</td>\n      <td>-234.859680</td>\n      <td>19.689448</td>\n      <td>60.388021</td>\n      <td>60.357206</td>\n    </tr>\n    <tr>\n      <th>3102</th>\n      <td>2023-08-31 15:00:00</td>\n      <td>246.070</td>\n      <td>246.155</td>\n      <td>245.590</td>\n      <td>245.920134</td>\n      <td>233902.0</td>\n      <td>V</td>\n      <td>6</td>\n      <td>0.832640</td>\n      <td>248.207617</td>\n      <td>244.174626</td>\n      <td>59.645252</td>\n      <td>26.510234</td>\n      <td>7.555786</td>\n      <td>245.404548</td>\n      <td>243.221232</td>\n    </tr>\n  </tbody>\n</table>\n<p>93090 rows × 16 columns</p>\n</div>"
     },
     "execution_count": 29,
     "metadata": {},
     "output_type": "execute_result"
    }
   ],
   "source": [
    "processed"
   ],
   "metadata": {
    "collapsed": false,
    "ExecuteTime": {
     "end_time": "2023-09-05T16:25:04.363447200Z",
     "start_time": "2023-09-05T16:25:04.326920100Z"
    }
   }
  },
  {
   "cell_type": "markdown",
   "source": [
    "## Add VIX"
   ],
   "metadata": {
    "collapsed": false
   }
  },
  {
   "cell_type": "code",
   "execution_count": 30,
   "outputs": [
    {
     "name": "stdout",
     "output_type": "stream",
     "text": [
      "Added 'vix' column to C:\\Users\\potap\\FinARL\\automatic-stock-trading-applied-reinforcement-learning-sommer-term-2023\\SLURM\\stock_data\\smoothed_with_TI_file_path.csv!\n"
     ]
    }
   ],
   "source": [
    "import pandas as pd\n",
    "vixy_file_path = r'C:\\Users\\potap\\FinARL\\automatic-stock-trading-applied-reinforcement-learning-sommer-term-2023\\Generated Sentiment Data in FinRL\\stock_data\\VIXY.csv'\n",
    "\n",
    "vixy = pd.read_csv(vixy_file_path, parse_dates=['Time'])\n",
    "\n",
    "# Set the index of the VIXY DataFrame to the \"Time\" column\n",
    "vixy.set_index('Time', inplace=True)\n",
    "\n",
    "# Join the processed DataFrame with the VIXY DataFrame on the \"date\" column and add the \"Close\" column as the \"vix\" column\n",
    "processed = processed.join(vixy['Close'], on='date', how='left')\n",
    "processed.rename(columns={'Close': 'vix'}, inplace=True)\n",
    "\n",
    "# Save the modified processed DataFrame back to the original CSV file\n",
    "processed.to_csv(with_TI_file_path, index=False)\n",
    "\n",
    "print(f\"Added 'vix' column to {with_TI_file_path}!\")\n"
   ],
   "metadata": {
    "collapsed": false,
    "ExecuteTime": {
     "end_time": "2023-09-05T16:31:12.946877100Z",
     "start_time": "2023-09-05T16:31:11.355930Z"
    }
   }
  },
  {
   "cell_type": "code",
   "execution_count": 32,
   "outputs": [
    {
     "data": {
      "text/plain": "                     date     open     high      low       close     volume  \\\nindex                                                                         \n0     2021-11-24 14:00:00  159.380  159.703  158.862  159.233753  3513469.0   \n0     2021-11-24 14:00:00  200.275  200.447  199.045  199.784352   633438.0   \n0     2021-11-24 14:00:00  115.857  116.068  115.399  115.597929   212791.0   \n0     2021-11-24 14:00:00  375.023  376.450  370.563  373.488099  2501580.0   \n0     2021-11-24 14:00:00   16.599   16.628   16.523   16.555881  2472015.0   \n...                   ...      ...      ...      ...         ...        ...   \n3102  2023-08-31 15:00:00  147.220  147.350  147.020  147.108787   190191.0   \n3102  2023-08-31 15:00:00  188.500  189.060  188.495  188.865471  2997398.0   \n3102  2023-08-31 15:00:00   93.880   93.995   93.790   93.899219   282205.0   \n3102  2023-08-31 15:00:00   59.955   60.000   59.940   60.017765   942197.0   \n3102  2023-08-31 15:00:00  246.070  246.155  245.590  245.920134   233902.0   \n\n        tic  day      macd     boll_ub     boll_lb     rsi_30      cci_30  \\\nindex                                                                       \n0      AAPL    5  0.000000  159.354924  158.980039   0.000000   66.666667   \n0         V    5  0.000000  159.354924  158.980039   0.000000   66.666667   \n0       TSM    5  0.000000  159.354924  158.980039   0.000000   66.666667   \n0      TSLA    5  0.000000  159.354924  158.980039   0.000000   66.666667   \n0         T    5  0.000000  159.354924  158.980039   0.000000   66.666667   \n...     ...  ...       ...         ...         ...        ...         ...   \n3102   ABBV    6  0.086125  148.722541  146.743531  43.886203  -61.200572   \n3102   AAPL    6  2.132434  190.465503  182.390773  77.108725   94.728496   \n3102    TSM    6  0.013774   95.791165   93.501833  50.528099  -37.819240   \n3102     KO    6 -0.075528   60.606409   60.066700  39.547512 -234.859680   \n3102      V    6  0.832640  248.207617  244.174626  59.645252   26.510234   \n\n            dx_30  close_30_sma  close_60_sma     vix  \nindex                                                  \n0      100.000000    159.233753    159.233753  85.622  \n0      100.000000    199.784352    199.784352  85.622  \n0      100.000000    115.597929    115.597929  85.622  \n0      100.000000    373.488099    373.488099  85.622  \n0      100.000000     16.555881     16.555881  85.622  \n...           ...           ...           ...     ...  \n3102     1.038597    147.564281    147.672017  21.480  \n3102    64.459904    184.096333    181.050974  21.480  \n3102     3.483295     94.301399     93.680137  21.480  \n3102    19.689448     60.388021     60.357206  21.480  \n3102     7.555786    245.404548    243.221232  21.480  \n\n[93090 rows x 17 columns]",
      "text/html": "<div>\n<style scoped>\n    .dataframe tbody tr th:only-of-type {\n        vertical-align: middle;\n    }\n\n    .dataframe tbody tr th {\n        vertical-align: top;\n    }\n\n    .dataframe thead th {\n        text-align: right;\n    }\n</style>\n<table border=\"1\" class=\"dataframe\">\n  <thead>\n    <tr style=\"text-align: right;\">\n      <th></th>\n      <th>date</th>\n      <th>open</th>\n      <th>high</th>\n      <th>low</th>\n      <th>close</th>\n      <th>volume</th>\n      <th>tic</th>\n      <th>day</th>\n      <th>macd</th>\n      <th>boll_ub</th>\n      <th>boll_lb</th>\n      <th>rsi_30</th>\n      <th>cci_30</th>\n      <th>dx_30</th>\n      <th>close_30_sma</th>\n      <th>close_60_sma</th>\n      <th>vix</th>\n    </tr>\n    <tr>\n      <th>index</th>\n      <th></th>\n      <th></th>\n      <th></th>\n      <th></th>\n      <th></th>\n      <th></th>\n      <th></th>\n      <th></th>\n      <th></th>\n      <th></th>\n      <th></th>\n      <th></th>\n      <th></th>\n      <th></th>\n      <th></th>\n      <th></th>\n      <th></th>\n    </tr>\n  </thead>\n  <tbody>\n    <tr>\n      <th>0</th>\n      <td>2021-11-24 14:00:00</td>\n      <td>159.380</td>\n      <td>159.703</td>\n      <td>158.862</td>\n      <td>159.233753</td>\n      <td>3513469.0</td>\n      <td>AAPL</td>\n      <td>5</td>\n      <td>0.000000</td>\n      <td>159.354924</td>\n      <td>158.980039</td>\n      <td>0.000000</td>\n      <td>66.666667</td>\n      <td>100.000000</td>\n      <td>159.233753</td>\n      <td>159.233753</td>\n      <td>85.622</td>\n    </tr>\n    <tr>\n      <th>0</th>\n      <td>2021-11-24 14:00:00</td>\n      <td>200.275</td>\n      <td>200.447</td>\n      <td>199.045</td>\n      <td>199.784352</td>\n      <td>633438.0</td>\n      <td>V</td>\n      <td>5</td>\n      <td>0.000000</td>\n      <td>159.354924</td>\n      <td>158.980039</td>\n      <td>0.000000</td>\n      <td>66.666667</td>\n      <td>100.000000</td>\n      <td>199.784352</td>\n      <td>199.784352</td>\n      <td>85.622</td>\n    </tr>\n    <tr>\n      <th>0</th>\n      <td>2021-11-24 14:00:00</td>\n      <td>115.857</td>\n      <td>116.068</td>\n      <td>115.399</td>\n      <td>115.597929</td>\n      <td>212791.0</td>\n      <td>TSM</td>\n      <td>5</td>\n      <td>0.000000</td>\n      <td>159.354924</td>\n      <td>158.980039</td>\n      <td>0.000000</td>\n      <td>66.666667</td>\n      <td>100.000000</td>\n      <td>115.597929</td>\n      <td>115.597929</td>\n      <td>85.622</td>\n    </tr>\n    <tr>\n      <th>0</th>\n      <td>2021-11-24 14:00:00</td>\n      <td>375.023</td>\n      <td>376.450</td>\n      <td>370.563</td>\n      <td>373.488099</td>\n      <td>2501580.0</td>\n      <td>TSLA</td>\n      <td>5</td>\n      <td>0.000000</td>\n      <td>159.354924</td>\n      <td>158.980039</td>\n      <td>0.000000</td>\n      <td>66.666667</td>\n      <td>100.000000</td>\n      <td>373.488099</td>\n      <td>373.488099</td>\n      <td>85.622</td>\n    </tr>\n    <tr>\n      <th>0</th>\n      <td>2021-11-24 14:00:00</td>\n      <td>16.599</td>\n      <td>16.628</td>\n      <td>16.523</td>\n      <td>16.555881</td>\n      <td>2472015.0</td>\n      <td>T</td>\n      <td>5</td>\n      <td>0.000000</td>\n      <td>159.354924</td>\n      <td>158.980039</td>\n      <td>0.000000</td>\n      <td>66.666667</td>\n      <td>100.000000</td>\n      <td>16.555881</td>\n      <td>16.555881</td>\n      <td>85.622</td>\n    </tr>\n    <tr>\n      <th>...</th>\n      <td>...</td>\n      <td>...</td>\n      <td>...</td>\n      <td>...</td>\n      <td>...</td>\n      <td>...</td>\n      <td>...</td>\n      <td>...</td>\n      <td>...</td>\n      <td>...</td>\n      <td>...</td>\n      <td>...</td>\n      <td>...</td>\n      <td>...</td>\n      <td>...</td>\n      <td>...</td>\n      <td>...</td>\n    </tr>\n    <tr>\n      <th>3102</th>\n      <td>2023-08-31 15:00:00</td>\n      <td>147.220</td>\n      <td>147.350</td>\n      <td>147.020</td>\n      <td>147.108787</td>\n      <td>190191.0</td>\n      <td>ABBV</td>\n      <td>6</td>\n      <td>0.086125</td>\n      <td>148.722541</td>\n      <td>146.743531</td>\n      <td>43.886203</td>\n      <td>-61.200572</td>\n      <td>1.038597</td>\n      <td>147.564281</td>\n      <td>147.672017</td>\n      <td>21.480</td>\n    </tr>\n    <tr>\n      <th>3102</th>\n      <td>2023-08-31 15:00:00</td>\n      <td>188.500</td>\n      <td>189.060</td>\n      <td>188.495</td>\n      <td>188.865471</td>\n      <td>2997398.0</td>\n      <td>AAPL</td>\n      <td>6</td>\n      <td>2.132434</td>\n      <td>190.465503</td>\n      <td>182.390773</td>\n      <td>77.108725</td>\n      <td>94.728496</td>\n      <td>64.459904</td>\n      <td>184.096333</td>\n      <td>181.050974</td>\n      <td>21.480</td>\n    </tr>\n    <tr>\n      <th>3102</th>\n      <td>2023-08-31 15:00:00</td>\n      <td>93.880</td>\n      <td>93.995</td>\n      <td>93.790</td>\n      <td>93.899219</td>\n      <td>282205.0</td>\n      <td>TSM</td>\n      <td>6</td>\n      <td>0.013774</td>\n      <td>95.791165</td>\n      <td>93.501833</td>\n      <td>50.528099</td>\n      <td>-37.819240</td>\n      <td>3.483295</td>\n      <td>94.301399</td>\n      <td>93.680137</td>\n      <td>21.480</td>\n    </tr>\n    <tr>\n      <th>3102</th>\n      <td>2023-08-31 15:00:00</td>\n      <td>59.955</td>\n      <td>60.000</td>\n      <td>59.940</td>\n      <td>60.017765</td>\n      <td>942197.0</td>\n      <td>KO</td>\n      <td>6</td>\n      <td>-0.075528</td>\n      <td>60.606409</td>\n      <td>60.066700</td>\n      <td>39.547512</td>\n      <td>-234.859680</td>\n      <td>19.689448</td>\n      <td>60.388021</td>\n      <td>60.357206</td>\n      <td>21.480</td>\n    </tr>\n    <tr>\n      <th>3102</th>\n      <td>2023-08-31 15:00:00</td>\n      <td>246.070</td>\n      <td>246.155</td>\n      <td>245.590</td>\n      <td>245.920134</td>\n      <td>233902.0</td>\n      <td>V</td>\n      <td>6</td>\n      <td>0.832640</td>\n      <td>248.207617</td>\n      <td>244.174626</td>\n      <td>59.645252</td>\n      <td>26.510234</td>\n      <td>7.555786</td>\n      <td>245.404548</td>\n      <td>243.221232</td>\n      <td>21.480</td>\n    </tr>\n  </tbody>\n</table>\n<p>93090 rows × 17 columns</p>\n</div>"
     },
     "execution_count": 32,
     "metadata": {},
     "output_type": "execute_result"
    }
   ],
   "source": [
    "processed"
   ],
   "metadata": {
    "collapsed": false,
    "ExecuteTime": {
     "end_time": "2023-09-05T16:31:49.400263300Z",
     "start_time": "2023-09-05T16:31:49.367374700Z"
    }
   }
  },
  {
   "cell_type": "markdown",
   "source": [
    "# Add Sentiment"
   ],
   "metadata": {
    "collapsed": false
   }
  },
  {
   "cell_type": "code",
   "execution_count": 33,
   "outputs": [
    {
     "name": "stdout",
     "output_type": "stream",
     "text": [
      "Merged sentiment data into C:\\Users\\potap\\FinARL\\automatic-stock-trading-applied-reinforcement-learning-sommer-term-2023\\SLURM\\stock_data\\smoothed_finance_w_sentiment.csv!\n"
     ]
    }
   ],
   "source": [
    "import pandas as pd\n",
    "\n",
    "sentiment_file_path = r\"C:\\Users\\potap\\FinARL\\automatic-stock-trading-applied-reinforcement-learning-sommer-term-2023\\sentiment_data_FMP\\all_stocks_sentiment.csv\"\n",
    "\n",
    "sentiment = pd.read_csv(sentiment_file_path, parse_dates=['date'])\n",
    "\n",
    "# Merge the two DataFrames using the \"date\" and \"tic\" columns as keys\n",
    "merged_df = pd.merge(processed, sentiment, on=['date', 'tic'], how='left')\n",
    "\n",
    "# Save the merged DataFrame back to the processed CSV file\n",
    "vixy_file_path = r'C:\\Users\\potap\\FinARL\\automatic-stock-trading-applied-reinforcement-learning-sommer-term-2023\\Generated Sentiment Data in FinRL\\stock_data\\VIXY.csv'\n",
    "\n",
    "output_path = r'C:\\Users\\potap\\FinARL\\automatic-stock-trading-applied-reinforcement-learning-sommer-term-2023\\SLURM\\stock_data\\smoothed_finance_w_sentiment.csv'\n",
    "merged_df.to_csv(output_path, index=False)\n",
    "\n",
    "print(f\"Merged sentiment data into {output_path}!\")\n"
   ],
   "metadata": {
    "collapsed": false,
    "ExecuteTime": {
     "end_time": "2023-09-05T16:45:44.699168Z",
     "start_time": "2023-09-05T16:45:42.527927200Z"
    }
   }
  },
  {
   "cell_type": "code",
   "execution_count": 34,
   "outputs": [
    {
     "data": {
      "text/plain": "                     date     open     high      low       close     volume  \\\n0     2021-11-24 14:00:00  159.380  159.703  158.862  159.233753  3513469.0   \n1     2021-11-24 14:00:00  200.275  200.447  199.045  199.784352   633438.0   \n2     2021-11-24 14:00:00  115.857  116.068  115.399  115.597929   212791.0   \n3     2021-11-24 14:00:00  375.023  376.450  370.563  373.488099  2501580.0   \n4     2021-11-24 14:00:00   16.599   16.628   16.523   16.555881  2472015.0   \n...                   ...      ...      ...      ...         ...        ...   \n93085 2023-08-31 15:00:00  147.220  147.350  147.020  147.108787   190191.0   \n93086 2023-08-31 15:00:00  188.500  189.060  188.495  188.865471  2997398.0   \n93087 2023-08-31 15:00:00   93.880   93.995   93.790   93.899219   282205.0   \n93088 2023-08-31 15:00:00   59.955   60.000   59.940   60.017765   942197.0   \n93089 2023-08-31 15:00:00  246.070  246.155  245.590  245.920134   233902.0   \n\n        tic  day      macd     boll_ub  ...     rsi_30      cci_30  \\\n0      AAPL    5  0.000000  159.354924  ...   0.000000   66.666667   \n1         V    5  0.000000  159.354924  ...   0.000000   66.666667   \n2       TSM    5  0.000000  159.354924  ...   0.000000   66.666667   \n3      TSLA    5  0.000000  159.354924  ...   0.000000   66.666667   \n4         T    5  0.000000  159.354924  ...   0.000000   66.666667   \n...     ...  ...       ...         ...  ...        ...         ...   \n93085  ABBV    6  0.086125  148.722541  ...  43.886203  -61.200572   \n93086  AAPL    6  2.132434  190.465503  ...  77.108725   94.728496   \n93087   TSM    6  0.013774   95.791165  ...  50.528099  -37.819240   \n93088    KO    6 -0.075528   60.606409  ...  39.547512 -234.859680   \n93089     V    6  0.832640  248.207617  ...  59.645252   26.510234   \n\n            dx_30  close_30_sma  close_60_sma     vix  stocktwitsPosts  \\\n0      100.000000    159.233753    159.233753  85.622            102.0   \n1      100.000000    199.784352    199.784352  85.622              8.0   \n2      100.000000    115.597929    115.597929  85.622              3.0   \n3      100.000000    373.488099    373.488099  85.622            281.0   \n4      100.000000     16.555881     16.555881  85.622              3.0   \n...           ...           ...           ...     ...              ...   \n93085    1.038597    147.564281    147.672017  21.480              1.0   \n93086   64.459904    184.096333    181.050974  21.480             48.0   \n93087    3.483295     94.301399     93.680137  21.480              3.0   \n93088   19.689448     60.388021     60.357206  21.480              1.0   \n93089    7.555786    245.404548    243.221232  21.480              4.0   \n\n       stocktwitsLikes  stocktwitsImpressions  stocktwitsSentiment  \n0                132.0               361612.0             0.532856  \n1                 11.0                15652.0             0.349343  \n2                  2.0                 8181.0             0.363286  \n3                222.0                91896.0             0.533964  \n4                  0.0                16496.0             0.409579  \n...                ...                    ...                  ...  \n93085              0.0                   30.0             0.675000  \n93086             36.0               330609.0             0.573900  \n93087              0.0                  842.0             0.677000  \n93088              0.0                   43.0             0.500000  \n93089              0.0                32958.0             0.562500  \n\n[93090 rows x 21 columns]",
      "text/html": "<div>\n<style scoped>\n    .dataframe tbody tr th:only-of-type {\n        vertical-align: middle;\n    }\n\n    .dataframe tbody tr th {\n        vertical-align: top;\n    }\n\n    .dataframe thead th {\n        text-align: right;\n    }\n</style>\n<table border=\"1\" class=\"dataframe\">\n  <thead>\n    <tr style=\"text-align: right;\">\n      <th></th>\n      <th>date</th>\n      <th>open</th>\n      <th>high</th>\n      <th>low</th>\n      <th>close</th>\n      <th>volume</th>\n      <th>tic</th>\n      <th>day</th>\n      <th>macd</th>\n      <th>boll_ub</th>\n      <th>...</th>\n      <th>rsi_30</th>\n      <th>cci_30</th>\n      <th>dx_30</th>\n      <th>close_30_sma</th>\n      <th>close_60_sma</th>\n      <th>vix</th>\n      <th>stocktwitsPosts</th>\n      <th>stocktwitsLikes</th>\n      <th>stocktwitsImpressions</th>\n      <th>stocktwitsSentiment</th>\n    </tr>\n  </thead>\n  <tbody>\n    <tr>\n      <th>0</th>\n      <td>2021-11-24 14:00:00</td>\n      <td>159.380</td>\n      <td>159.703</td>\n      <td>158.862</td>\n      <td>159.233753</td>\n      <td>3513469.0</td>\n      <td>AAPL</td>\n      <td>5</td>\n      <td>0.000000</td>\n      <td>159.354924</td>\n      <td>...</td>\n      <td>0.000000</td>\n      <td>66.666667</td>\n      <td>100.000000</td>\n      <td>159.233753</td>\n      <td>159.233753</td>\n      <td>85.622</td>\n      <td>102.0</td>\n      <td>132.0</td>\n      <td>361612.0</td>\n      <td>0.532856</td>\n    </tr>\n    <tr>\n      <th>1</th>\n      <td>2021-11-24 14:00:00</td>\n      <td>200.275</td>\n      <td>200.447</td>\n      <td>199.045</td>\n      <td>199.784352</td>\n      <td>633438.0</td>\n      <td>V</td>\n      <td>5</td>\n      <td>0.000000</td>\n      <td>159.354924</td>\n      <td>...</td>\n      <td>0.000000</td>\n      <td>66.666667</td>\n      <td>100.000000</td>\n      <td>199.784352</td>\n      <td>199.784352</td>\n      <td>85.622</td>\n      <td>8.0</td>\n      <td>11.0</td>\n      <td>15652.0</td>\n      <td>0.349343</td>\n    </tr>\n    <tr>\n      <th>2</th>\n      <td>2021-11-24 14:00:00</td>\n      <td>115.857</td>\n      <td>116.068</td>\n      <td>115.399</td>\n      <td>115.597929</td>\n      <td>212791.0</td>\n      <td>TSM</td>\n      <td>5</td>\n      <td>0.000000</td>\n      <td>159.354924</td>\n      <td>...</td>\n      <td>0.000000</td>\n      <td>66.666667</td>\n      <td>100.000000</td>\n      <td>115.597929</td>\n      <td>115.597929</td>\n      <td>85.622</td>\n      <td>3.0</td>\n      <td>2.0</td>\n      <td>8181.0</td>\n      <td>0.363286</td>\n    </tr>\n    <tr>\n      <th>3</th>\n      <td>2021-11-24 14:00:00</td>\n      <td>375.023</td>\n      <td>376.450</td>\n      <td>370.563</td>\n      <td>373.488099</td>\n      <td>2501580.0</td>\n      <td>TSLA</td>\n      <td>5</td>\n      <td>0.000000</td>\n      <td>159.354924</td>\n      <td>...</td>\n      <td>0.000000</td>\n      <td>66.666667</td>\n      <td>100.000000</td>\n      <td>373.488099</td>\n      <td>373.488099</td>\n      <td>85.622</td>\n      <td>281.0</td>\n      <td>222.0</td>\n      <td>91896.0</td>\n      <td>0.533964</td>\n    </tr>\n    <tr>\n      <th>4</th>\n      <td>2021-11-24 14:00:00</td>\n      <td>16.599</td>\n      <td>16.628</td>\n      <td>16.523</td>\n      <td>16.555881</td>\n      <td>2472015.0</td>\n      <td>T</td>\n      <td>5</td>\n      <td>0.000000</td>\n      <td>159.354924</td>\n      <td>...</td>\n      <td>0.000000</td>\n      <td>66.666667</td>\n      <td>100.000000</td>\n      <td>16.555881</td>\n      <td>16.555881</td>\n      <td>85.622</td>\n      <td>3.0</td>\n      <td>0.0</td>\n      <td>16496.0</td>\n      <td>0.409579</td>\n    </tr>\n    <tr>\n      <th>...</th>\n      <td>...</td>\n      <td>...</td>\n      <td>...</td>\n      <td>...</td>\n      <td>...</td>\n      <td>...</td>\n      <td>...</td>\n      <td>...</td>\n      <td>...</td>\n      <td>...</td>\n      <td>...</td>\n      <td>...</td>\n      <td>...</td>\n      <td>...</td>\n      <td>...</td>\n      <td>...</td>\n      <td>...</td>\n      <td>...</td>\n      <td>...</td>\n      <td>...</td>\n      <td>...</td>\n    </tr>\n    <tr>\n      <th>93085</th>\n      <td>2023-08-31 15:00:00</td>\n      <td>147.220</td>\n      <td>147.350</td>\n      <td>147.020</td>\n      <td>147.108787</td>\n      <td>190191.0</td>\n      <td>ABBV</td>\n      <td>6</td>\n      <td>0.086125</td>\n      <td>148.722541</td>\n      <td>...</td>\n      <td>43.886203</td>\n      <td>-61.200572</td>\n      <td>1.038597</td>\n      <td>147.564281</td>\n      <td>147.672017</td>\n      <td>21.480</td>\n      <td>1.0</td>\n      <td>0.0</td>\n      <td>30.0</td>\n      <td>0.675000</td>\n    </tr>\n    <tr>\n      <th>93086</th>\n      <td>2023-08-31 15:00:00</td>\n      <td>188.500</td>\n      <td>189.060</td>\n      <td>188.495</td>\n      <td>188.865471</td>\n      <td>2997398.0</td>\n      <td>AAPL</td>\n      <td>6</td>\n      <td>2.132434</td>\n      <td>190.465503</td>\n      <td>...</td>\n      <td>77.108725</td>\n      <td>94.728496</td>\n      <td>64.459904</td>\n      <td>184.096333</td>\n      <td>181.050974</td>\n      <td>21.480</td>\n      <td>48.0</td>\n      <td>36.0</td>\n      <td>330609.0</td>\n      <td>0.573900</td>\n    </tr>\n    <tr>\n      <th>93087</th>\n      <td>2023-08-31 15:00:00</td>\n      <td>93.880</td>\n      <td>93.995</td>\n      <td>93.790</td>\n      <td>93.899219</td>\n      <td>282205.0</td>\n      <td>TSM</td>\n      <td>6</td>\n      <td>0.013774</td>\n      <td>95.791165</td>\n      <td>...</td>\n      <td>50.528099</td>\n      <td>-37.819240</td>\n      <td>3.483295</td>\n      <td>94.301399</td>\n      <td>93.680137</td>\n      <td>21.480</td>\n      <td>3.0</td>\n      <td>0.0</td>\n      <td>842.0</td>\n      <td>0.677000</td>\n    </tr>\n    <tr>\n      <th>93088</th>\n      <td>2023-08-31 15:00:00</td>\n      <td>59.955</td>\n      <td>60.000</td>\n      <td>59.940</td>\n      <td>60.017765</td>\n      <td>942197.0</td>\n      <td>KO</td>\n      <td>6</td>\n      <td>-0.075528</td>\n      <td>60.606409</td>\n      <td>...</td>\n      <td>39.547512</td>\n      <td>-234.859680</td>\n      <td>19.689448</td>\n      <td>60.388021</td>\n      <td>60.357206</td>\n      <td>21.480</td>\n      <td>1.0</td>\n      <td>0.0</td>\n      <td>43.0</td>\n      <td>0.500000</td>\n    </tr>\n    <tr>\n      <th>93089</th>\n      <td>2023-08-31 15:00:00</td>\n      <td>246.070</td>\n      <td>246.155</td>\n      <td>245.590</td>\n      <td>245.920134</td>\n      <td>233902.0</td>\n      <td>V</td>\n      <td>6</td>\n      <td>0.832640</td>\n      <td>248.207617</td>\n      <td>...</td>\n      <td>59.645252</td>\n      <td>26.510234</td>\n      <td>7.555786</td>\n      <td>245.404548</td>\n      <td>243.221232</td>\n      <td>21.480</td>\n      <td>4.0</td>\n      <td>0.0</td>\n      <td>32958.0</td>\n      <td>0.562500</td>\n    </tr>\n  </tbody>\n</table>\n<p>93090 rows × 21 columns</p>\n</div>"
     },
     "execution_count": 34,
     "metadata": {},
     "output_type": "execute_result"
    }
   ],
   "source": [
    "merged_df"
   ],
   "metadata": {
    "collapsed": false,
    "ExecuteTime": {
     "end_time": "2023-09-05T16:45:47.795519200Z",
     "start_time": "2023-09-05T16:45:47.704008Z"
    }
   }
  },
  {
   "cell_type": "markdown",
   "source": [
    "# Add Random variable"
   ],
   "metadata": {
    "collapsed": false
   }
  },
  {
   "cell_type": "code",
   "execution_count": 37,
   "outputs": [
    {
     "name": "stdout",
     "output_type": "stream",
     "text": [
      "Random added into C:\\Users\\potap\\FinARL\\automatic-stock-trading-applied-reinforcement-learning-sommer-term-2023\\SLURM\\stock_data\\smoothed_finance_w_sentiment.csv!\n"
     ]
    }
   ],
   "source": [
    " # Add a new column 'random' with random values between 0 and 1\n",
    "merged_df['random'] = np.random.rand(len(merged_df))\n",
    "output_path = r'C:\\Users\\potap\\FinARL\\automatic-stock-trading-applied-reinforcement-learning-sommer-term-2023\\SLURM\\stock_data\\smoothed_finance_w_sentiment.csv'\n",
    "merged_df.to_csv(output_path, index=False)\n",
    "\n",
    "print(f\"Random added into {output_path}!\")"
   ],
   "metadata": {
    "collapsed": false,
    "ExecuteTime": {
     "end_time": "2023-09-05T16:47:25.099398200Z",
     "start_time": "2023-09-05T16:47:23.283918300Z"
    }
   }
  },
  {
   "cell_type": "code",
   "execution_count": 38,
   "outputs": [
    {
     "data": {
      "text/plain": "                     date     open     high      low       close     volume  \\\n0     2021-11-24 14:00:00  159.380  159.703  158.862  159.233753  3513469.0   \n1     2021-11-24 14:00:00  200.275  200.447  199.045  199.784352   633438.0   \n2     2021-11-24 14:00:00  115.857  116.068  115.399  115.597929   212791.0   \n3     2021-11-24 14:00:00  375.023  376.450  370.563  373.488099  2501580.0   \n4     2021-11-24 14:00:00   16.599   16.628   16.523   16.555881  2472015.0   \n...                   ...      ...      ...      ...         ...        ...   \n93085 2023-08-31 15:00:00  147.220  147.350  147.020  147.108787   190191.0   \n93086 2023-08-31 15:00:00  188.500  189.060  188.495  188.865471  2997398.0   \n93087 2023-08-31 15:00:00   93.880   93.995   93.790   93.899219   282205.0   \n93088 2023-08-31 15:00:00   59.955   60.000   59.940   60.017765   942197.0   \n93089 2023-08-31 15:00:00  246.070  246.155  245.590  245.920134   233902.0   \n\n        tic  day      macd     boll_ub  ...      cci_30       dx_30  \\\n0      AAPL    5  0.000000  159.354924  ...   66.666667  100.000000   \n1         V    5  0.000000  159.354924  ...   66.666667  100.000000   \n2       TSM    5  0.000000  159.354924  ...   66.666667  100.000000   \n3      TSLA    5  0.000000  159.354924  ...   66.666667  100.000000   \n4         T    5  0.000000  159.354924  ...   66.666667  100.000000   \n...     ...  ...       ...         ...  ...         ...         ...   \n93085  ABBV    6  0.086125  148.722541  ...  -61.200572    1.038597   \n93086  AAPL    6  2.132434  190.465503  ...   94.728496   64.459904   \n93087   TSM    6  0.013774   95.791165  ...  -37.819240    3.483295   \n93088    KO    6 -0.075528   60.606409  ... -234.859680   19.689448   \n93089     V    6  0.832640  248.207617  ...   26.510234    7.555786   \n\n       close_30_sma  close_60_sma     vix  stocktwitsPosts  stocktwitsLikes  \\\n0        159.233753    159.233753  85.622            102.0            132.0   \n1        199.784352    199.784352  85.622              8.0             11.0   \n2        115.597929    115.597929  85.622              3.0              2.0   \n3        373.488099    373.488099  85.622            281.0            222.0   \n4         16.555881     16.555881  85.622              3.0              0.0   \n...             ...           ...     ...              ...              ...   \n93085    147.564281    147.672017  21.480              1.0              0.0   \n93086    184.096333    181.050974  21.480             48.0             36.0   \n93087     94.301399     93.680137  21.480              3.0              0.0   \n93088     60.388021     60.357206  21.480              1.0              0.0   \n93089    245.404548    243.221232  21.480              4.0              0.0   \n\n       stocktwitsImpressions  stocktwitsSentiment    random  \n0                   361612.0             0.532856  0.535379  \n1                    15652.0             0.349343  0.499044  \n2                     8181.0             0.363286  0.065553  \n3                    91896.0             0.533964  0.122309  \n4                    16496.0             0.409579  0.854403  \n...                      ...                  ...       ...  \n93085                   30.0             0.675000  0.290925  \n93086               330609.0             0.573900  0.803638  \n93087                  842.0             0.677000  0.732142  \n93088                   43.0             0.500000  0.208344  \n93089                32958.0             0.562500  0.835826  \n\n[93090 rows x 22 columns]",
      "text/html": "<div>\n<style scoped>\n    .dataframe tbody tr th:only-of-type {\n        vertical-align: middle;\n    }\n\n    .dataframe tbody tr th {\n        vertical-align: top;\n    }\n\n    .dataframe thead th {\n        text-align: right;\n    }\n</style>\n<table border=\"1\" class=\"dataframe\">\n  <thead>\n    <tr style=\"text-align: right;\">\n      <th></th>\n      <th>date</th>\n      <th>open</th>\n      <th>high</th>\n      <th>low</th>\n      <th>close</th>\n      <th>volume</th>\n      <th>tic</th>\n      <th>day</th>\n      <th>macd</th>\n      <th>boll_ub</th>\n      <th>...</th>\n      <th>cci_30</th>\n      <th>dx_30</th>\n      <th>close_30_sma</th>\n      <th>close_60_sma</th>\n      <th>vix</th>\n      <th>stocktwitsPosts</th>\n      <th>stocktwitsLikes</th>\n      <th>stocktwitsImpressions</th>\n      <th>stocktwitsSentiment</th>\n      <th>random</th>\n    </tr>\n  </thead>\n  <tbody>\n    <tr>\n      <th>0</th>\n      <td>2021-11-24 14:00:00</td>\n      <td>159.380</td>\n      <td>159.703</td>\n      <td>158.862</td>\n      <td>159.233753</td>\n      <td>3513469.0</td>\n      <td>AAPL</td>\n      <td>5</td>\n      <td>0.000000</td>\n      <td>159.354924</td>\n      <td>...</td>\n      <td>66.666667</td>\n      <td>100.000000</td>\n      <td>159.233753</td>\n      <td>159.233753</td>\n      <td>85.622</td>\n      <td>102.0</td>\n      <td>132.0</td>\n      <td>361612.0</td>\n      <td>0.532856</td>\n      <td>0.535379</td>\n    </tr>\n    <tr>\n      <th>1</th>\n      <td>2021-11-24 14:00:00</td>\n      <td>200.275</td>\n      <td>200.447</td>\n      <td>199.045</td>\n      <td>199.784352</td>\n      <td>633438.0</td>\n      <td>V</td>\n      <td>5</td>\n      <td>0.000000</td>\n      <td>159.354924</td>\n      <td>...</td>\n      <td>66.666667</td>\n      <td>100.000000</td>\n      <td>199.784352</td>\n      <td>199.784352</td>\n      <td>85.622</td>\n      <td>8.0</td>\n      <td>11.0</td>\n      <td>15652.0</td>\n      <td>0.349343</td>\n      <td>0.499044</td>\n    </tr>\n    <tr>\n      <th>2</th>\n      <td>2021-11-24 14:00:00</td>\n      <td>115.857</td>\n      <td>116.068</td>\n      <td>115.399</td>\n      <td>115.597929</td>\n      <td>212791.0</td>\n      <td>TSM</td>\n      <td>5</td>\n      <td>0.000000</td>\n      <td>159.354924</td>\n      <td>...</td>\n      <td>66.666667</td>\n      <td>100.000000</td>\n      <td>115.597929</td>\n      <td>115.597929</td>\n      <td>85.622</td>\n      <td>3.0</td>\n      <td>2.0</td>\n      <td>8181.0</td>\n      <td>0.363286</td>\n      <td>0.065553</td>\n    </tr>\n    <tr>\n      <th>3</th>\n      <td>2021-11-24 14:00:00</td>\n      <td>375.023</td>\n      <td>376.450</td>\n      <td>370.563</td>\n      <td>373.488099</td>\n      <td>2501580.0</td>\n      <td>TSLA</td>\n      <td>5</td>\n      <td>0.000000</td>\n      <td>159.354924</td>\n      <td>...</td>\n      <td>66.666667</td>\n      <td>100.000000</td>\n      <td>373.488099</td>\n      <td>373.488099</td>\n      <td>85.622</td>\n      <td>281.0</td>\n      <td>222.0</td>\n      <td>91896.0</td>\n      <td>0.533964</td>\n      <td>0.122309</td>\n    </tr>\n    <tr>\n      <th>4</th>\n      <td>2021-11-24 14:00:00</td>\n      <td>16.599</td>\n      <td>16.628</td>\n      <td>16.523</td>\n      <td>16.555881</td>\n      <td>2472015.0</td>\n      <td>T</td>\n      <td>5</td>\n      <td>0.000000</td>\n      <td>159.354924</td>\n      <td>...</td>\n      <td>66.666667</td>\n      <td>100.000000</td>\n      <td>16.555881</td>\n      <td>16.555881</td>\n      <td>85.622</td>\n      <td>3.0</td>\n      <td>0.0</td>\n      <td>16496.0</td>\n      <td>0.409579</td>\n      <td>0.854403</td>\n    </tr>\n    <tr>\n      <th>...</th>\n      <td>...</td>\n      <td>...</td>\n      <td>...</td>\n      <td>...</td>\n      <td>...</td>\n      <td>...</td>\n      <td>...</td>\n      <td>...</td>\n      <td>...</td>\n      <td>...</td>\n      <td>...</td>\n      <td>...</td>\n      <td>...</td>\n      <td>...</td>\n      <td>...</td>\n      <td>...</td>\n      <td>...</td>\n      <td>...</td>\n      <td>...</td>\n      <td>...</td>\n      <td>...</td>\n    </tr>\n    <tr>\n      <th>93085</th>\n      <td>2023-08-31 15:00:00</td>\n      <td>147.220</td>\n      <td>147.350</td>\n      <td>147.020</td>\n      <td>147.108787</td>\n      <td>190191.0</td>\n      <td>ABBV</td>\n      <td>6</td>\n      <td>0.086125</td>\n      <td>148.722541</td>\n      <td>...</td>\n      <td>-61.200572</td>\n      <td>1.038597</td>\n      <td>147.564281</td>\n      <td>147.672017</td>\n      <td>21.480</td>\n      <td>1.0</td>\n      <td>0.0</td>\n      <td>30.0</td>\n      <td>0.675000</td>\n      <td>0.290925</td>\n    </tr>\n    <tr>\n      <th>93086</th>\n      <td>2023-08-31 15:00:00</td>\n      <td>188.500</td>\n      <td>189.060</td>\n      <td>188.495</td>\n      <td>188.865471</td>\n      <td>2997398.0</td>\n      <td>AAPL</td>\n      <td>6</td>\n      <td>2.132434</td>\n      <td>190.465503</td>\n      <td>...</td>\n      <td>94.728496</td>\n      <td>64.459904</td>\n      <td>184.096333</td>\n      <td>181.050974</td>\n      <td>21.480</td>\n      <td>48.0</td>\n      <td>36.0</td>\n      <td>330609.0</td>\n      <td>0.573900</td>\n      <td>0.803638</td>\n    </tr>\n    <tr>\n      <th>93087</th>\n      <td>2023-08-31 15:00:00</td>\n      <td>93.880</td>\n      <td>93.995</td>\n      <td>93.790</td>\n      <td>93.899219</td>\n      <td>282205.0</td>\n      <td>TSM</td>\n      <td>6</td>\n      <td>0.013774</td>\n      <td>95.791165</td>\n      <td>...</td>\n      <td>-37.819240</td>\n      <td>3.483295</td>\n      <td>94.301399</td>\n      <td>93.680137</td>\n      <td>21.480</td>\n      <td>3.0</td>\n      <td>0.0</td>\n      <td>842.0</td>\n      <td>0.677000</td>\n      <td>0.732142</td>\n    </tr>\n    <tr>\n      <th>93088</th>\n      <td>2023-08-31 15:00:00</td>\n      <td>59.955</td>\n      <td>60.000</td>\n      <td>59.940</td>\n      <td>60.017765</td>\n      <td>942197.0</td>\n      <td>KO</td>\n      <td>6</td>\n      <td>-0.075528</td>\n      <td>60.606409</td>\n      <td>...</td>\n      <td>-234.859680</td>\n      <td>19.689448</td>\n      <td>60.388021</td>\n      <td>60.357206</td>\n      <td>21.480</td>\n      <td>1.0</td>\n      <td>0.0</td>\n      <td>43.0</td>\n      <td>0.500000</td>\n      <td>0.208344</td>\n    </tr>\n    <tr>\n      <th>93089</th>\n      <td>2023-08-31 15:00:00</td>\n      <td>246.070</td>\n      <td>246.155</td>\n      <td>245.590</td>\n      <td>245.920134</td>\n      <td>233902.0</td>\n      <td>V</td>\n      <td>6</td>\n      <td>0.832640</td>\n      <td>248.207617</td>\n      <td>...</td>\n      <td>26.510234</td>\n      <td>7.555786</td>\n      <td>245.404548</td>\n      <td>243.221232</td>\n      <td>21.480</td>\n      <td>4.0</td>\n      <td>0.0</td>\n      <td>32958.0</td>\n      <td>0.562500</td>\n      <td>0.835826</td>\n    </tr>\n  </tbody>\n</table>\n<p>93090 rows × 22 columns</p>\n</div>"
     },
     "execution_count": 38,
     "metadata": {},
     "output_type": "execute_result"
    }
   ],
   "source": [
    "merged_df"
   ],
   "metadata": {
    "collapsed": false,
    "ExecuteTime": {
     "end_time": "2023-09-05T16:47:26.608634300Z",
     "start_time": "2023-09-05T16:47:26.544028700Z"
    }
   }
  },
  {
   "cell_type": "code",
   "execution_count": 39,
   "outputs": [
    {
     "data": {
      "text/plain": "74472"
     },
     "execution_count": 39,
     "metadata": {},
     "output_type": "execute_result"
    }
   ],
   "source": [
    "int(.8 *len(merged_df))"
   ],
   "metadata": {
    "collapsed": false,
    "ExecuteTime": {
     "end_time": "2023-09-05T16:48:08.361543Z",
     "start_time": "2023-09-05T16:48:08.311180Z"
    }
   }
  },
  {
   "cell_type": "code",
   "execution_count": 41,
   "outputs": [
    {
     "data": {
      "text/plain": "30"
     },
     "execution_count": 41,
     "metadata": {},
     "output_type": "execute_result"
    }
   ],
   "source": [
    "len(merged_df[\"tic\"].unique())"
   ],
   "metadata": {
    "collapsed": false,
    "ExecuteTime": {
     "end_time": "2023-09-05T16:48:15.484456600Z",
     "start_time": "2023-09-05T16:48:15.435728200Z"
    }
   }
  },
  {
   "cell_type": "code",
   "execution_count": 42,
   "outputs": [],
   "source": [
    "#function to find the number closest from https://www.geeksforgeeks.org/find-number-closest-n-divisible-m/\n",
    "# to n and divisible by m\n",
    "def closestNumber(n, m) :\n",
    "    # Find the quotient\n",
    "    q = int(n / m)\n",
    "     \n",
    "    # 1st possible closest number\n",
    "    n1 = m * q\n",
    "     \n",
    "    # 2nd possible closest number\n",
    "    if((n * m) > 0) :\n",
    "        n2 = (m * (q + 1))\n",
    "    else :\n",
    "        n2 = (m * (q - 1))\n",
    "     \n",
    "    # if true, then n1 is the required closest number\n",
    "    if (abs(n - n1) < abs(n - n2)) :\n",
    "        return n1\n",
    "     \n",
    "    # else n2 is the required closest number\n",
    "    return n2\n",
    "     "
   ],
   "metadata": {
    "collapsed": false,
    "ExecuteTime": {
     "end_time": "2023-09-05T16:48:24.691475100Z",
     "start_time": "2023-09-05T16:48:24.644288100Z"
    }
   }
  },
  {
   "cell_type": "code",
   "execution_count": 43,
   "outputs": [
    {
     "data": {
      "text/plain": "74460"
     },
     "execution_count": 43,
     "metadata": {},
     "output_type": "execute_result"
    }
   ],
   "source": [
    "closestNumber(int(.8 *len(merged_df)), len(merged_df[\"tic\"].unique()))"
   ],
   "metadata": {
    "collapsed": false,
    "ExecuteTime": {
     "end_time": "2023-09-05T16:48:36.849513200Z",
     "start_time": "2023-09-05T16:48:36.788136100Z"
    }
   }
  },
  {
   "cell_type": "code",
   "execution_count": 45,
   "outputs": [],
   "source": [
    "train_set, test_set= np.split(merged_df, [closestNumber(int(.8 *len(merged_df)), len(merged_df[\"tic\"].unique()))])"
   ],
   "metadata": {
    "collapsed": false,
    "ExecuteTime": {
     "end_time": "2023-09-05T16:48:55.471048700Z",
     "start_time": "2023-09-05T16:48:55.398411300Z"
    }
   }
  },
  {
   "cell_type": "code",
   "execution_count": 46,
   "outputs": [
    {
     "data": {
      "text/plain": "                     date     open     high      low       close     volume  \\\n0     2021-11-24 14:00:00  159.380  159.703  158.862  159.233753  3513469.0   \n1     2021-11-24 14:00:00  200.275  200.447  199.045  199.784352   633438.0   \n2     2021-11-24 14:00:00  115.857  116.068  115.399  115.597929   212791.0   \n3     2021-11-24 14:00:00  375.023  376.450  370.563  373.488099  2501580.0   \n4     2021-11-24 14:00:00   16.599   16.628   16.523   16.555881  2472015.0   \n...                   ...      ...      ...      ...         ...        ...   \n74455 2023-04-26 10:00:00  105.700  106.350  104.960  105.231572  5270481.0   \n74456 2023-04-26 10:00:00  333.562  334.399  331.063  332.036054   107550.0   \n74457 2023-04-26 10:00:00  136.310  136.313  134.270  134.535814   973276.0   \n74458 2023-04-26 10:00:00   63.061   63.226   62.975   63.098375   604614.0   \n74459 2023-04-26 10:00:00   46.272   46.319   45.792   45.888044  1627498.0   \n\n         tic  day      macd     boll_ub  ...      cci_30       dx_30  \\\n0       AAPL    5  0.000000  159.354924  ...   66.666667  100.000000   \n1          V    5  0.000000  159.354924  ...   66.666667  100.000000   \n2        TSM    5  0.000000  159.354924  ...   66.666667  100.000000   \n3       TSLA    5  0.000000  159.354924  ...   66.666667  100.000000   \n4          T    5  0.000000  159.354924  ...   66.666667  100.000000   \n...      ...  ...       ...         ...  ...         ...         ...   \n74455  GOOGL    1 -0.045736  106.300977  ...   24.201549   24.630657   \n74456     GS    1  0.172301  340.460147  ...  -81.684339   30.184139   \n74457    JPM    1 -0.729863  141.400204  ... -297.904638   61.316346   \n74458     KO    1 -0.024870   63.893948  ... -136.309812    0.791032   \n74459      C    1 -0.443191   48.637819  ... -242.508121   61.946063   \n\n       close_30_sma  close_60_sma     vix  stocktwitsPosts  stocktwitsLikes  \\\n0        159.233753    159.233753  85.622       102.000000            132.0   \n1        199.784352    199.784352  85.622         8.000000             11.0   \n2        115.597929    115.597929  85.622         3.000000              2.0   \n3        373.488099    373.488099  85.622       281.000000            222.0   \n4         16.555881     16.555881  85.622         3.000000              0.0   \n...             ...           ...     ...              ...              ...   \n74455    105.396618    105.551911  42.076        26.000000             49.0   \n74456    335.192930    332.631294  42.076         1.000000              0.0   \n74457    138.927547    138.493464  42.076         6.000000              8.0   \n74458     63.424252     63.126427  42.076         1.000000              0.0   \n74459     47.727124     48.059584  42.076         2.555556              0.0   \n\n       stocktwitsImpressions  stocktwitsSentiment    random  \n0              361612.000000             0.532856  0.535379  \n1               15652.000000             0.349343  0.499044  \n2                8181.000000             0.363286  0.065553  \n3               91896.000000             0.533964  0.122309  \n4               16496.000000             0.409579  0.854403  \n...                      ...                  ...       ...  \n74455           16771.000000             0.537000  0.480648  \n74456           52655.000000             0.500000  0.872529  \n74457           55498.000000             0.562700  0.672615  \n74458           10196.000000             0.546800  0.016282  \n74459            6209.666667             0.542567  0.669718  \n\n[74460 rows x 22 columns]",
      "text/html": "<div>\n<style scoped>\n    .dataframe tbody tr th:only-of-type {\n        vertical-align: middle;\n    }\n\n    .dataframe tbody tr th {\n        vertical-align: top;\n    }\n\n    .dataframe thead th {\n        text-align: right;\n    }\n</style>\n<table border=\"1\" class=\"dataframe\">\n  <thead>\n    <tr style=\"text-align: right;\">\n      <th></th>\n      <th>date</th>\n      <th>open</th>\n      <th>high</th>\n      <th>low</th>\n      <th>close</th>\n      <th>volume</th>\n      <th>tic</th>\n      <th>day</th>\n      <th>macd</th>\n      <th>boll_ub</th>\n      <th>...</th>\n      <th>cci_30</th>\n      <th>dx_30</th>\n      <th>close_30_sma</th>\n      <th>close_60_sma</th>\n      <th>vix</th>\n      <th>stocktwitsPosts</th>\n      <th>stocktwitsLikes</th>\n      <th>stocktwitsImpressions</th>\n      <th>stocktwitsSentiment</th>\n      <th>random</th>\n    </tr>\n  </thead>\n  <tbody>\n    <tr>\n      <th>0</th>\n      <td>2021-11-24 14:00:00</td>\n      <td>159.380</td>\n      <td>159.703</td>\n      <td>158.862</td>\n      <td>159.233753</td>\n      <td>3513469.0</td>\n      <td>AAPL</td>\n      <td>5</td>\n      <td>0.000000</td>\n      <td>159.354924</td>\n      <td>...</td>\n      <td>66.666667</td>\n      <td>100.000000</td>\n      <td>159.233753</td>\n      <td>159.233753</td>\n      <td>85.622</td>\n      <td>102.000000</td>\n      <td>132.0</td>\n      <td>361612.000000</td>\n      <td>0.532856</td>\n      <td>0.535379</td>\n    </tr>\n    <tr>\n      <th>1</th>\n      <td>2021-11-24 14:00:00</td>\n      <td>200.275</td>\n      <td>200.447</td>\n      <td>199.045</td>\n      <td>199.784352</td>\n      <td>633438.0</td>\n      <td>V</td>\n      <td>5</td>\n      <td>0.000000</td>\n      <td>159.354924</td>\n      <td>...</td>\n      <td>66.666667</td>\n      <td>100.000000</td>\n      <td>199.784352</td>\n      <td>199.784352</td>\n      <td>85.622</td>\n      <td>8.000000</td>\n      <td>11.0</td>\n      <td>15652.000000</td>\n      <td>0.349343</td>\n      <td>0.499044</td>\n    </tr>\n    <tr>\n      <th>2</th>\n      <td>2021-11-24 14:00:00</td>\n      <td>115.857</td>\n      <td>116.068</td>\n      <td>115.399</td>\n      <td>115.597929</td>\n      <td>212791.0</td>\n      <td>TSM</td>\n      <td>5</td>\n      <td>0.000000</td>\n      <td>159.354924</td>\n      <td>...</td>\n      <td>66.666667</td>\n      <td>100.000000</td>\n      <td>115.597929</td>\n      <td>115.597929</td>\n      <td>85.622</td>\n      <td>3.000000</td>\n      <td>2.0</td>\n      <td>8181.000000</td>\n      <td>0.363286</td>\n      <td>0.065553</td>\n    </tr>\n    <tr>\n      <th>3</th>\n      <td>2021-11-24 14:00:00</td>\n      <td>375.023</td>\n      <td>376.450</td>\n      <td>370.563</td>\n      <td>373.488099</td>\n      <td>2501580.0</td>\n      <td>TSLA</td>\n      <td>5</td>\n      <td>0.000000</td>\n      <td>159.354924</td>\n      <td>...</td>\n      <td>66.666667</td>\n      <td>100.000000</td>\n      <td>373.488099</td>\n      <td>373.488099</td>\n      <td>85.622</td>\n      <td>281.000000</td>\n      <td>222.0</td>\n      <td>91896.000000</td>\n      <td>0.533964</td>\n      <td>0.122309</td>\n    </tr>\n    <tr>\n      <th>4</th>\n      <td>2021-11-24 14:00:00</td>\n      <td>16.599</td>\n      <td>16.628</td>\n      <td>16.523</td>\n      <td>16.555881</td>\n      <td>2472015.0</td>\n      <td>T</td>\n      <td>5</td>\n      <td>0.000000</td>\n      <td>159.354924</td>\n      <td>...</td>\n      <td>66.666667</td>\n      <td>100.000000</td>\n      <td>16.555881</td>\n      <td>16.555881</td>\n      <td>85.622</td>\n      <td>3.000000</td>\n      <td>0.0</td>\n      <td>16496.000000</td>\n      <td>0.409579</td>\n      <td>0.854403</td>\n    </tr>\n    <tr>\n      <th>...</th>\n      <td>...</td>\n      <td>...</td>\n      <td>...</td>\n      <td>...</td>\n      <td>...</td>\n      <td>...</td>\n      <td>...</td>\n      <td>...</td>\n      <td>...</td>\n      <td>...</td>\n      <td>...</td>\n      <td>...</td>\n      <td>...</td>\n      <td>...</td>\n      <td>...</td>\n      <td>...</td>\n      <td>...</td>\n      <td>...</td>\n      <td>...</td>\n      <td>...</td>\n      <td>...</td>\n    </tr>\n    <tr>\n      <th>74455</th>\n      <td>2023-04-26 10:00:00</td>\n      <td>105.700</td>\n      <td>106.350</td>\n      <td>104.960</td>\n      <td>105.231572</td>\n      <td>5270481.0</td>\n      <td>GOOGL</td>\n      <td>1</td>\n      <td>-0.045736</td>\n      <td>106.300977</td>\n      <td>...</td>\n      <td>24.201549</td>\n      <td>24.630657</td>\n      <td>105.396618</td>\n      <td>105.551911</td>\n      <td>42.076</td>\n      <td>26.000000</td>\n      <td>49.0</td>\n      <td>16771.000000</td>\n      <td>0.537000</td>\n      <td>0.480648</td>\n    </tr>\n    <tr>\n      <th>74456</th>\n      <td>2023-04-26 10:00:00</td>\n      <td>333.562</td>\n      <td>334.399</td>\n      <td>331.063</td>\n      <td>332.036054</td>\n      <td>107550.0</td>\n      <td>GS</td>\n      <td>1</td>\n      <td>0.172301</td>\n      <td>340.460147</td>\n      <td>...</td>\n      <td>-81.684339</td>\n      <td>30.184139</td>\n      <td>335.192930</td>\n      <td>332.631294</td>\n      <td>42.076</td>\n      <td>1.000000</td>\n      <td>0.0</td>\n      <td>52655.000000</td>\n      <td>0.500000</td>\n      <td>0.872529</td>\n    </tr>\n    <tr>\n      <th>74457</th>\n      <td>2023-04-26 10:00:00</td>\n      <td>136.310</td>\n      <td>136.313</td>\n      <td>134.270</td>\n      <td>134.535814</td>\n      <td>973276.0</td>\n      <td>JPM</td>\n      <td>1</td>\n      <td>-0.729863</td>\n      <td>141.400204</td>\n      <td>...</td>\n      <td>-297.904638</td>\n      <td>61.316346</td>\n      <td>138.927547</td>\n      <td>138.493464</td>\n      <td>42.076</td>\n      <td>6.000000</td>\n      <td>8.0</td>\n      <td>55498.000000</td>\n      <td>0.562700</td>\n      <td>0.672615</td>\n    </tr>\n    <tr>\n      <th>74458</th>\n      <td>2023-04-26 10:00:00</td>\n      <td>63.061</td>\n      <td>63.226</td>\n      <td>62.975</td>\n      <td>63.098375</td>\n      <td>604614.0</td>\n      <td>KO</td>\n      <td>1</td>\n      <td>-0.024870</td>\n      <td>63.893948</td>\n      <td>...</td>\n      <td>-136.309812</td>\n      <td>0.791032</td>\n      <td>63.424252</td>\n      <td>63.126427</td>\n      <td>42.076</td>\n      <td>1.000000</td>\n      <td>0.0</td>\n      <td>10196.000000</td>\n      <td>0.546800</td>\n      <td>0.016282</td>\n    </tr>\n    <tr>\n      <th>74459</th>\n      <td>2023-04-26 10:00:00</td>\n      <td>46.272</td>\n      <td>46.319</td>\n      <td>45.792</td>\n      <td>45.888044</td>\n      <td>1627498.0</td>\n      <td>C</td>\n      <td>1</td>\n      <td>-0.443191</td>\n      <td>48.637819</td>\n      <td>...</td>\n      <td>-242.508121</td>\n      <td>61.946063</td>\n      <td>47.727124</td>\n      <td>48.059584</td>\n      <td>42.076</td>\n      <td>2.555556</td>\n      <td>0.0</td>\n      <td>6209.666667</td>\n      <td>0.542567</td>\n      <td>0.669718</td>\n    </tr>\n  </tbody>\n</table>\n<p>74460 rows × 22 columns</p>\n</div>"
     },
     "execution_count": 46,
     "metadata": {},
     "output_type": "execute_result"
    }
   ],
   "source": [
    "train_set"
   ],
   "metadata": {
    "collapsed": false,
    "ExecuteTime": {
     "end_time": "2023-09-05T16:48:59.054603300Z",
     "start_time": "2023-09-05T16:48:58.985432Z"
    }
   }
  },
  {
   "cell_type": "code",
   "execution_count": 47,
   "outputs": [
    {
     "data": {
      "text/plain": "                     date     open     high      low       close     volume  \\\n74460 2023-04-26 11:00:00  270.331  272.642  270.267  271.671230  2756034.0   \n74461 2023-04-26 11:00:00  294.862  295.918  294.189  295.822886  2932743.0   \n74462 2023-04-26 11:00:00   60.432   60.836   60.236   60.296483  1215421.0   \n74463 2023-04-26 11:00:00  321.470  323.390  321.470  323.499332   148410.0   \n74464 2023-04-26 11:00:00  123.596  124.040  123.549  123.630711   153010.0   \n...                   ...      ...      ...      ...         ...        ...   \n93085 2023-08-31 15:00:00  147.220  147.350  147.020  147.108787   190191.0   \n93086 2023-08-31 15:00:00  188.500  189.060  188.495  188.865471  2997398.0   \n93087 2023-08-31 15:00:00   93.880   93.995   93.790   93.899219   282205.0   \n93088 2023-08-31 15:00:00   59.955   60.000   59.940   60.017765   942197.0   \n93089 2023-08-31 15:00:00  246.070  246.155  245.590  245.920134   233902.0   \n\n        tic  day      macd     boll_ub  ...      cci_30      dx_30  \\\n74460  NVDA    2 -0.956356  273.329888  ...   36.897551  13.194210   \n74461  MSFT    2  1.222176  293.036669  ...  222.807685  40.388675   \n74462    MU    2 -0.421848   61.519807  ...   24.315353  17.975038   \n74463  NFLX    2 -1.241977  332.204165  ...  -78.627099  11.271844   \n74464   NKE    2 -0.222643  125.922390  ...  -55.169608  24.469772   \n...     ...  ...       ...         ...  ...         ...        ...   \n93085  ABBV    6  0.086125  148.722541  ...  -61.200572   1.038597   \n93086  AAPL    6  2.132434  190.465503  ...   94.728496  64.459904   \n93087   TSM    6  0.013774   95.791165  ...  -37.819240   3.483295   \n93088    KO    6 -0.075528   60.606409  ... -234.859680  19.689448   \n93089     V    6  0.832640  248.207617  ...   26.510234   7.555786   \n\n       close_30_sma  close_60_sma    vix  stocktwitsPosts  stocktwitsLikes  \\\n74460    270.038832    270.995445  40.70             19.0           18.000   \n74461    283.030714    284.566786  40.70            159.0          104.000   \n74462     60.089474     60.913769  40.70              NaN              NaN   \n74463    325.857282    328.575714  40.70              5.0            1.000   \n74464    124.237457    124.647469  40.70              1.0            4.375   \n...             ...           ...    ...              ...              ...   \n93085    147.564281    147.672017  21.48              1.0            0.000   \n93086    184.096333    181.050974  21.48             48.0           36.000   \n93087     94.301399     93.680137  21.48              3.0            0.000   \n93088     60.388021     60.357206  21.48              1.0            0.000   \n93089    245.404548    243.221232  21.48              4.0            0.000   \n\n       stocktwitsImpressions  stocktwitsSentiment    random  \n74460               68740.00             0.566800  0.089279  \n74461             1351310.00             0.536400  0.131351  \n74462                    NaN                  NaN  0.476786  \n74463                  57.00             0.489700  0.534091  \n74464                1094.75             0.569375  0.408415  \n...                      ...                  ...       ...  \n93085                  30.00             0.675000  0.290925  \n93086              330609.00             0.573900  0.803638  \n93087                 842.00             0.677000  0.732142  \n93088                  43.00             0.500000  0.208344  \n93089               32958.00             0.562500  0.835826  \n\n[18630 rows x 22 columns]",
      "text/html": "<div>\n<style scoped>\n    .dataframe tbody tr th:only-of-type {\n        vertical-align: middle;\n    }\n\n    .dataframe tbody tr th {\n        vertical-align: top;\n    }\n\n    .dataframe thead th {\n        text-align: right;\n    }\n</style>\n<table border=\"1\" class=\"dataframe\">\n  <thead>\n    <tr style=\"text-align: right;\">\n      <th></th>\n      <th>date</th>\n      <th>open</th>\n      <th>high</th>\n      <th>low</th>\n      <th>close</th>\n      <th>volume</th>\n      <th>tic</th>\n      <th>day</th>\n      <th>macd</th>\n      <th>boll_ub</th>\n      <th>...</th>\n      <th>cci_30</th>\n      <th>dx_30</th>\n      <th>close_30_sma</th>\n      <th>close_60_sma</th>\n      <th>vix</th>\n      <th>stocktwitsPosts</th>\n      <th>stocktwitsLikes</th>\n      <th>stocktwitsImpressions</th>\n      <th>stocktwitsSentiment</th>\n      <th>random</th>\n    </tr>\n  </thead>\n  <tbody>\n    <tr>\n      <th>74460</th>\n      <td>2023-04-26 11:00:00</td>\n      <td>270.331</td>\n      <td>272.642</td>\n      <td>270.267</td>\n      <td>271.671230</td>\n      <td>2756034.0</td>\n      <td>NVDA</td>\n      <td>2</td>\n      <td>-0.956356</td>\n      <td>273.329888</td>\n      <td>...</td>\n      <td>36.897551</td>\n      <td>13.194210</td>\n      <td>270.038832</td>\n      <td>270.995445</td>\n      <td>40.70</td>\n      <td>19.0</td>\n      <td>18.000</td>\n      <td>68740.00</td>\n      <td>0.566800</td>\n      <td>0.089279</td>\n    </tr>\n    <tr>\n      <th>74461</th>\n      <td>2023-04-26 11:00:00</td>\n      <td>294.862</td>\n      <td>295.918</td>\n      <td>294.189</td>\n      <td>295.822886</td>\n      <td>2932743.0</td>\n      <td>MSFT</td>\n      <td>2</td>\n      <td>1.222176</td>\n      <td>293.036669</td>\n      <td>...</td>\n      <td>222.807685</td>\n      <td>40.388675</td>\n      <td>283.030714</td>\n      <td>284.566786</td>\n      <td>40.70</td>\n      <td>159.0</td>\n      <td>104.000</td>\n      <td>1351310.00</td>\n      <td>0.536400</td>\n      <td>0.131351</td>\n    </tr>\n    <tr>\n      <th>74462</th>\n      <td>2023-04-26 11:00:00</td>\n      <td>60.432</td>\n      <td>60.836</td>\n      <td>60.236</td>\n      <td>60.296483</td>\n      <td>1215421.0</td>\n      <td>MU</td>\n      <td>2</td>\n      <td>-0.421848</td>\n      <td>61.519807</td>\n      <td>...</td>\n      <td>24.315353</td>\n      <td>17.975038</td>\n      <td>60.089474</td>\n      <td>60.913769</td>\n      <td>40.70</td>\n      <td>NaN</td>\n      <td>NaN</td>\n      <td>NaN</td>\n      <td>NaN</td>\n      <td>0.476786</td>\n    </tr>\n    <tr>\n      <th>74463</th>\n      <td>2023-04-26 11:00:00</td>\n      <td>321.470</td>\n      <td>323.390</td>\n      <td>321.470</td>\n      <td>323.499332</td>\n      <td>148410.0</td>\n      <td>NFLX</td>\n      <td>2</td>\n      <td>-1.241977</td>\n      <td>332.204165</td>\n      <td>...</td>\n      <td>-78.627099</td>\n      <td>11.271844</td>\n      <td>325.857282</td>\n      <td>328.575714</td>\n      <td>40.70</td>\n      <td>5.0</td>\n      <td>1.000</td>\n      <td>57.00</td>\n      <td>0.489700</td>\n      <td>0.534091</td>\n    </tr>\n    <tr>\n      <th>74464</th>\n      <td>2023-04-26 11:00:00</td>\n      <td>123.596</td>\n      <td>124.040</td>\n      <td>123.549</td>\n      <td>123.630711</td>\n      <td>153010.0</td>\n      <td>NKE</td>\n      <td>2</td>\n      <td>-0.222643</td>\n      <td>125.922390</td>\n      <td>...</td>\n      <td>-55.169608</td>\n      <td>24.469772</td>\n      <td>124.237457</td>\n      <td>124.647469</td>\n      <td>40.70</td>\n      <td>1.0</td>\n      <td>4.375</td>\n      <td>1094.75</td>\n      <td>0.569375</td>\n      <td>0.408415</td>\n    </tr>\n    <tr>\n      <th>...</th>\n      <td>...</td>\n      <td>...</td>\n      <td>...</td>\n      <td>...</td>\n      <td>...</td>\n      <td>...</td>\n      <td>...</td>\n      <td>...</td>\n      <td>...</td>\n      <td>...</td>\n      <td>...</td>\n      <td>...</td>\n      <td>...</td>\n      <td>...</td>\n      <td>...</td>\n      <td>...</td>\n      <td>...</td>\n      <td>...</td>\n      <td>...</td>\n      <td>...</td>\n      <td>...</td>\n    </tr>\n    <tr>\n      <th>93085</th>\n      <td>2023-08-31 15:00:00</td>\n      <td>147.220</td>\n      <td>147.350</td>\n      <td>147.020</td>\n      <td>147.108787</td>\n      <td>190191.0</td>\n      <td>ABBV</td>\n      <td>6</td>\n      <td>0.086125</td>\n      <td>148.722541</td>\n      <td>...</td>\n      <td>-61.200572</td>\n      <td>1.038597</td>\n      <td>147.564281</td>\n      <td>147.672017</td>\n      <td>21.48</td>\n      <td>1.0</td>\n      <td>0.000</td>\n      <td>30.00</td>\n      <td>0.675000</td>\n      <td>0.290925</td>\n    </tr>\n    <tr>\n      <th>93086</th>\n      <td>2023-08-31 15:00:00</td>\n      <td>188.500</td>\n      <td>189.060</td>\n      <td>188.495</td>\n      <td>188.865471</td>\n      <td>2997398.0</td>\n      <td>AAPL</td>\n      <td>6</td>\n      <td>2.132434</td>\n      <td>190.465503</td>\n      <td>...</td>\n      <td>94.728496</td>\n      <td>64.459904</td>\n      <td>184.096333</td>\n      <td>181.050974</td>\n      <td>21.48</td>\n      <td>48.0</td>\n      <td>36.000</td>\n      <td>330609.00</td>\n      <td>0.573900</td>\n      <td>0.803638</td>\n    </tr>\n    <tr>\n      <th>93087</th>\n      <td>2023-08-31 15:00:00</td>\n      <td>93.880</td>\n      <td>93.995</td>\n      <td>93.790</td>\n      <td>93.899219</td>\n      <td>282205.0</td>\n      <td>TSM</td>\n      <td>6</td>\n      <td>0.013774</td>\n      <td>95.791165</td>\n      <td>...</td>\n      <td>-37.819240</td>\n      <td>3.483295</td>\n      <td>94.301399</td>\n      <td>93.680137</td>\n      <td>21.48</td>\n      <td>3.0</td>\n      <td>0.000</td>\n      <td>842.00</td>\n      <td>0.677000</td>\n      <td>0.732142</td>\n    </tr>\n    <tr>\n      <th>93088</th>\n      <td>2023-08-31 15:00:00</td>\n      <td>59.955</td>\n      <td>60.000</td>\n      <td>59.940</td>\n      <td>60.017765</td>\n      <td>942197.0</td>\n      <td>KO</td>\n      <td>6</td>\n      <td>-0.075528</td>\n      <td>60.606409</td>\n      <td>...</td>\n      <td>-234.859680</td>\n      <td>19.689448</td>\n      <td>60.388021</td>\n      <td>60.357206</td>\n      <td>21.48</td>\n      <td>1.0</td>\n      <td>0.000</td>\n      <td>43.00</td>\n      <td>0.500000</td>\n      <td>0.208344</td>\n    </tr>\n    <tr>\n      <th>93089</th>\n      <td>2023-08-31 15:00:00</td>\n      <td>246.070</td>\n      <td>246.155</td>\n      <td>245.590</td>\n      <td>245.920134</td>\n      <td>233902.0</td>\n      <td>V</td>\n      <td>6</td>\n      <td>0.832640</td>\n      <td>248.207617</td>\n      <td>...</td>\n      <td>26.510234</td>\n      <td>7.555786</td>\n      <td>245.404548</td>\n      <td>243.221232</td>\n      <td>21.48</td>\n      <td>4.0</td>\n      <td>0.000</td>\n      <td>32958.00</td>\n      <td>0.562500</td>\n      <td>0.835826</td>\n    </tr>\n  </tbody>\n</table>\n<p>18630 rows × 22 columns</p>\n</div>"
     },
     "execution_count": 47,
     "metadata": {},
     "output_type": "execute_result"
    }
   ],
   "source": [
    "test_set"
   ],
   "metadata": {
    "collapsed": false,
    "ExecuteTime": {
     "end_time": "2023-09-05T16:49:10.516783700Z",
     "start_time": "2023-09-05T16:49:10.441373500Z"
    }
   }
  },
  {
   "cell_type": "code",
   "execution_count": 48,
   "outputs": [],
   "source": [
    "output_path_train = r'C:\\Users\\potap\\FinARL\\automatic-stock-trading-applied-reinforcement-learning-sommer-term-2023\\SLURM\\stock_data\\smoothed_training_data_complete.csv'\n",
    "output_path_test = r'C:\\Users\\potap\\FinARL\\automatic-stock-trading-applied-reinforcement-learning-sommer-term-2023\\SLURM\\stock_data\\smoothed_testing_data_complete.csv'\n",
    "\n",
    "train_set.to_csv(output_path_train, index=False)\n",
    "test_set.to_csv(output_path_test, index=False)"
   ],
   "metadata": {
    "collapsed": false,
    "ExecuteTime": {
     "end_time": "2023-09-05T17:06:28.601792400Z",
     "start_time": "2023-09-05T17:06:26.572378500Z"
    }
   }
  },
  {
   "cell_type": "code",
   "execution_count": null,
   "outputs": [],
   "source": [],
   "metadata": {
    "collapsed": false
   }
  }
 ],
 "metadata": {
  "kernelspec": {
   "display_name": "Python 3",
   "language": "python",
   "name": "python3"
  },
  "language_info": {
   "codemirror_mode": {
    "name": "ipython",
    "version": 2
   },
   "file_extension": ".py",
   "mimetype": "text/x-python",
   "name": "python",
   "nbconvert_exporter": "python",
   "pygments_lexer": "ipython2",
   "version": "2.7.6"
  }
 },
 "nbformat": 4,
 "nbformat_minor": 0
}
